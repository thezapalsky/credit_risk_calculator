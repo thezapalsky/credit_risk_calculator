{
 "cells": [
  {
   "cell_type": "code",
   "metadata": {
    "cell_id": "00000-761348e5-ac6d-4800-800d-2d7ce4dbea67",
    "deepnote_to_be_reexecuted": false,
    "source_hash": "78ed97fa",
    "execution_start": 1636960869736,
    "execution_millis": 6,
    "deepnote_cell_type": "code"
   },
   "source": "import pandas as pd \nimport numpy as np",
   "outputs": [],
   "execution_count": null
  },
  {
   "cell_type": "code",
   "metadata": {
    "cell_id": "00001-94dda668-fb90-467a-bf65-7bfda0c2c5ca",
    "deepnote_to_be_reexecuted": false,
    "source_hash": "802d229a",
    "execution_start": 1636960885625,
    "execution_millis": 339,
    "deepnote_cell_type": "code"
   },
   "source": "df1 = pd.read_csv('german_credit_data.csv')\ndf1.head()\ndf1.info()",
   "outputs": [
    {
     "name": "stdout",
     "text": "<class 'pandas.core.frame.DataFrame'>\nRangeIndex: 1000 entries, 0 to 999\nData columns (total 11 columns):\n #   Column            Non-Null Count  Dtype \n---  ------            --------------  ----- \n 0   Unnamed: 0        1000 non-null   int64 \n 1   Age               1000 non-null   int64 \n 2   Sex               1000 non-null   object\n 3   Job               1000 non-null   int64 \n 4   Housing           1000 non-null   object\n 5   Saving accounts   817 non-null    object\n 6   Checking account  606 non-null    object\n 7   Credit amount     1000 non-null   int64 \n 8   Duration          1000 non-null   int64 \n 9   Purpose           1000 non-null   object\n 10  Risk              1000 non-null   object\ndtypes: int64(5), object(6)\nmemory usage: 86.1+ KB\n",
     "output_type": "stream"
    }
   ],
   "execution_count": null
  },
  {
   "cell_type": "code",
   "metadata": {
    "cell_id": "00002-c20c2837-7776-4908-9f12-a0f8913307bd",
    "deepnote_to_be_reexecuted": false,
    "source_hash": "595cba97",
    "execution_start": 1636905154958,
    "execution_millis": 5,
    "deepnote_cell_type": "code"
   },
   "source": "df1 = df1.iloc[:,1:]",
   "execution_count": null,
   "outputs": []
  },
  {
   "cell_type": "code",
   "metadata": {
    "cell_id": "00003-2bc0c3dc-6e6c-445e-96a6-d80be0f404b6",
    "deepnote_to_be_reexecuted": false,
    "source_hash": "ea6c9ba",
    "execution_start": 1636905154977,
    "execution_millis": 77,
    "deepnote_cell_type": "code"
   },
   "source": "df1.head()",
   "execution_count": null,
   "outputs": [
    {
     "output_type": "execute_result",
     "execution_count": 4,
     "data": {
      "application/vnd.deepnote.dataframe.v2+json": {
       "row_count": 5,
       "column_count": 10,
       "columns": [
        {
         "name": "Age",
         "dtype": "int64",
         "stats": {
          "unique_count": 5,
          "nan_count": 0,
          "min": "22",
          "max": "67",
          "histogram": [
           {
            "bin_start": 22,
            "bin_end": 26.5,
            "count": 1
           },
           {
            "bin_start": 26.5,
            "bin_end": 31,
            "count": 0
           },
           {
            "bin_start": 31,
            "bin_end": 35.5,
            "count": 0
           },
           {
            "bin_start": 35.5,
            "bin_end": 40,
            "count": 0
           },
           {
            "bin_start": 40,
            "bin_end": 44.5,
            "count": 0
           },
           {
            "bin_start": 44.5,
            "bin_end": 49,
            "count": 1
           },
           {
            "bin_start": 49,
            "bin_end": 53.5,
            "count": 2
           },
           {
            "bin_start": 53.5,
            "bin_end": 58,
            "count": 0
           },
           {
            "bin_start": 58,
            "bin_end": 62.5,
            "count": 0
           },
           {
            "bin_start": 62.5,
            "bin_end": 67,
            "count": 1
           }
          ]
         }
        },
        {
         "name": "Sex",
         "dtype": "object",
         "stats": {
          "unique_count": 2,
          "nan_count": 0,
          "categories": [
           {
            "name": "male",
            "count": 4
           },
           {
            "name": "female",
            "count": 1
           }
          ]
         }
        },
        {
         "name": "Job",
         "dtype": "int64",
         "stats": {
          "unique_count": 2,
          "nan_count": 0,
          "min": "1",
          "max": "2",
          "histogram": [
           {
            "bin_start": 1,
            "bin_end": 1.1,
            "count": 1
           },
           {
            "bin_start": 1.1,
            "bin_end": 1.2,
            "count": 0
           },
           {
            "bin_start": 1.2,
            "bin_end": 1.3,
            "count": 0
           },
           {
            "bin_start": 1.3,
            "bin_end": 1.4,
            "count": 0
           },
           {
            "bin_start": 1.4,
            "bin_end": 1.5,
            "count": 0
           },
           {
            "bin_start": 1.5,
            "bin_end": 1.6,
            "count": 0
           },
           {
            "bin_start": 1.6,
            "bin_end": 1.7000000000000002,
            "count": 0
           },
           {
            "bin_start": 1.7000000000000002,
            "bin_end": 1.8,
            "count": 0
           },
           {
            "bin_start": 1.8,
            "bin_end": 1.9,
            "count": 0
           },
           {
            "bin_start": 1.9,
            "bin_end": 2,
            "count": 4
           }
          ]
         }
        },
        {
         "name": "Housing",
         "dtype": "object",
         "stats": {
          "unique_count": 2,
          "nan_count": 0,
          "categories": [
           {
            "name": "own",
            "count": 3
           },
           {
            "name": "free",
            "count": 2
           }
          ]
         }
        },
        {
         "name": "Saving accounts",
         "dtype": "object",
         "stats": {
          "unique_count": 1,
          "nan_count": 1,
          "categories": [
           {
            "name": "little",
            "count": 4
           },
           {
            "name": "Missing",
            "count": 1
           }
          ]
         }
        },
        {
         "name": "Checking account",
         "dtype": "object",
         "stats": {
          "unique_count": 2,
          "nan_count": 1,
          "categories": [
           {
            "name": "little",
            "count": 3
           },
           {
            "name": "moderate",
            "count": 1
           },
           {
            "name": "Missing",
            "count": 1
           }
          ]
         }
        },
        {
         "name": "Credit amount",
         "dtype": "int64",
         "stats": {
          "unique_count": 5,
          "nan_count": 0,
          "min": "1169",
          "max": "7882",
          "histogram": [
           {
            "bin_start": 1169,
            "bin_end": 1840.3,
            "count": 1
           },
           {
            "bin_start": 1840.3,
            "bin_end": 2511.6,
            "count": 1
           },
           {
            "bin_start": 2511.6,
            "bin_end": 3182.8999999999996,
            "count": 0
           },
           {
            "bin_start": 3182.8999999999996,
            "bin_end": 3854.2,
            "count": 0
           },
           {
            "bin_start": 3854.2,
            "bin_end": 4525.5,
            "count": 0
           },
           {
            "bin_start": 4525.5,
            "bin_end": 5196.799999999999,
            "count": 1
           },
           {
            "bin_start": 5196.799999999999,
            "bin_end": 5868.099999999999,
            "count": 0
           },
           {
            "bin_start": 5868.099999999999,
            "bin_end": 6539.4,
            "count": 1
           },
           {
            "bin_start": 6539.4,
            "bin_end": 7210.7,
            "count": 0
           },
           {
            "bin_start": 7210.7,
            "bin_end": 7882,
            "count": 1
           }
          ]
         }
        },
        {
         "name": "Duration",
         "dtype": "int64",
         "stats": {
          "unique_count": 5,
          "nan_count": 0,
          "min": "6",
          "max": "48",
          "histogram": [
           {
            "bin_start": 6,
            "bin_end": 10.2,
            "count": 1
           },
           {
            "bin_start": 10.2,
            "bin_end": 14.4,
            "count": 1
           },
           {
            "bin_start": 14.4,
            "bin_end": 18.6,
            "count": 0
           },
           {
            "bin_start": 18.6,
            "bin_end": 22.8,
            "count": 0
           },
           {
            "bin_start": 22.8,
            "bin_end": 27,
            "count": 1
           },
           {
            "bin_start": 27,
            "bin_end": 31.200000000000003,
            "count": 0
           },
           {
            "bin_start": 31.200000000000003,
            "bin_end": 35.400000000000006,
            "count": 0
           },
           {
            "bin_start": 35.400000000000006,
            "bin_end": 39.6,
            "count": 0
           },
           {
            "bin_start": 39.6,
            "bin_end": 43.800000000000004,
            "count": 1
           },
           {
            "bin_start": 43.800000000000004,
            "bin_end": 48,
            "count": 1
           }
          ]
         }
        },
        {
         "name": "Purpose",
         "dtype": "object",
         "stats": {
          "unique_count": 4,
          "nan_count": 0,
          "categories": [
           {
            "name": "radio/TV",
            "count": 2
           },
           {
            "name": "education",
            "count": 1
           },
           {
            "name": "2 others",
            "count": 2
           }
          ]
         }
        },
        {
         "name": "Risk",
         "dtype": "object",
         "stats": {
          "unique_count": 2,
          "nan_count": 0,
          "categories": [
           {
            "name": "good",
            "count": 3
           },
           {
            "name": "bad",
            "count": 2
           }
          ]
         }
        },
        {
         "name": "_deepnote_index_column",
         "dtype": "int64"
        }
       ],
       "rows_top": [
        {
         "Age": 67,
         "Sex": "male",
         "Job": 2,
         "Housing": "own",
         "Saving accounts": "nan",
         "Checking account": "little",
         "Credit amount": 1169,
         "Duration": 6,
         "Purpose": "radio/TV",
         "Risk": "good",
         "_deepnote_index_column": 0
        },
        {
         "Age": 22,
         "Sex": "female",
         "Job": 2,
         "Housing": "own",
         "Saving accounts": "little",
         "Checking account": "moderate",
         "Credit amount": 5951,
         "Duration": 48,
         "Purpose": "radio/TV",
         "Risk": "bad",
         "_deepnote_index_column": 1
        },
        {
         "Age": 49,
         "Sex": "male",
         "Job": 1,
         "Housing": "own",
         "Saving accounts": "little",
         "Checking account": "nan",
         "Credit amount": 2096,
         "Duration": 12,
         "Purpose": "education",
         "Risk": "good",
         "_deepnote_index_column": 2
        },
        {
         "Age": 45,
         "Sex": "male",
         "Job": 2,
         "Housing": "free",
         "Saving accounts": "little",
         "Checking account": "little",
         "Credit amount": 7882,
         "Duration": 42,
         "Purpose": "furniture/equipment",
         "Risk": "good",
         "_deepnote_index_column": 3
        },
        {
         "Age": 53,
         "Sex": "male",
         "Job": 2,
         "Housing": "free",
         "Saving accounts": "little",
         "Checking account": "little",
         "Credit amount": 4870,
         "Duration": 24,
         "Purpose": "car",
         "Risk": "bad",
         "_deepnote_index_column": 4
        }
       ],
       "rows_bottom": null
      },
      "text/plain": "   Age     Sex  Job Housing Saving accounts Checking account  Credit amount  \\\n0   67    male    2     own             NaN           little           1169   \n1   22  female    2     own          little         moderate           5951   \n2   49    male    1     own          little              NaN           2096   \n3   45    male    2    free          little           little           7882   \n4   53    male    2    free          little           little           4870   \n\n   Duration              Purpose  Risk  \n0         6             radio/TV  good  \n1        48             radio/TV   bad  \n2        12            education  good  \n3        42  furniture/equipment  good  \n4        24                  car   bad  ",
      "text/html": "<div>\n<style scoped>\n    .dataframe tbody tr th:only-of-type {\n        vertical-align: middle;\n    }\n\n    .dataframe tbody tr th {\n        vertical-align: top;\n    }\n\n    .dataframe thead th {\n        text-align: right;\n    }\n</style>\n<table border=\"1\" class=\"dataframe\">\n  <thead>\n    <tr style=\"text-align: right;\">\n      <th></th>\n      <th>Age</th>\n      <th>Sex</th>\n      <th>Job</th>\n      <th>Housing</th>\n      <th>Saving accounts</th>\n      <th>Checking account</th>\n      <th>Credit amount</th>\n      <th>Duration</th>\n      <th>Purpose</th>\n      <th>Risk</th>\n    </tr>\n  </thead>\n  <tbody>\n    <tr>\n      <th>0</th>\n      <td>67</td>\n      <td>male</td>\n      <td>2</td>\n      <td>own</td>\n      <td>NaN</td>\n      <td>little</td>\n      <td>1169</td>\n      <td>6</td>\n      <td>radio/TV</td>\n      <td>good</td>\n    </tr>\n    <tr>\n      <th>1</th>\n      <td>22</td>\n      <td>female</td>\n      <td>2</td>\n      <td>own</td>\n      <td>little</td>\n      <td>moderate</td>\n      <td>5951</td>\n      <td>48</td>\n      <td>radio/TV</td>\n      <td>bad</td>\n    </tr>\n    <tr>\n      <th>2</th>\n      <td>49</td>\n      <td>male</td>\n      <td>1</td>\n      <td>own</td>\n      <td>little</td>\n      <td>NaN</td>\n      <td>2096</td>\n      <td>12</td>\n      <td>education</td>\n      <td>good</td>\n    </tr>\n    <tr>\n      <th>3</th>\n      <td>45</td>\n      <td>male</td>\n      <td>2</td>\n      <td>free</td>\n      <td>little</td>\n      <td>little</td>\n      <td>7882</td>\n      <td>42</td>\n      <td>furniture/equipment</td>\n      <td>good</td>\n    </tr>\n    <tr>\n      <th>4</th>\n      <td>53</td>\n      <td>male</td>\n      <td>2</td>\n      <td>free</td>\n      <td>little</td>\n      <td>little</td>\n      <td>4870</td>\n      <td>24</td>\n      <td>car</td>\n      <td>bad</td>\n    </tr>\n  </tbody>\n</table>\n</div>"
     },
     "metadata": {}
    }
   ]
  },
  {
   "cell_type": "code",
   "metadata": {
    "cell_id": "00004-7333ce98-55d3-4b6c-b16d-7bd4d5410c82",
    "deepnote_to_be_reexecuted": false,
    "source_hash": "58133540",
    "execution_start": 1636905155060,
    "execution_millis": 6,
    "deepnote_cell_type": "code"
   },
   "source": "df1.columns",
   "execution_count": null,
   "outputs": [
    {
     "output_type": "execute_result",
     "execution_count": 5,
     "data": {
      "text/plain": "Index(['Age', 'Sex', 'Job', 'Housing', 'Saving accounts', 'Checking account',\n       'Credit amount', 'Duration', 'Purpose', 'Risk'],\n      dtype='object')"
     },
     "metadata": {}
    }
   ]
  },
  {
   "cell_type": "code",
   "metadata": {
    "cell_id": "00005-127b4639-1bc1-46fe-9663-6792f136a679",
    "deepnote_to_be_reexecuted": false,
    "source_hash": "b83ad358",
    "execution_start": 1636905155118,
    "execution_millis": 3,
    "deepnote_cell_type": "code"
   },
   "source": "df1.columns = ['Age','Sex', 'Job', 'Housing', 'Saving_accounts', 'Checking_account', 'Credict_amount', 'Duration', 'Purpose', 'Risk']",
   "execution_count": null,
   "outputs": []
  },
  {
   "cell_type": "code",
   "metadata": {
    "cell_id": "00006-4c7a11db-dc4b-4b86-b6c1-d660b2ace45e",
    "deepnote_to_be_reexecuted": false,
    "source_hash": "58133540",
    "execution_start": 1636905155119,
    "execution_millis": 2,
    "deepnote_cell_type": "code"
   },
   "source": "df1.columns",
   "execution_count": null,
   "outputs": [
    {
     "output_type": "execute_result",
     "execution_count": 7,
     "data": {
      "text/plain": "Index(['Age', 'Sex', 'Job', 'Housing', 'Saving_accounts', 'Checking_account',\n       'Credict_amount', 'Duration', 'Purpose', 'Risk'],\n      dtype='object')"
     },
     "metadata": {}
    }
   ]
  },
  {
   "cell_type": "code",
   "metadata": {
    "cell_id": "00007-e6a99fd5-65b3-4806-b086-b7eb6be7eea0",
    "deepnote_to_be_reexecuted": false,
    "source_hash": "a281dd21",
    "execution_start": 1636905155176,
    "execution_millis": 7,
    "deepnote_cell_type": "code"
   },
   "source": "df1.info()",
   "execution_count": null,
   "outputs": [
    {
     "name": "stdout",
     "text": "<class 'pandas.core.frame.DataFrame'>\nRangeIndex: 1000 entries, 0 to 999\nData columns (total 10 columns):\n #   Column            Non-Null Count  Dtype \n---  ------            --------------  ----- \n 0   Age               1000 non-null   int64 \n 1   Sex               1000 non-null   object\n 2   Job               1000 non-null   int64 \n 3   Housing           1000 non-null   object\n 4   Saving_accounts   817 non-null    object\n 5   Checking_account  606 non-null    object\n 6   Credict_amount    1000 non-null   int64 \n 7   Duration          1000 non-null   int64 \n 8   Purpose           1000 non-null   object\n 9   Risk              1000 non-null   object\ndtypes: int64(4), object(6)\nmemory usage: 78.2+ KB\n",
     "output_type": "stream"
    }
   ]
  },
  {
   "cell_type": "code",
   "metadata": {
    "cell_id": "00008-ec86f8e1-172b-4284-8a59-1601cbbf9d08",
    "deepnote_to_be_reexecuted": false,
    "source_hash": "3070ac8a",
    "execution_start": 1636905155177,
    "execution_millis": 30,
    "deepnote_cell_type": "code"
   },
   "source": "#Takig care of NaN values by pandas\ndf1 = df1.fillna(df1.mode().iloc[0])",
   "execution_count": null,
   "outputs": []
  },
  {
   "cell_type": "code",
   "metadata": {
    "cell_id": "00009-d456a847-70f3-4543-a549-25ec850b51bb",
    "deepnote_to_be_reexecuted": false,
    "source_hash": "a281dd21",
    "execution_start": 1636905155207,
    "execution_millis": 29,
    "deepnote_cell_type": "code"
   },
   "source": "df1.info()",
   "execution_count": null,
   "outputs": [
    {
     "name": "stdout",
     "text": "<class 'pandas.core.frame.DataFrame'>\nRangeIndex: 1000 entries, 0 to 999\nData columns (total 10 columns):\n #   Column            Non-Null Count  Dtype \n---  ------            --------------  ----- \n 0   Age               1000 non-null   int64 \n 1   Sex               1000 non-null   object\n 2   Job               1000 non-null   int64 \n 3   Housing           1000 non-null   object\n 4   Saving_accounts   1000 non-null   object\n 5   Checking_account  1000 non-null   object\n 6   Credict_amount    1000 non-null   int64 \n 7   Duration          1000 non-null   int64 \n 8   Purpose           1000 non-null   object\n 9   Risk              1000 non-null   object\ndtypes: int64(4), object(6)\nmemory usage: 78.2+ KB\n",
     "output_type": "stream"
    }
   ]
  },
  {
   "cell_type": "code",
   "metadata": {
    "cell_id": "00010-12b04a93-c32c-44a3-8e8d-e77177444f70",
    "deepnote_to_be_reexecuted": false,
    "source_hash": "ea6c9ba",
    "execution_start": 1636905155329,
    "execution_millis": 1,
    "deepnote_cell_type": "code"
   },
   "source": "df1.head()",
   "execution_count": null,
   "outputs": [
    {
     "output_type": "execute_result",
     "execution_count": 11,
     "data": {
      "application/vnd.deepnote.dataframe.v2+json": {
       "row_count": 5,
       "column_count": 10,
       "columns": [
        {
         "name": "Age",
         "dtype": "int64",
         "stats": {
          "unique_count": 5,
          "nan_count": 0,
          "min": "22",
          "max": "67",
          "histogram": [
           {
            "bin_start": 22,
            "bin_end": 26.5,
            "count": 1
           },
           {
            "bin_start": 26.5,
            "bin_end": 31,
            "count": 0
           },
           {
            "bin_start": 31,
            "bin_end": 35.5,
            "count": 0
           },
           {
            "bin_start": 35.5,
            "bin_end": 40,
            "count": 0
           },
           {
            "bin_start": 40,
            "bin_end": 44.5,
            "count": 0
           },
           {
            "bin_start": 44.5,
            "bin_end": 49,
            "count": 1
           },
           {
            "bin_start": 49,
            "bin_end": 53.5,
            "count": 2
           },
           {
            "bin_start": 53.5,
            "bin_end": 58,
            "count": 0
           },
           {
            "bin_start": 58,
            "bin_end": 62.5,
            "count": 0
           },
           {
            "bin_start": 62.5,
            "bin_end": 67,
            "count": 1
           }
          ]
         }
        },
        {
         "name": "Sex",
         "dtype": "object",
         "stats": {
          "unique_count": 2,
          "nan_count": 0,
          "categories": [
           {
            "name": "male",
            "count": 4
           },
           {
            "name": "female",
            "count": 1
           }
          ]
         }
        },
        {
         "name": "Job",
         "dtype": "int64",
         "stats": {
          "unique_count": 2,
          "nan_count": 0,
          "min": "1",
          "max": "2",
          "histogram": [
           {
            "bin_start": 1,
            "bin_end": 1.1,
            "count": 1
           },
           {
            "bin_start": 1.1,
            "bin_end": 1.2,
            "count": 0
           },
           {
            "bin_start": 1.2,
            "bin_end": 1.3,
            "count": 0
           },
           {
            "bin_start": 1.3,
            "bin_end": 1.4,
            "count": 0
           },
           {
            "bin_start": 1.4,
            "bin_end": 1.5,
            "count": 0
           },
           {
            "bin_start": 1.5,
            "bin_end": 1.6,
            "count": 0
           },
           {
            "bin_start": 1.6,
            "bin_end": 1.7000000000000002,
            "count": 0
           },
           {
            "bin_start": 1.7000000000000002,
            "bin_end": 1.8,
            "count": 0
           },
           {
            "bin_start": 1.8,
            "bin_end": 1.9,
            "count": 0
           },
           {
            "bin_start": 1.9,
            "bin_end": 2,
            "count": 4
           }
          ]
         }
        },
        {
         "name": "Housing",
         "dtype": "object",
         "stats": {
          "unique_count": 2,
          "nan_count": 0,
          "categories": [
           {
            "name": "own",
            "count": 3
           },
           {
            "name": "free",
            "count": 2
           }
          ]
         }
        },
        {
         "name": "Saving_accounts",
         "dtype": "object",
         "stats": {
          "unique_count": 1,
          "nan_count": 0,
          "categories": [
           {
            "name": "little",
            "count": 5
           }
          ]
         }
        },
        {
         "name": "Checking_account",
         "dtype": "object",
         "stats": {
          "unique_count": 2,
          "nan_count": 0,
          "categories": [
           {
            "name": "little",
            "count": 4
           },
           {
            "name": "moderate",
            "count": 1
           }
          ]
         }
        },
        {
         "name": "Credict_amount",
         "dtype": "int64",
         "stats": {
          "unique_count": 5,
          "nan_count": 0,
          "min": "1169",
          "max": "7882",
          "histogram": [
           {
            "bin_start": 1169,
            "bin_end": 1840.3,
            "count": 1
           },
           {
            "bin_start": 1840.3,
            "bin_end": 2511.6,
            "count": 1
           },
           {
            "bin_start": 2511.6,
            "bin_end": 3182.8999999999996,
            "count": 0
           },
           {
            "bin_start": 3182.8999999999996,
            "bin_end": 3854.2,
            "count": 0
           },
           {
            "bin_start": 3854.2,
            "bin_end": 4525.5,
            "count": 0
           },
           {
            "bin_start": 4525.5,
            "bin_end": 5196.799999999999,
            "count": 1
           },
           {
            "bin_start": 5196.799999999999,
            "bin_end": 5868.099999999999,
            "count": 0
           },
           {
            "bin_start": 5868.099999999999,
            "bin_end": 6539.4,
            "count": 1
           },
           {
            "bin_start": 6539.4,
            "bin_end": 7210.7,
            "count": 0
           },
           {
            "bin_start": 7210.7,
            "bin_end": 7882,
            "count": 1
           }
          ]
         }
        },
        {
         "name": "Duration",
         "dtype": "int64",
         "stats": {
          "unique_count": 5,
          "nan_count": 0,
          "min": "6",
          "max": "48",
          "histogram": [
           {
            "bin_start": 6,
            "bin_end": 10.2,
            "count": 1
           },
           {
            "bin_start": 10.2,
            "bin_end": 14.4,
            "count": 1
           },
           {
            "bin_start": 14.4,
            "bin_end": 18.6,
            "count": 0
           },
           {
            "bin_start": 18.6,
            "bin_end": 22.8,
            "count": 0
           },
           {
            "bin_start": 22.8,
            "bin_end": 27,
            "count": 1
           },
           {
            "bin_start": 27,
            "bin_end": 31.200000000000003,
            "count": 0
           },
           {
            "bin_start": 31.200000000000003,
            "bin_end": 35.400000000000006,
            "count": 0
           },
           {
            "bin_start": 35.400000000000006,
            "bin_end": 39.6,
            "count": 0
           },
           {
            "bin_start": 39.6,
            "bin_end": 43.800000000000004,
            "count": 1
           },
           {
            "bin_start": 43.800000000000004,
            "bin_end": 48,
            "count": 1
           }
          ]
         }
        },
        {
         "name": "Purpose",
         "dtype": "object",
         "stats": {
          "unique_count": 4,
          "nan_count": 0,
          "categories": [
           {
            "name": "radio/TV",
            "count": 2
           },
           {
            "name": "education",
            "count": 1
           },
           {
            "name": "2 others",
            "count": 2
           }
          ]
         }
        },
        {
         "name": "Risk",
         "dtype": "object",
         "stats": {
          "unique_count": 2,
          "nan_count": 0,
          "categories": [
           {
            "name": "good",
            "count": 3
           },
           {
            "name": "bad",
            "count": 2
           }
          ]
         }
        },
        {
         "name": "_deepnote_index_column",
         "dtype": "int64"
        }
       ],
       "rows_top": [
        {
         "Age": 67,
         "Sex": "male",
         "Job": 2,
         "Housing": "own",
         "Saving_accounts": "little",
         "Checking_account": "little",
         "Credict_amount": 1169,
         "Duration": 6,
         "Purpose": "radio/TV",
         "Risk": "good",
         "_deepnote_index_column": 0
        },
        {
         "Age": 22,
         "Sex": "female",
         "Job": 2,
         "Housing": "own",
         "Saving_accounts": "little",
         "Checking_account": "moderate",
         "Credict_amount": 5951,
         "Duration": 48,
         "Purpose": "radio/TV",
         "Risk": "bad",
         "_deepnote_index_column": 1
        },
        {
         "Age": 49,
         "Sex": "male",
         "Job": 1,
         "Housing": "own",
         "Saving_accounts": "little",
         "Checking_account": "little",
         "Credict_amount": 2096,
         "Duration": 12,
         "Purpose": "education",
         "Risk": "good",
         "_deepnote_index_column": 2
        },
        {
         "Age": 45,
         "Sex": "male",
         "Job": 2,
         "Housing": "free",
         "Saving_accounts": "little",
         "Checking_account": "little",
         "Credict_amount": 7882,
         "Duration": 42,
         "Purpose": "furniture/equipment",
         "Risk": "good",
         "_deepnote_index_column": 3
        },
        {
         "Age": 53,
         "Sex": "male",
         "Job": 2,
         "Housing": "free",
         "Saving_accounts": "little",
         "Checking_account": "little",
         "Credict_amount": 4870,
         "Duration": 24,
         "Purpose": "car",
         "Risk": "bad",
         "_deepnote_index_column": 4
        }
       ],
       "rows_bottom": null
      },
      "text/plain": "   Age     Sex  Job Housing Saving_accounts Checking_account  Credict_amount  \\\n0   67    male    2     own          little           little            1169   \n1   22  female    2     own          little         moderate            5951   \n2   49    male    1     own          little           little            2096   \n3   45    male    2    free          little           little            7882   \n4   53    male    2    free          little           little            4870   \n\n   Duration              Purpose  Risk  \n0         6             radio/TV  good  \n1        48             radio/TV   bad  \n2        12            education  good  \n3        42  furniture/equipment  good  \n4        24                  car   bad  ",
      "text/html": "<div>\n<style scoped>\n    .dataframe tbody tr th:only-of-type {\n        vertical-align: middle;\n    }\n\n    .dataframe tbody tr th {\n        vertical-align: top;\n    }\n\n    .dataframe thead th {\n        text-align: right;\n    }\n</style>\n<table border=\"1\" class=\"dataframe\">\n  <thead>\n    <tr style=\"text-align: right;\">\n      <th></th>\n      <th>Age</th>\n      <th>Sex</th>\n      <th>Job</th>\n      <th>Housing</th>\n      <th>Saving_accounts</th>\n      <th>Checking_account</th>\n      <th>Credict_amount</th>\n      <th>Duration</th>\n      <th>Purpose</th>\n      <th>Risk</th>\n    </tr>\n  </thead>\n  <tbody>\n    <tr>\n      <th>0</th>\n      <td>67</td>\n      <td>male</td>\n      <td>2</td>\n      <td>own</td>\n      <td>little</td>\n      <td>little</td>\n      <td>1169</td>\n      <td>6</td>\n      <td>radio/TV</td>\n      <td>good</td>\n    </tr>\n    <tr>\n      <th>1</th>\n      <td>22</td>\n      <td>female</td>\n      <td>2</td>\n      <td>own</td>\n      <td>little</td>\n      <td>moderate</td>\n      <td>5951</td>\n      <td>48</td>\n      <td>radio/TV</td>\n      <td>bad</td>\n    </tr>\n    <tr>\n      <th>2</th>\n      <td>49</td>\n      <td>male</td>\n      <td>1</td>\n      <td>own</td>\n      <td>little</td>\n      <td>little</td>\n      <td>2096</td>\n      <td>12</td>\n      <td>education</td>\n      <td>good</td>\n    </tr>\n    <tr>\n      <th>3</th>\n      <td>45</td>\n      <td>male</td>\n      <td>2</td>\n      <td>free</td>\n      <td>little</td>\n      <td>little</td>\n      <td>7882</td>\n      <td>42</td>\n      <td>furniture/equipment</td>\n      <td>good</td>\n    </tr>\n    <tr>\n      <th>4</th>\n      <td>53</td>\n      <td>male</td>\n      <td>2</td>\n      <td>free</td>\n      <td>little</td>\n      <td>little</td>\n      <td>4870</td>\n      <td>24</td>\n      <td>car</td>\n      <td>bad</td>\n    </tr>\n  </tbody>\n</table>\n</div>"
     },
     "metadata": {}
    }
   ]
  },
  {
   "cell_type": "code",
   "metadata": {
    "cell_id": "00011-f672491c-d79f-46bc-b2cf-8c3fe5c4d404",
    "deepnote_to_be_reexecuted": false,
    "source_hash": "71a0c6b7",
    "execution_start": 1636905155386,
    "execution_millis": 96,
    "deepnote_cell_type": "code"
   },
   "source": "X = df1.iloc[:,:-1]\ny = df1.iloc[:,-1].values\nX.head()",
   "execution_count": null,
   "outputs": [
    {
     "output_type": "execute_result",
     "execution_count": 12,
     "data": {
      "application/vnd.deepnote.dataframe.v2+json": {
       "row_count": 5,
       "column_count": 9,
       "columns": [
        {
         "name": "Age",
         "dtype": "int64",
         "stats": {
          "unique_count": 5,
          "nan_count": 0,
          "min": "22",
          "max": "67",
          "histogram": [
           {
            "bin_start": 22,
            "bin_end": 26.5,
            "count": 1
           },
           {
            "bin_start": 26.5,
            "bin_end": 31,
            "count": 0
           },
           {
            "bin_start": 31,
            "bin_end": 35.5,
            "count": 0
           },
           {
            "bin_start": 35.5,
            "bin_end": 40,
            "count": 0
           },
           {
            "bin_start": 40,
            "bin_end": 44.5,
            "count": 0
           },
           {
            "bin_start": 44.5,
            "bin_end": 49,
            "count": 1
           },
           {
            "bin_start": 49,
            "bin_end": 53.5,
            "count": 2
           },
           {
            "bin_start": 53.5,
            "bin_end": 58,
            "count": 0
           },
           {
            "bin_start": 58,
            "bin_end": 62.5,
            "count": 0
           },
           {
            "bin_start": 62.5,
            "bin_end": 67,
            "count": 1
           }
          ]
         }
        },
        {
         "name": "Sex",
         "dtype": "object",
         "stats": {
          "unique_count": 2,
          "nan_count": 0,
          "categories": [
           {
            "name": "male",
            "count": 4
           },
           {
            "name": "female",
            "count": 1
           }
          ]
         }
        },
        {
         "name": "Job",
         "dtype": "int64",
         "stats": {
          "unique_count": 2,
          "nan_count": 0,
          "min": "1",
          "max": "2",
          "histogram": [
           {
            "bin_start": 1,
            "bin_end": 1.1,
            "count": 1
           },
           {
            "bin_start": 1.1,
            "bin_end": 1.2,
            "count": 0
           },
           {
            "bin_start": 1.2,
            "bin_end": 1.3,
            "count": 0
           },
           {
            "bin_start": 1.3,
            "bin_end": 1.4,
            "count": 0
           },
           {
            "bin_start": 1.4,
            "bin_end": 1.5,
            "count": 0
           },
           {
            "bin_start": 1.5,
            "bin_end": 1.6,
            "count": 0
           },
           {
            "bin_start": 1.6,
            "bin_end": 1.7000000000000002,
            "count": 0
           },
           {
            "bin_start": 1.7000000000000002,
            "bin_end": 1.8,
            "count": 0
           },
           {
            "bin_start": 1.8,
            "bin_end": 1.9,
            "count": 0
           },
           {
            "bin_start": 1.9,
            "bin_end": 2,
            "count": 4
           }
          ]
         }
        },
        {
         "name": "Housing",
         "dtype": "object",
         "stats": {
          "unique_count": 2,
          "nan_count": 0,
          "categories": [
           {
            "name": "own",
            "count": 3
           },
           {
            "name": "free",
            "count": 2
           }
          ]
         }
        },
        {
         "name": "Saving_accounts",
         "dtype": "object",
         "stats": {
          "unique_count": 1,
          "nan_count": 0,
          "categories": [
           {
            "name": "little",
            "count": 5
           }
          ]
         }
        },
        {
         "name": "Checking_account",
         "dtype": "object",
         "stats": {
          "unique_count": 2,
          "nan_count": 0,
          "categories": [
           {
            "name": "little",
            "count": 4
           },
           {
            "name": "moderate",
            "count": 1
           }
          ]
         }
        },
        {
         "name": "Credict_amount",
         "dtype": "int64",
         "stats": {
          "unique_count": 5,
          "nan_count": 0,
          "min": "1169",
          "max": "7882",
          "histogram": [
           {
            "bin_start": 1169,
            "bin_end": 1840.3,
            "count": 1
           },
           {
            "bin_start": 1840.3,
            "bin_end": 2511.6,
            "count": 1
           },
           {
            "bin_start": 2511.6,
            "bin_end": 3182.8999999999996,
            "count": 0
           },
           {
            "bin_start": 3182.8999999999996,
            "bin_end": 3854.2,
            "count": 0
           },
           {
            "bin_start": 3854.2,
            "bin_end": 4525.5,
            "count": 0
           },
           {
            "bin_start": 4525.5,
            "bin_end": 5196.799999999999,
            "count": 1
           },
           {
            "bin_start": 5196.799999999999,
            "bin_end": 5868.099999999999,
            "count": 0
           },
           {
            "bin_start": 5868.099999999999,
            "bin_end": 6539.4,
            "count": 1
           },
           {
            "bin_start": 6539.4,
            "bin_end": 7210.7,
            "count": 0
           },
           {
            "bin_start": 7210.7,
            "bin_end": 7882,
            "count": 1
           }
          ]
         }
        },
        {
         "name": "Duration",
         "dtype": "int64",
         "stats": {
          "unique_count": 5,
          "nan_count": 0,
          "min": "6",
          "max": "48",
          "histogram": [
           {
            "bin_start": 6,
            "bin_end": 10.2,
            "count": 1
           },
           {
            "bin_start": 10.2,
            "bin_end": 14.4,
            "count": 1
           },
           {
            "bin_start": 14.4,
            "bin_end": 18.6,
            "count": 0
           },
           {
            "bin_start": 18.6,
            "bin_end": 22.8,
            "count": 0
           },
           {
            "bin_start": 22.8,
            "bin_end": 27,
            "count": 1
           },
           {
            "bin_start": 27,
            "bin_end": 31.200000000000003,
            "count": 0
           },
           {
            "bin_start": 31.200000000000003,
            "bin_end": 35.400000000000006,
            "count": 0
           },
           {
            "bin_start": 35.400000000000006,
            "bin_end": 39.6,
            "count": 0
           },
           {
            "bin_start": 39.6,
            "bin_end": 43.800000000000004,
            "count": 1
           },
           {
            "bin_start": 43.800000000000004,
            "bin_end": 48,
            "count": 1
           }
          ]
         }
        },
        {
         "name": "Purpose",
         "dtype": "object",
         "stats": {
          "unique_count": 4,
          "nan_count": 0,
          "categories": [
           {
            "name": "radio/TV",
            "count": 2
           },
           {
            "name": "education",
            "count": 1
           },
           {
            "name": "2 others",
            "count": 2
           }
          ]
         }
        },
        {
         "name": "_deepnote_index_column",
         "dtype": "int64"
        }
       ],
       "rows_top": [
        {
         "Age": 67,
         "Sex": "male",
         "Job": 2,
         "Housing": "own",
         "Saving_accounts": "little",
         "Checking_account": "little",
         "Credict_amount": 1169,
         "Duration": 6,
         "Purpose": "radio/TV",
         "_deepnote_index_column": 0
        },
        {
         "Age": 22,
         "Sex": "female",
         "Job": 2,
         "Housing": "own",
         "Saving_accounts": "little",
         "Checking_account": "moderate",
         "Credict_amount": 5951,
         "Duration": 48,
         "Purpose": "radio/TV",
         "_deepnote_index_column": 1
        },
        {
         "Age": 49,
         "Sex": "male",
         "Job": 1,
         "Housing": "own",
         "Saving_accounts": "little",
         "Checking_account": "little",
         "Credict_amount": 2096,
         "Duration": 12,
         "Purpose": "education",
         "_deepnote_index_column": 2
        },
        {
         "Age": 45,
         "Sex": "male",
         "Job": 2,
         "Housing": "free",
         "Saving_accounts": "little",
         "Checking_account": "little",
         "Credict_amount": 7882,
         "Duration": 42,
         "Purpose": "furniture/equipment",
         "_deepnote_index_column": 3
        },
        {
         "Age": 53,
         "Sex": "male",
         "Job": 2,
         "Housing": "free",
         "Saving_accounts": "little",
         "Checking_account": "little",
         "Credict_amount": 4870,
         "Duration": 24,
         "Purpose": "car",
         "_deepnote_index_column": 4
        }
       ],
       "rows_bottom": null
      },
      "text/plain": "   Age     Sex  Job Housing Saving_accounts Checking_account  Credict_amount  \\\n0   67    male    2     own          little           little            1169   \n1   22  female    2     own          little         moderate            5951   \n2   49    male    1     own          little           little            2096   \n3   45    male    2    free          little           little            7882   \n4   53    male    2    free          little           little            4870   \n\n   Duration              Purpose  \n0         6             radio/TV  \n1        48             radio/TV  \n2        12            education  \n3        42  furniture/equipment  \n4        24                  car  ",
      "text/html": "<div>\n<style scoped>\n    .dataframe tbody tr th:only-of-type {\n        vertical-align: middle;\n    }\n\n    .dataframe tbody tr th {\n        vertical-align: top;\n    }\n\n    .dataframe thead th {\n        text-align: right;\n    }\n</style>\n<table border=\"1\" class=\"dataframe\">\n  <thead>\n    <tr style=\"text-align: right;\">\n      <th></th>\n      <th>Age</th>\n      <th>Sex</th>\n      <th>Job</th>\n      <th>Housing</th>\n      <th>Saving_accounts</th>\n      <th>Checking_account</th>\n      <th>Credict_amount</th>\n      <th>Duration</th>\n      <th>Purpose</th>\n    </tr>\n  </thead>\n  <tbody>\n    <tr>\n      <th>0</th>\n      <td>67</td>\n      <td>male</td>\n      <td>2</td>\n      <td>own</td>\n      <td>little</td>\n      <td>little</td>\n      <td>1169</td>\n      <td>6</td>\n      <td>radio/TV</td>\n    </tr>\n    <tr>\n      <th>1</th>\n      <td>22</td>\n      <td>female</td>\n      <td>2</td>\n      <td>own</td>\n      <td>little</td>\n      <td>moderate</td>\n      <td>5951</td>\n      <td>48</td>\n      <td>radio/TV</td>\n    </tr>\n    <tr>\n      <th>2</th>\n      <td>49</td>\n      <td>male</td>\n      <td>1</td>\n      <td>own</td>\n      <td>little</td>\n      <td>little</td>\n      <td>2096</td>\n      <td>12</td>\n      <td>education</td>\n    </tr>\n    <tr>\n      <th>3</th>\n      <td>45</td>\n      <td>male</td>\n      <td>2</td>\n      <td>free</td>\n      <td>little</td>\n      <td>little</td>\n      <td>7882</td>\n      <td>42</td>\n      <td>furniture/equipment</td>\n    </tr>\n    <tr>\n      <th>4</th>\n      <td>53</td>\n      <td>male</td>\n      <td>2</td>\n      <td>free</td>\n      <td>little</td>\n      <td>little</td>\n      <td>4870</td>\n      <td>24</td>\n      <td>car</td>\n    </tr>\n  </tbody>\n</table>\n</div>"
     },
     "metadata": {}
    }
   ]
  },
  {
   "cell_type": "code",
   "metadata": {
    "cell_id": "00012-f45ae18b-42d5-48da-be1b-84858f696697",
    "deepnote_to_be_reexecuted": false,
    "source_hash": "e89a6198",
    "execution_start": 1636905155479,
    "execution_millis": 729,
    "deepnote_cell_type": "code"
   },
   "source": "#label encdoing\nfrom sklearn.preprocessing import LabelEncoder\nL3 = LabelEncoder()",
   "execution_count": null,
   "outputs": []
  },
  {
   "cell_type": "code",
   "metadata": {
    "cell_id": "00013-b65d8338-64bc-4d6d-b337-26249446f891",
    "deepnote_to_be_reexecuted": false,
    "source_hash": "b414bc3c",
    "execution_start": 1636905156214,
    "execution_millis": 76,
    "deepnote_cell_type": "code"
   },
   "source": "y = L3.fit_transform(y)\nto_encode = [\"Housing\",\"Sex\", \"Purpose\", \"Saving_accounts\", \"Checking_account\"]\n\nencoders={}\ndef encode(df,col_name):\n    encoder = LabelEncoder().fit(df[col_name])\n    encoded_data = encoder.transform(df[col_name])\n    return encoder, encoded_data\n\nfor col in to_encode:\n    a,b = encode(df1,col)\n    X[col] = b\n    encoders[col]=a\n\nX.head()\n#le_sex.classes_\n#print(encoders[2].classes_)\n#print(list(le_sex.classes_))",
   "execution_count": null,
   "outputs": [
    {
     "output_type": "execute_result",
     "execution_count": 14,
     "data": {
      "application/vnd.deepnote.dataframe.v2+json": {
       "row_count": 5,
       "column_count": 9,
       "columns": [
        {
         "name": "Age",
         "dtype": "int64",
         "stats": {
          "unique_count": 5,
          "nan_count": 0,
          "min": "22",
          "max": "67",
          "histogram": [
           {
            "bin_start": 22,
            "bin_end": 26.5,
            "count": 1
           },
           {
            "bin_start": 26.5,
            "bin_end": 31,
            "count": 0
           },
           {
            "bin_start": 31,
            "bin_end": 35.5,
            "count": 0
           },
           {
            "bin_start": 35.5,
            "bin_end": 40,
            "count": 0
           },
           {
            "bin_start": 40,
            "bin_end": 44.5,
            "count": 0
           },
           {
            "bin_start": 44.5,
            "bin_end": 49,
            "count": 1
           },
           {
            "bin_start": 49,
            "bin_end": 53.5,
            "count": 2
           },
           {
            "bin_start": 53.5,
            "bin_end": 58,
            "count": 0
           },
           {
            "bin_start": 58,
            "bin_end": 62.5,
            "count": 0
           },
           {
            "bin_start": 62.5,
            "bin_end": 67,
            "count": 1
           }
          ]
         }
        },
        {
         "name": "Sex",
         "dtype": "int64",
         "stats": {
          "unique_count": 2,
          "nan_count": 0,
          "min": "0",
          "max": "1",
          "histogram": [
           {
            "bin_start": 0,
            "bin_end": 0.1,
            "count": 1
           },
           {
            "bin_start": 0.1,
            "bin_end": 0.2,
            "count": 0
           },
           {
            "bin_start": 0.2,
            "bin_end": 0.30000000000000004,
            "count": 0
           },
           {
            "bin_start": 0.30000000000000004,
            "bin_end": 0.4,
            "count": 0
           },
           {
            "bin_start": 0.4,
            "bin_end": 0.5,
            "count": 0
           },
           {
            "bin_start": 0.5,
            "bin_end": 0.6000000000000001,
            "count": 0
           },
           {
            "bin_start": 0.6000000000000001,
            "bin_end": 0.7000000000000001,
            "count": 0
           },
           {
            "bin_start": 0.7000000000000001,
            "bin_end": 0.8,
            "count": 0
           },
           {
            "bin_start": 0.8,
            "bin_end": 0.9,
            "count": 0
           },
           {
            "bin_start": 0.9,
            "bin_end": 1,
            "count": 4
           }
          ]
         }
        },
        {
         "name": "Job",
         "dtype": "int64",
         "stats": {
          "unique_count": 2,
          "nan_count": 0,
          "min": "1",
          "max": "2",
          "histogram": [
           {
            "bin_start": 1,
            "bin_end": 1.1,
            "count": 1
           },
           {
            "bin_start": 1.1,
            "bin_end": 1.2,
            "count": 0
           },
           {
            "bin_start": 1.2,
            "bin_end": 1.3,
            "count": 0
           },
           {
            "bin_start": 1.3,
            "bin_end": 1.4,
            "count": 0
           },
           {
            "bin_start": 1.4,
            "bin_end": 1.5,
            "count": 0
           },
           {
            "bin_start": 1.5,
            "bin_end": 1.6,
            "count": 0
           },
           {
            "bin_start": 1.6,
            "bin_end": 1.7000000000000002,
            "count": 0
           },
           {
            "bin_start": 1.7000000000000002,
            "bin_end": 1.8,
            "count": 0
           },
           {
            "bin_start": 1.8,
            "bin_end": 1.9,
            "count": 0
           },
           {
            "bin_start": 1.9,
            "bin_end": 2,
            "count": 4
           }
          ]
         }
        },
        {
         "name": "Housing",
         "dtype": "int64",
         "stats": {
          "unique_count": 2,
          "nan_count": 0,
          "min": "0",
          "max": "1",
          "histogram": [
           {
            "bin_start": 0,
            "bin_end": 0.1,
            "count": 2
           },
           {
            "bin_start": 0.1,
            "bin_end": 0.2,
            "count": 0
           },
           {
            "bin_start": 0.2,
            "bin_end": 0.30000000000000004,
            "count": 0
           },
           {
            "bin_start": 0.30000000000000004,
            "bin_end": 0.4,
            "count": 0
           },
           {
            "bin_start": 0.4,
            "bin_end": 0.5,
            "count": 0
           },
           {
            "bin_start": 0.5,
            "bin_end": 0.6000000000000001,
            "count": 0
           },
           {
            "bin_start": 0.6000000000000001,
            "bin_end": 0.7000000000000001,
            "count": 0
           },
           {
            "bin_start": 0.7000000000000001,
            "bin_end": 0.8,
            "count": 0
           },
           {
            "bin_start": 0.8,
            "bin_end": 0.9,
            "count": 0
           },
           {
            "bin_start": 0.9,
            "bin_end": 1,
            "count": 3
           }
          ]
         }
        },
        {
         "name": "Saving_accounts",
         "dtype": "int64",
         "stats": {
          "unique_count": 1,
          "nan_count": 0,
          "min": "0",
          "max": "0",
          "histogram": [
           {
            "bin_start": -0.5,
            "bin_end": -0.4,
            "count": 0
           },
           {
            "bin_start": -0.4,
            "bin_end": -0.3,
            "count": 0
           },
           {
            "bin_start": -0.3,
            "bin_end": -0.19999999999999996,
            "count": 0
           },
           {
            "bin_start": -0.19999999999999996,
            "bin_end": -0.09999999999999998,
            "count": 0
           },
           {
            "bin_start": -0.09999999999999998,
            "bin_end": 0,
            "count": 0
           },
           {
            "bin_start": 0,
            "bin_end": 0.10000000000000009,
            "count": 5
           },
           {
            "bin_start": 0.10000000000000009,
            "bin_end": 0.20000000000000007,
            "count": 0
           },
           {
            "bin_start": 0.20000000000000007,
            "bin_end": 0.30000000000000004,
            "count": 0
           },
           {
            "bin_start": 0.30000000000000004,
            "bin_end": 0.4,
            "count": 0
           },
           {
            "bin_start": 0.4,
            "bin_end": 0.5,
            "count": 0
           }
          ]
         }
        },
        {
         "name": "Checking_account",
         "dtype": "int64",
         "stats": {
          "unique_count": 2,
          "nan_count": 0,
          "min": "0",
          "max": "1",
          "histogram": [
           {
            "bin_start": 0,
            "bin_end": 0.1,
            "count": 4
           },
           {
            "bin_start": 0.1,
            "bin_end": 0.2,
            "count": 0
           },
           {
            "bin_start": 0.2,
            "bin_end": 0.30000000000000004,
            "count": 0
           },
           {
            "bin_start": 0.30000000000000004,
            "bin_end": 0.4,
            "count": 0
           },
           {
            "bin_start": 0.4,
            "bin_end": 0.5,
            "count": 0
           },
           {
            "bin_start": 0.5,
            "bin_end": 0.6000000000000001,
            "count": 0
           },
           {
            "bin_start": 0.6000000000000001,
            "bin_end": 0.7000000000000001,
            "count": 0
           },
           {
            "bin_start": 0.7000000000000001,
            "bin_end": 0.8,
            "count": 0
           },
           {
            "bin_start": 0.8,
            "bin_end": 0.9,
            "count": 0
           },
           {
            "bin_start": 0.9,
            "bin_end": 1,
            "count": 1
           }
          ]
         }
        },
        {
         "name": "Credict_amount",
         "dtype": "int64",
         "stats": {
          "unique_count": 5,
          "nan_count": 0,
          "min": "1169",
          "max": "7882",
          "histogram": [
           {
            "bin_start": 1169,
            "bin_end": 1840.3,
            "count": 1
           },
           {
            "bin_start": 1840.3,
            "bin_end": 2511.6,
            "count": 1
           },
           {
            "bin_start": 2511.6,
            "bin_end": 3182.8999999999996,
            "count": 0
           },
           {
            "bin_start": 3182.8999999999996,
            "bin_end": 3854.2,
            "count": 0
           },
           {
            "bin_start": 3854.2,
            "bin_end": 4525.5,
            "count": 0
           },
           {
            "bin_start": 4525.5,
            "bin_end": 5196.799999999999,
            "count": 1
           },
           {
            "bin_start": 5196.799999999999,
            "bin_end": 5868.099999999999,
            "count": 0
           },
           {
            "bin_start": 5868.099999999999,
            "bin_end": 6539.4,
            "count": 1
           },
           {
            "bin_start": 6539.4,
            "bin_end": 7210.7,
            "count": 0
           },
           {
            "bin_start": 7210.7,
            "bin_end": 7882,
            "count": 1
           }
          ]
         }
        },
        {
         "name": "Duration",
         "dtype": "int64",
         "stats": {
          "unique_count": 5,
          "nan_count": 0,
          "min": "6",
          "max": "48",
          "histogram": [
           {
            "bin_start": 6,
            "bin_end": 10.2,
            "count": 1
           },
           {
            "bin_start": 10.2,
            "bin_end": 14.4,
            "count": 1
           },
           {
            "bin_start": 14.4,
            "bin_end": 18.6,
            "count": 0
           },
           {
            "bin_start": 18.6,
            "bin_end": 22.8,
            "count": 0
           },
           {
            "bin_start": 22.8,
            "bin_end": 27,
            "count": 1
           },
           {
            "bin_start": 27,
            "bin_end": 31.200000000000003,
            "count": 0
           },
           {
            "bin_start": 31.200000000000003,
            "bin_end": 35.400000000000006,
            "count": 0
           },
           {
            "bin_start": 35.400000000000006,
            "bin_end": 39.6,
            "count": 0
           },
           {
            "bin_start": 39.6,
            "bin_end": 43.800000000000004,
            "count": 1
           },
           {
            "bin_start": 43.800000000000004,
            "bin_end": 48,
            "count": 1
           }
          ]
         }
        },
        {
         "name": "Purpose",
         "dtype": "int64",
         "stats": {
          "unique_count": 4,
          "nan_count": 0,
          "min": "1",
          "max": "5",
          "histogram": [
           {
            "bin_start": 1,
            "bin_end": 1.4,
            "count": 1
           },
           {
            "bin_start": 1.4,
            "bin_end": 1.8,
            "count": 0
           },
           {
            "bin_start": 1.8,
            "bin_end": 2.2,
            "count": 0
           },
           {
            "bin_start": 2.2,
            "bin_end": 2.6,
            "count": 0
           },
           {
            "bin_start": 2.6,
            "bin_end": 3,
            "count": 0
           },
           {
            "bin_start": 3,
            "bin_end": 3.4000000000000004,
            "count": 1
           },
           {
            "bin_start": 3.4000000000000004,
            "bin_end": 3.8000000000000003,
            "count": 0
           },
           {
            "bin_start": 3.8000000000000003,
            "bin_end": 4.2,
            "count": 1
           },
           {
            "bin_start": 4.2,
            "bin_end": 4.6,
            "count": 0
           },
           {
            "bin_start": 4.6,
            "bin_end": 5,
            "count": 2
           }
          ]
         }
        },
        {
         "name": "_deepnote_index_column",
         "dtype": "int64"
        }
       ],
       "rows_top": [
        {
         "Age": 67,
         "Sex": 1,
         "Job": 2,
         "Housing": 1,
         "Saving_accounts": 0,
         "Checking_account": 0,
         "Credict_amount": 1169,
         "Duration": 6,
         "Purpose": 5,
         "_deepnote_index_column": 0
        },
        {
         "Age": 22,
         "Sex": 0,
         "Job": 2,
         "Housing": 1,
         "Saving_accounts": 0,
         "Checking_account": 1,
         "Credict_amount": 5951,
         "Duration": 48,
         "Purpose": 5,
         "_deepnote_index_column": 1
        },
        {
         "Age": 49,
         "Sex": 1,
         "Job": 1,
         "Housing": 1,
         "Saving_accounts": 0,
         "Checking_account": 0,
         "Credict_amount": 2096,
         "Duration": 12,
         "Purpose": 3,
         "_deepnote_index_column": 2
        },
        {
         "Age": 45,
         "Sex": 1,
         "Job": 2,
         "Housing": 0,
         "Saving_accounts": 0,
         "Checking_account": 0,
         "Credict_amount": 7882,
         "Duration": 42,
         "Purpose": 4,
         "_deepnote_index_column": 3
        },
        {
         "Age": 53,
         "Sex": 1,
         "Job": 2,
         "Housing": 0,
         "Saving_accounts": 0,
         "Checking_account": 0,
         "Credict_amount": 4870,
         "Duration": 24,
         "Purpose": 1,
         "_deepnote_index_column": 4
        }
       ],
       "rows_bottom": null
      },
      "text/plain": "   Age  Sex  Job  Housing  Saving_accounts  Checking_account  Credict_amount  \\\n0   67    1    2        1                0                 0            1169   \n1   22    0    2        1                0                 1            5951   \n2   49    1    1        1                0                 0            2096   \n3   45    1    2        0                0                 0            7882   \n4   53    1    2        0                0                 0            4870   \n\n   Duration  Purpose  \n0         6        5  \n1        48        5  \n2        12        3  \n3        42        4  \n4        24        1  ",
      "text/html": "<div>\n<style scoped>\n    .dataframe tbody tr th:only-of-type {\n        vertical-align: middle;\n    }\n\n    .dataframe tbody tr th {\n        vertical-align: top;\n    }\n\n    .dataframe thead th {\n        text-align: right;\n    }\n</style>\n<table border=\"1\" class=\"dataframe\">\n  <thead>\n    <tr style=\"text-align: right;\">\n      <th></th>\n      <th>Age</th>\n      <th>Sex</th>\n      <th>Job</th>\n      <th>Housing</th>\n      <th>Saving_accounts</th>\n      <th>Checking_account</th>\n      <th>Credict_amount</th>\n      <th>Duration</th>\n      <th>Purpose</th>\n    </tr>\n  </thead>\n  <tbody>\n    <tr>\n      <th>0</th>\n      <td>67</td>\n      <td>1</td>\n      <td>2</td>\n      <td>1</td>\n      <td>0</td>\n      <td>0</td>\n      <td>1169</td>\n      <td>6</td>\n      <td>5</td>\n    </tr>\n    <tr>\n      <th>1</th>\n      <td>22</td>\n      <td>0</td>\n      <td>2</td>\n      <td>1</td>\n      <td>0</td>\n      <td>1</td>\n      <td>5951</td>\n      <td>48</td>\n      <td>5</td>\n    </tr>\n    <tr>\n      <th>2</th>\n      <td>49</td>\n      <td>1</td>\n      <td>1</td>\n      <td>1</td>\n      <td>0</td>\n      <td>0</td>\n      <td>2096</td>\n      <td>12</td>\n      <td>3</td>\n    </tr>\n    <tr>\n      <th>3</th>\n      <td>45</td>\n      <td>1</td>\n      <td>2</td>\n      <td>0</td>\n      <td>0</td>\n      <td>0</td>\n      <td>7882</td>\n      <td>42</td>\n      <td>4</td>\n    </tr>\n    <tr>\n      <th>4</th>\n      <td>53</td>\n      <td>1</td>\n      <td>2</td>\n      <td>0</td>\n      <td>0</td>\n      <td>0</td>\n      <td>4870</td>\n      <td>24</td>\n      <td>1</td>\n    </tr>\n  </tbody>\n</table>\n</div>"
     },
     "metadata": {}
    }
   ]
  },
  {
   "cell_type": "code",
   "metadata": {
    "cell_id": "00014-cc9de349-877f-4619-8114-d8eb9654490d",
    "deepnote_to_be_reexecuted": false,
    "source_hash": "8e56d5f5",
    "execution_start": 1636905156295,
    "execution_millis": 20,
    "deepnote_cell_type": "code"
   },
   "source": "X = X.iloc[:,:].values\nX",
   "execution_count": null,
   "outputs": [
    {
     "output_type": "execute_result",
     "execution_count": 15,
     "data": {
      "text/plain": "array([[  67,    1,    2, ..., 1169,    6,    5],\n       [  22,    0,    2, ..., 5951,   48,    5],\n       [  49,    1,    1, ..., 2096,   12,    3],\n       ...,\n       [  38,    1,    2, ...,  804,   12,    5],\n       [  23,    1,    2, ..., 1845,   45,    5],\n       [  27,    1,    2, ..., 4576,   45,    1]])"
     },
     "metadata": {}
    }
   ]
  },
  {
   "cell_type": "code",
   "metadata": {
    "cell_id": "00015-08f929a3-22d5-4a78-a9d4-e83df7492f05",
    "deepnote_to_be_reexecuted": false,
    "source_hash": "d8b40ea2",
    "execution_start": 1636905156327,
    "execution_millis": 48,
    "deepnote_cell_type": "code"
   },
   "source": "#train, test split\nfrom sklearn.model_selection import train_test_split\n#basic split\nX_train_all, X_test, y_train_all, y_test = train_test_split(X,y, test_size = 0.3)\n#validation split\nX_train, X_validate, y_train, y_validate = train_test_split(X_train_all,y_train_all, test_size = 0.25)",
   "execution_count": null,
   "outputs": []
  },
  {
   "cell_type": "code",
   "metadata": {
    "tags": [],
    "cell_id": "00016-2c28facb-5f45-4bc2-abe5-187b09b57470",
    "deepnote_to_be_reexecuted": false,
    "source_hash": "1ed6e21",
    "execution_start": 1636905156386,
    "execution_millis": 1384,
    "deepnote_cell_type": "code"
   },
   "source": "#metrics\nfrom sklearn import metrics\nimport seaborn as sns\nimport matplotlib.pyplot as plt\n\ndef model_metrics_summary(y_test, y_pred):\n    #Accuracy\n    print(\"Accuracy:\",metrics.accuracy_score(y_test, y_pred))\n    #R2\n    print(\"R2:\", metrics.r2_score(y_test, y_pred))\n    #F1\n    print(\"F1:\", metrics.f1_score(y_test, y_pred))\n    # Recall\n    print(\"Recall:\",metrics.recall_score(y_test, y_pred))\n    # Precision\n    print(\"Precision:\",metrics.precision_score(y_test, y_pred))\n\n    #Confusion Matrix\n    cf_matrix = metrics.confusion_matrix(y_test, y_pred)\n    ax = sns.heatmap(cf_matrix, annot=True, cmap='Blues')\n\n    ax.set_title('Seaborn Confusion Matrix with labels\\n\\n');\n    ax.set_xlabel('\\nPredicted Values')\n    ax.set_ylabel('Actual Values');\n\n    # Ticket labels\n    ax.xaxis.set_ticklabels(['False','True'])\n    ax.yaxis.set_ticklabels(['False','True'])\n\n    ## Display the visualization of the Confusion Matrix.\n    plt.show()\n\n    return metrics.f1_score(y_test, y_pred)\n",
   "execution_count": null,
   "outputs": []
  },
  {
   "cell_type": "code",
   "metadata": {
    "tags": [],
    "cell_id": "00017-44f078ed-8c1f-4180-9256-8c8791722ada",
    "deepnote_to_be_reexecuted": false,
    "source_hash": "713c5626",
    "execution_start": 1636905157790,
    "execution_millis": 1,
    "deepnote_cell_type": "code"
   },
   "source": "predicted_values = pd.DataFrame(y_test)",
   "execution_count": null,
   "outputs": []
  },
  {
   "cell_type": "code",
   "metadata": {
    "cell_id": "00016-a443b744-e104-4937-b61e-c7e1b120f529",
    "deepnote_to_be_reexecuted": false,
    "source_hash": "9bbc7de5",
    "execution_start": 1636905157842,
    "execution_millis": 611,
    "deepnote_cell_type": "code"
   },
   "source": "#Logistic Regression\nfrom sklearn.linear_model import LogisticRegression\nlog_clf = LogisticRegression(random_state =0)\nlog_clf.fit(X_train,y_train)\ny_pred_lr = log_clf.predict(X_test)\n\nf1_lr = model_metrics_summary(y_test, y_pred_lr)",
   "execution_count": null,
   "outputs": [
    {
     "name": "stdout",
     "text": "Accuracy: 0.7033333333333334\nR2: -0.36335784313725483\nF1: 0.8118393234672305\nRecall: 0.9411764705882353\nPrecision: 0.7137546468401487\n",
     "output_type": "stream"
    },
    {
     "data": {
      "text/plain": "<Figure size 432x288 with 2 Axes>",
      "image/png": "[encoded data removed]"
     },
     "metadata": {
      "needs_background": "light",
      "image/png": {
       "width": 366,
       "height": 320
      }
     },
     "output_type": "display_data"
    }
   ]
  },
  {
   "cell_type": "code",
   "metadata": {
    "tags": [],
    "cell_id": "00019-23531eda-b262-4f07-b350-08272fc9c99d",
    "deepnote_to_be_reexecuted": false,
    "source_hash": "58e4e499",
    "execution_start": 1636905158456,
    "execution_millis": 9,
    "deepnote_cell_type": "code"
   },
   "source": "predicted_values['Logistic_Regression'] = y_pred_lr",
   "execution_count": null,
   "outputs": []
  },
  {
   "cell_type": "code",
   "metadata": {
    "tags": [],
    "cell_id": "00018-0ae62e5e-c4a6-4df4-b037-96cca8cab705",
    "deepnote_to_be_reexecuted": false,
    "source_hash": "ba904e6a",
    "execution_start": 1636905158472,
    "execution_millis": 602,
    "deepnote_cell_type": "code"
   },
   "source": "#KNN\nfrom sklearn.neighbors import KNeighborsClassifier\n\nknn = KNeighborsClassifier(n_neighbors = 23)\n\nknn.fit(X_train, y_train)\ny_pred_knn = knn.predict(X_test)\n\nf1_knn = model_metrics_summary(y_test, y_pred_knn)",
   "execution_count": null,
   "outputs": [
    {
     "name": "stdout",
     "text": "Accuracy: 0.6666666666666666\nR2: -0.5318627450980391\nF1: 0.7975708502024291\nRecall: 0.9656862745098039\nPrecision: 0.6793103448275862\n",
     "output_type": "stream"
    },
    {
     "data": {
      "text/plain": "<Figure size 432x288 with 2 Axes>",
      "image/png": "[encoded data removed]"
     },
     "metadata": {
      "needs_background": "light",
      "image/png": {
       "width": 366,
       "height": 320
      }
     },
     "output_type": "display_data"
    }
   ]
  },
  {
   "cell_type": "code",
   "metadata": {
    "tags": [],
    "cell_id": "00021-e78f21f3-9dd1-4df7-bb4b-3b8def5fd70d",
    "deepnote_to_be_reexecuted": false,
    "source_hash": "c7d0d317",
    "execution_start": 1636905159085,
    "execution_millis": 10,
    "deepnote_cell_type": "code"
   },
   "source": "predicted_values['KNN'] = y_pred_knn",
   "execution_count": null,
   "outputs": []
  },
  {
   "cell_type": "code",
   "metadata": {
    "tags": [],
    "cell_id": "00019-d88aa552-897e-4283-a6a6-442aaa8a6ddb",
    "deepnote_to_be_reexecuted": false,
    "source_hash": "265716a8",
    "execution_start": 1636905159105,
    "execution_millis": 165102,
    "deepnote_cell_type": "code"
   },
   "source": "#SVM\nfrom sklearn.svm import SVC\nSVM_clf_1 = SVC(kernel = 'linear')\nSVM_clf_1.fit(X_train, y_train)\ny_pred_svm = SVM_clf_1.predict(X_test)\n\nf1_svm = model_metrics_summary(y_test, y_pred_svm)",
   "execution_count": null,
   "outputs": [
    {
     "name": "stdout",
     "text": "Accuracy: 0.7\nR2: -0.3786764705882353\nF1: 0.8026315789473685\nRecall: 0.8970588235294118\nPrecision: 0.7261904761904762\n",
     "output_type": "stream"
    },
    {
     "data": {
      "text/plain": "<Figure size 432x288 with 2 Axes>",
      "image/png": "[encoded data removed]"
     },
     "metadata": {
      "needs_background": "light",
      "image/png": {
       "width": 366,
       "height": 320
      }
     },
     "output_type": "display_data"
    }
   ]
  },
  {
   "cell_type": "code",
   "metadata": {
    "tags": [],
    "cell_id": "00023-ea458da5-a844-4264-90e6-e26022ada312",
    "deepnote_to_be_reexecuted": false,
    "source_hash": "5591834f",
    "execution_start": 1636905324258,
    "execution_millis": 0,
    "deepnote_cell_type": "code"
   },
   "source": "predicted_values['SVM'] = y_pred_svm",
   "execution_count": null,
   "outputs": []
  },
  {
   "cell_type": "code",
   "metadata": {
    "tags": [],
    "cell_id": "00020-60e271f8-2639-473e-9dc5-850163c58c73",
    "deepnote_to_be_reexecuted": false,
    "source_hash": "d900500d",
    "execution_start": 1636905324259,
    "execution_millis": 982,
    "deepnote_cell_type": "code"
   },
   "source": "#Random Forest\nfrom sklearn.ensemble import RandomForestClassifier\nClassifier_RF = RandomForestClassifier(n_estimators=140,criterion = 'entropy')\nClassifier_RF.fit(X_train, y_train)\ny_pred_rf = Classifier_RF.predict(X_test)\nf1_rf = model_metrics_summary(y_test, y_pred_rf)",
   "execution_count": null,
   "outputs": [
    {
     "name": "stdout",
     "text": "Accuracy: 0.68\nR2: -0.47058823529411753\nF1: 0.7876106194690267\nRecall: 0.8725490196078431\nPrecision: 0.717741935483871\n",
     "output_type": "stream"
    },
    {
     "data": {
      "text/plain": "<Figure size 432x288 with 2 Axes>",
      "image/png": "[encoded data removed]"
     },
     "metadata": {
      "needs_background": "light",
      "image/png": {
       "width": 366,
       "height": 320
      }
     },
     "output_type": "display_data"
    }
   ]
  },
  {
   "cell_type": "code",
   "metadata": {
    "tags": [],
    "cell_id": "00025-15e383a1-2a35-4c3e-b24c-daa34f9f7310",
    "deepnote_to_be_reexecuted": false,
    "source_hash": "200280c1",
    "execution_start": 1636905325245,
    "execution_millis": 4,
    "deepnote_cell_type": "code"
   },
   "source": "predicted_values['Random_Forest'] = y_pred_rf",
   "execution_count": null,
   "outputs": []
  },
  {
   "cell_type": "code",
   "metadata": {
    "tags": [],
    "cell_id": "00026-bde86fe9-3183-45f2-a380-ca310b0921a0",
    "deepnote_to_be_reexecuted": false,
    "source_hash": "4ab26a1e",
    "execution_start": 1636905325258,
    "execution_millis": 325,
    "deepnote_cell_type": "code"
   },
   "source": "#Decision Tree\nfrom sklearn.tree import DecisionTreeClassifier\n\nclassifier_DT = DecisionTreeClassifier(criterion='entropy')\nclassifier_DT.fit(X_train,y_train)\ny_pred_dt = classifier_DT.predict(X_test)\n\nf1_dt = model_metrics_summary(y_test, y_pred_dt)",
   "execution_count": null,
   "outputs": [
    {
     "name": "stdout",
     "text": "Accuracy: 0.6166666666666667\nR2: -0.7616421568627452\nF1: 0.7228915662650603\nRecall: 0.7352941176470589\nPrecision: 0.7109004739336493\n",
     "output_type": "stream"
    },
    {
     "data": {
      "text/plain": "<Figure size 432x288 with 2 Axes>",
      "image/png": "[encoded data removed]"
     },
     "metadata": {
      "needs_background": "light",
      "image/png": {
       "width": 366,
       "height": 320
      }
     },
     "output_type": "display_data"
    }
   ]
  },
  {
   "cell_type": "code",
   "metadata": {
    "tags": [],
    "cell_id": "00027-3d102c69-49bd-4a7a-ab00-d119466bcbbc",
    "deepnote_to_be_reexecuted": false,
    "source_hash": "1b656f58",
    "execution_start": 1636905325634,
    "execution_millis": 282,
    "deepnote_cell_type": "code"
   },
   "source": "#Naive Bayes\nfrom sklearn.naive_bayes import GaussianNB\nclassifier_NB = GaussianNB()\nclassifier_NB.fit(X_train, y_train)\ny_pred_NB = classifier_NB.predict(X_test)\nf1_rf = model_metrics_summary(y_test, y_pred_NB)",
   "execution_count": null,
   "outputs": [
    {
     "name": "stdout",
     "text": "Accuracy: 0.6666666666666666\nR2: -0.5318627450980391\nF1: 0.7747747747747747\nRecall: 0.8431372549019608\nPrecision: 0.7166666666666667\n",
     "output_type": "stream"
    },
    {
     "data": {
      "text/plain": "<Figure size 432x288 with 2 Axes>",
      "image/png": "[encoded data removed]"
     },
     "metadata": {
      "needs_background": "light",
      "image/png": {
       "width": 366,
       "height": 320
      }
     },
     "output_type": "display_data"
    }
   ]
  },
  {
   "cell_type": "code",
   "metadata": {
    "tags": [],
    "cell_id": "00027-36a2a245-762d-4343-aa63-f74e137a7f6a",
    "deepnote_to_be_reexecuted": false,
    "source_hash": "3fa48317",
    "execution_start": 1636905325966,
    "execution_millis": 1,
    "deepnote_cell_type": "code"
   },
   "source": "predicted_values['Decision_Tree'] = y_pred_dt",
   "execution_count": null,
   "outputs": []
  },
  {
   "cell_type": "code",
   "metadata": {
    "tags": [],
    "cell_id": "00021-dbed5a1f-10f2-4c87-9e73-588139c19cb9",
    "deepnote_to_be_reexecuted": false,
    "source_hash": "d1a2d57b",
    "execution_start": 1636905325967,
    "execution_millis": 313,
    "deepnote_cell_type": "code"
   },
   "source": "#QDA\nfrom sklearn.discriminant_analysis import QuadraticDiscriminantAnalysis\n\nclf_qda = QuadraticDiscriminantAnalysis()\nclf_qda.fit(X_train, y_train)\ny_pred_qda = clf_qda.predict(X_test)\n\nf1_qda = model_metrics_summary(y_test, y_pred_qda)",
   "execution_count": null,
   "outputs": [
    {
     "name": "stdout",
     "text": "Accuracy: 0.65\nR2: -0.6084558823529411\nF1: 0.761904761904762\nRecall: 0.8235294117647058\nPrecision: 0.7088607594936709\n",
     "output_type": "stream"
    },
    {
     "data": {
      "text/plain": "<Figure size 432x288 with 2 Axes>",
      "image/png": "[encoded data removed]"
     },
     "metadata": {
      "needs_background": "light",
      "image/png": {
       "width": 366,
       "height": 320
      }
     },
     "output_type": "display_data"
    }
   ]
  },
  {
   "cell_type": "code",
   "metadata": {
    "tags": [],
    "cell_id": "00029-9a342ec2-74ec-4784-bc78-11b58bfd3cd7",
    "deepnote_to_be_reexecuted": false,
    "source_hash": "cc54c5b",
    "execution_start": 1636905326330,
    "execution_millis": 0,
    "deepnote_cell_type": "code"
   },
   "source": "predicted_values['QDA'] = y_pred_qda",
   "execution_count": null,
   "outputs": []
  },
  {
   "cell_type": "code",
   "metadata": {
    "tags": [],
    "cell_id": "00022-62a9a6bd-01d3-4e3c-a79e-18a0b3ef8acb",
    "deepnote_to_be_reexecuted": false,
    "source_hash": "9867af81",
    "execution_start": 1636905326331,
    "execution_millis": 824,
    "deepnote_cell_type": "code"
   },
   "source": "#Gradient Boosting\nfrom sklearn.datasets import make_hastie_10_2\nfrom sklearn.ensemble import GradientBoostingClassifier\n\nclf_gb = GradientBoostingClassifier(n_estimators=100, learning_rate=1.0, max_depth=1, random_state=0).fit(X_train, y_train)\ny_pred_gb = clf_gb.predict(X_test)\n\nf1_gb = model_metrics_summary(y_test, y_pred_gb)",
   "execution_count": null,
   "outputs": [
    {
     "name": "stdout",
     "text": "Accuracy: 0.68\nR2: -0.47058823529411753\nF1: 0.791304347826087\nRecall: 0.8921568627450981\nPrecision: 0.7109375\n",
     "output_type": "stream"
    },
    {
     "data": {
      "text/plain": "<Figure size 432x288 with 2 Axes>",
      "image/png": "[encoded data removed]"
     },
     "metadata": {
      "needs_background": "light",
      "image/png": {
       "width": 366,
       "height": 320
      }
     },
     "output_type": "display_data"
    }
   ]
  },
  {
   "cell_type": "code",
   "metadata": {
    "tags": [],
    "cell_id": "00031-e24e184c-d96f-453f-a24c-46cded9092f3",
    "deepnote_to_be_reexecuted": false,
    "source_hash": "470c0003",
    "execution_start": 1636905327098,
    "execution_millis": 4,
    "deepnote_cell_type": "code"
   },
   "source": "predicted_values['Gradient_Boosting'] = y_pred_gb",
   "execution_count": null,
   "outputs": []
  },
  {
   "cell_type": "code",
   "metadata": {
    "tags": [],
    "cell_id": "00032-a895be65-3662-44d6-ab2a-4cfac2199b3a",
    "deepnote_to_be_reexecuted": false,
    "source_hash": "bd228d35",
    "execution_start": 1636905327147,
    "execution_millis": 27,
    "deepnote_cell_type": "code"
   },
   "source": "predicted_values",
   "execution_count": null,
   "outputs": [
    {
     "output_type": "execute_result",
     "execution_count": 34,
     "data": {
      "application/vnd.deepnote.dataframe.v2+json": {
       "row_count": 300,
       "column_count": 8,
       "columns": [
        {
         "name": 0,
         "dtype": "int64",
         "stats": {
          "unique_count": 2,
          "nan_count": 0,
          "min": "0",
          "max": "1",
          "histogram": [
           {
            "bin_start": 0,
            "bin_end": 0.1,
            "count": 96
           },
           {
            "bin_start": 0.1,
            "bin_end": 0.2,
            "count": 0
           },
           {
            "bin_start": 0.2,
            "bin_end": 0.30000000000000004,
            "count": 0
           },
           {
            "bin_start": 0.30000000000000004,
            "bin_end": 0.4,
            "count": 0
           },
           {
            "bin_start": 0.4,
            "bin_end": 0.5,
            "count": 0
           },
           {
            "bin_start": 0.5,
            "bin_end": 0.6000000000000001,
            "count": 0
           },
           {
            "bin_start": 0.6000000000000001,
            "bin_end": 0.7000000000000001,
            "count": 0
           },
           {
            "bin_start": 0.7000000000000001,
            "bin_end": 0.8,
            "count": 0
           },
           {
            "bin_start": 0.8,
            "bin_end": 0.9,
            "count": 0
           },
           {
            "bin_start": 0.9,
            "bin_end": 1,
            "count": 204
           }
          ]
         }
        },
        {
         "name": "Logistic_Regression",
         "dtype": "int64",
         "stats": {
          "unique_count": 2,
          "nan_count": 0,
          "min": "0",
          "max": "1",
          "histogram": [
           {
            "bin_start": 0,
            "bin_end": 0.1,
            "count": 31
           },
           {
            "bin_start": 0.1,
            "bin_end": 0.2,
            "count": 0
           },
           {
            "bin_start": 0.2,
            "bin_end": 0.30000000000000004,
            "count": 0
           },
           {
            "bin_start": 0.30000000000000004,
            "bin_end": 0.4,
            "count": 0
           },
           {
            "bin_start": 0.4,
            "bin_end": 0.5,
            "count": 0
           },
           {
            "bin_start": 0.5,
            "bin_end": 0.6000000000000001,
            "count": 0
           },
           {
            "bin_start": 0.6000000000000001,
            "bin_end": 0.7000000000000001,
            "count": 0
           },
           {
            "bin_start": 0.7000000000000001,
            "bin_end": 0.8,
            "count": 0
           },
           {
            "bin_start": 0.8,
            "bin_end": 0.9,
            "count": 0
           },
           {
            "bin_start": 0.9,
            "bin_end": 1,
            "count": 269
           }
          ]
         }
        },
        {
         "name": "KNN",
         "dtype": "int64",
         "stats": {
          "unique_count": 2,
          "nan_count": 0,
          "min": "0",
          "max": "1",
          "histogram": [
           {
            "bin_start": 0,
            "bin_end": 0.1,
            "count": 10
           },
           {
            "bin_start": 0.1,
            "bin_end": 0.2,
            "count": 0
           },
           {
            "bin_start": 0.2,
            "bin_end": 0.30000000000000004,
            "count": 0
           },
           {
            "bin_start": 0.30000000000000004,
            "bin_end": 0.4,
            "count": 0
           },
           {
            "bin_start": 0.4,
            "bin_end": 0.5,
            "count": 0
           },
           {
            "bin_start": 0.5,
            "bin_end": 0.6000000000000001,
            "count": 0
           },
           {
            "bin_start": 0.6000000000000001,
            "bin_end": 0.7000000000000001,
            "count": 0
           },
           {
            "bin_start": 0.7000000000000001,
            "bin_end": 0.8,
            "count": 0
           },
           {
            "bin_start": 0.8,
            "bin_end": 0.9,
            "count": 0
           },
           {
            "bin_start": 0.9,
            "bin_end": 1,
            "count": 290
           }
          ]
         }
        },
        {
         "name": "SVM",
         "dtype": "int64",
         "stats": {
          "unique_count": 2,
          "nan_count": 0,
          "min": "0",
          "max": "1",
          "histogram": [
           {
            "bin_start": 0,
            "bin_end": 0.1,
            "count": 48
           },
           {
            "bin_start": 0.1,
            "bin_end": 0.2,
            "count": 0
           },
           {
            "bin_start": 0.2,
            "bin_end": 0.30000000000000004,
            "count": 0
           },
           {
            "bin_start": 0.30000000000000004,
            "bin_end": 0.4,
            "count": 0
           },
           {
            "bin_start": 0.4,
            "bin_end": 0.5,
            "count": 0
           },
           {
            "bin_start": 0.5,
            "bin_end": 0.6000000000000001,
            "count": 0
           },
           {
            "bin_start": 0.6000000000000001,
            "bin_end": 0.7000000000000001,
            "count": 0
           },
           {
            "bin_start": 0.7000000000000001,
            "bin_end": 0.8,
            "count": 0
           },
           {
            "bin_start": 0.8,
            "bin_end": 0.9,
            "count": 0
           },
           {
            "bin_start": 0.9,
            "bin_end": 1,
            "count": 252
           }
          ]
         }
        },
        {
         "name": "Random_Forest",
         "dtype": "int64",
         "stats": {
          "unique_count": 2,
          "nan_count": 0,
          "min": "0",
          "max": "1",
          "histogram": [
           {
            "bin_start": 0,
            "bin_end": 0.1,
            "count": 52
           },
           {
            "bin_start": 0.1,
            "bin_end": 0.2,
            "count": 0
           },
           {
            "bin_start": 0.2,
            "bin_end": 0.30000000000000004,
            "count": 0
           },
           {
            "bin_start": 0.30000000000000004,
            "bin_end": 0.4,
            "count": 0
           },
           {
            "bin_start": 0.4,
            "bin_end": 0.5,
            "count": 0
           },
           {
            "bin_start": 0.5,
            "bin_end": 0.6000000000000001,
            "count": 0
           },
           {
            "bin_start": 0.6000000000000001,
            "bin_end": 0.7000000000000001,
            "count": 0
           },
           {
            "bin_start": 0.7000000000000001,
            "bin_end": 0.8,
            "count": 0
           },
           {
            "bin_start": 0.8,
            "bin_end": 0.9,
            "count": 0
           },
           {
            "bin_start": 0.9,
            "bin_end": 1,
            "count": 248
           }
          ]
         }
        },
        {
         "name": "Decision_Tree",
         "dtype": "int64",
         "stats": {
          "unique_count": 2,
          "nan_count": 0,
          "min": "0",
          "max": "1",
          "histogram": [
           {
            "bin_start": 0,
            "bin_end": 0.1,
            "count": 89
           },
           {
            "bin_start": 0.1,
            "bin_end": 0.2,
            "count": 0
           },
           {
            "bin_start": 0.2,
            "bin_end": 0.30000000000000004,
            "count": 0
           },
           {
            "bin_start": 0.30000000000000004,
            "bin_end": 0.4,
            "count": 0
           },
           {
            "bin_start": 0.4,
            "bin_end": 0.5,
            "count": 0
           },
           {
            "bin_start": 0.5,
            "bin_end": 0.6000000000000001,
            "count": 0
           },
           {
            "bin_start": 0.6000000000000001,
            "bin_end": 0.7000000000000001,
            "count": 0
           },
           {
            "bin_start": 0.7000000000000001,
            "bin_end": 0.8,
            "count": 0
           },
           {
            "bin_start": 0.8,
            "bin_end": 0.9,
            "count": 0
           },
           {
            "bin_start": 0.9,
            "bin_end": 1,
            "count": 211
           }
          ]
         }
        },
        {
         "name": "QDA",
         "dtype": "int64",
         "stats": {
          "unique_count": 2,
          "nan_count": 0,
          "min": "0",
          "max": "1",
          "histogram": [
           {
            "bin_start": 0,
            "bin_end": 0.1,
            "count": 63
           },
           {
            "bin_start": 0.1,
            "bin_end": 0.2,
            "count": 0
           },
           {
            "bin_start": 0.2,
            "bin_end": 0.30000000000000004,
            "count": 0
           },
           {
            "bin_start": 0.30000000000000004,
            "bin_end": 0.4,
            "count": 0
           },
           {
            "bin_start": 0.4,
            "bin_end": 0.5,
            "count": 0
           },
           {
            "bin_start": 0.5,
            "bin_end": 0.6000000000000001,
            "count": 0
           },
           {
            "bin_start": 0.6000000000000001,
            "bin_end": 0.7000000000000001,
            "count": 0
           },
           {
            "bin_start": 0.7000000000000001,
            "bin_end": 0.8,
            "count": 0
           },
           {
            "bin_start": 0.8,
            "bin_end": 0.9,
            "count": 0
           },
           {
            "bin_start": 0.9,
            "bin_end": 1,
            "count": 237
           }
          ]
         }
        },
        {
         "name": "Gradient_Boosting",
         "dtype": "int64",
         "stats": {
          "unique_count": 2,
          "nan_count": 0,
          "min": "0",
          "max": "1",
          "histogram": [
           {
            "bin_start": 0,
            "bin_end": 0.1,
            "count": 44
           },
           {
            "bin_start": 0.1,
            "bin_end": 0.2,
            "count": 0
           },
           {
            "bin_start": 0.2,
            "bin_end": 0.30000000000000004,
            "count": 0
           },
           {
            "bin_start": 0.30000000000000004,
            "bin_end": 0.4,
            "count": 0
           },
           {
            "bin_start": 0.4,
            "bin_end": 0.5,
            "count": 0
           },
           {
            "bin_start": 0.5,
            "bin_end": 0.6000000000000001,
            "count": 0
           },
           {
            "bin_start": 0.6000000000000001,
            "bin_end": 0.7000000000000001,
            "count": 0
           },
           {
            "bin_start": 0.7000000000000001,
            "bin_end": 0.8,
            "count": 0
           },
           {
            "bin_start": 0.8,
            "bin_end": 0.9,
            "count": 0
           },
           {
            "bin_start": 0.9,
            "bin_end": 1,
            "count": 256
           }
          ]
         }
        },
        {
         "name": "_deepnote_index_column",
         "dtype": "int64"
        }
       ],
       "rows_top": [
        {
         "0": 1,
         "Logistic_Regression": 1,
         "KNN": 1,
         "SVM": 0,
         "Random_Forest": 0,
         "Decision_Tree": 1,
         "QDA": 1,
         "Gradient_Boosting": 0,
         "_deepnote_index_column": 0
        },
        {
         "0": 1,
         "Logistic_Regression": 1,
         "KNN": 1,
         "SVM": 1,
         "Random_Forest": 1,
         "Decision_Tree": 0,
         "QDA": 1,
         "Gradient_Boosting": 1,
         "_deepnote_index_column": 1
        },
        {
         "0": 0,
         "Logistic_Regression": 1,
         "KNN": 1,
         "SVM": 1,
         "Random_Forest": 1,
         "Decision_Tree": 1,
         "QDA": 1,
         "Gradient_Boosting": 1,
         "_deepnote_index_column": 2
        },
        {
         "0": 0,
         "Logistic_Regression": 0,
         "KNN": 1,
         "SVM": 0,
         "Random_Forest": 0,
         "Decision_Tree": 0,
         "QDA": 1,
         "Gradient_Boosting": 1,
         "_deepnote_index_column": 3
        },
        {
         "0": 0,
         "Logistic_Regression": 1,
         "KNN": 1,
         "SVM": 1,
         "Random_Forest": 1,
         "Decision_Tree": 0,
         "QDA": 1,
         "Gradient_Boosting": 1,
         "_deepnote_index_column": 4
        },
        {
         "0": 0,
         "Logistic_Regression": 0,
         "KNN": 1,
         "SVM": 0,
         "Random_Forest": 1,
         "Decision_Tree": 1,
         "QDA": 0,
         "Gradient_Boosting": 1,
         "_deepnote_index_column": 5
        },
        {
         "0": 1,
         "Logistic_Regression": 1,
         "KNN": 1,
         "SVM": 1,
         "Random_Forest": 1,
         "Decision_Tree": 1,
         "QDA": 1,
         "Gradient_Boosting": 1,
         "_deepnote_index_column": 6
        },
        {
         "0": 1,
         "Logistic_Regression": 1,
         "KNN": 0,
         "SVM": 1,
         "Random_Forest": 0,
         "Decision_Tree": 0,
         "QDA": 0,
         "Gradient_Boosting": 0,
         "_deepnote_index_column": 7
        },
        {
         "0": 0,
         "Logistic_Regression": 1,
         "KNN": 1,
         "SVM": 1,
         "Random_Forest": 0,
         "Decision_Tree": 0,
         "QDA": 1,
         "Gradient_Boosting": 1,
         "_deepnote_index_column": 8
        },
        {
         "0": 1,
         "Logistic_Regression": 1,
         "KNN": 1,
         "SVM": 1,
         "Random_Forest": 1,
         "Decision_Tree": 1,
         "QDA": 1,
         "Gradient_Boosting": 1,
         "_deepnote_index_column": 9
        },
        {
         "0": 1,
         "Logistic_Regression": 1,
         "KNN": 1,
         "SVM": 1,
         "Random_Forest": 1,
         "Decision_Tree": 1,
         "QDA": 1,
         "Gradient_Boosting": 1,
         "_deepnote_index_column": 10
        },
        {
         "0": 1,
         "Logistic_Regression": 1,
         "KNN": 1,
         "SVM": 1,
         "Random_Forest": 1,
         "Decision_Tree": 1,
         "QDA": 1,
         "Gradient_Boosting": 1,
         "_deepnote_index_column": 11
        },
        {
         "0": 1,
         "Logistic_Regression": 1,
         "KNN": 1,
         "SVM": 1,
         "Random_Forest": 1,
         "Decision_Tree": 0,
         "QDA": 1,
         "Gradient_Boosting": 1,
         "_deepnote_index_column": 12
        },
        {
         "0": 0,
         "Logistic_Regression": 1,
         "KNN": 1,
         "SVM": 1,
         "Random_Forest": 0,
         "Decision_Tree": 0,
         "QDA": 1,
         "Gradient_Boosting": 1,
         "_deepnote_index_column": 13
        },
        {
         "0": 1,
         "Logistic_Regression": 1,
         "KNN": 1,
         "SVM": 1,
         "Random_Forest": 1,
         "Decision_Tree": 0,
         "QDA": 1,
         "Gradient_Boosting": 1,
         "_deepnote_index_column": 14
        },
        {
         "0": 1,
         "Logistic_Regression": 1,
         "KNN": 1,
         "SVM": 1,
         "Random_Forest": 0,
         "Decision_Tree": 0,
         "QDA": 0,
         "Gradient_Boosting": 1,
         "_deepnote_index_column": 15
        },
        {
         "0": 0,
         "Logistic_Regression": 0,
         "KNN": 1,
         "SVM": 0,
         "Random_Forest": 0,
         "Decision_Tree": 1,
         "QDA": 0,
         "Gradient_Boosting": 0,
         "_deepnote_index_column": 16
        },
        {
         "0": 1,
         "Logistic_Regression": 1,
         "KNN": 1,
         "SVM": 1,
         "Random_Forest": 1,
         "Decision_Tree": 1,
         "QDA": 1,
         "Gradient_Boosting": 1,
         "_deepnote_index_column": 17
        },
        {
         "0": 0,
         "Logistic_Regression": 1,
         "KNN": 1,
         "SVM": 1,
         "Random_Forest": 1,
         "Decision_Tree": 1,
         "QDA": 1,
         "Gradient_Boosting": 1,
         "_deepnote_index_column": 18
        },
        {
         "0": 1,
         "Logistic_Regression": 1,
         "KNN": 1,
         "SVM": 1,
         "Random_Forest": 1,
         "Decision_Tree": 1,
         "QDA": 1,
         "Gradient_Boosting": 1,
         "_deepnote_index_column": 19
        },
        {
         "0": 1,
         "Logistic_Regression": 1,
         "KNN": 1,
         "SVM": 1,
         "Random_Forest": 1,
         "Decision_Tree": 1,
         "QDA": 1,
         "Gradient_Boosting": 1,
         "_deepnote_index_column": 20
        },
        {
         "0": 1,
         "Logistic_Regression": 1,
         "KNN": 1,
         "SVM": 1,
         "Random_Forest": 1,
         "Decision_Tree": 1,
         "QDA": 1,
         "Gradient_Boosting": 1,
         "_deepnote_index_column": 21
        },
        {
         "0": 1,
         "Logistic_Regression": 1,
         "KNN": 1,
         "SVM": 1,
         "Random_Forest": 1,
         "Decision_Tree": 1,
         "QDA": 1,
         "Gradient_Boosting": 1,
         "_deepnote_index_column": 22
        },
        {
         "0": 1,
         "Logistic_Regression": 1,
         "KNN": 1,
         "SVM": 1,
         "Random_Forest": 1,
         "Decision_Tree": 1,
         "QDA": 1,
         "Gradient_Boosting": 0,
         "_deepnote_index_column": 23
        },
        {
         "0": 1,
         "Logistic_Regression": 1,
         "KNN": 1,
         "SVM": 1,
         "Random_Forest": 1,
         "Decision_Tree": 0,
         "QDA": 1,
         "Gradient_Boosting": 1,
         "_deepnote_index_column": 24
        },
        {
         "0": 1,
         "Logistic_Regression": 1,
         "KNN": 1,
         "SVM": 1,
         "Random_Forest": 1,
         "Decision_Tree": 1,
         "QDA": 1,
         "Gradient_Boosting": 1,
         "_deepnote_index_column": 25
        },
        {
         "0": 0,
         "Logistic_Regression": 0,
         "KNN": 1,
         "SVM": 1,
         "Random_Forest": 1,
         "Decision_Tree": 1,
         "QDA": 0,
         "Gradient_Boosting": 1,
         "_deepnote_index_column": 26
        },
        {
         "0": 1,
         "Logistic_Regression": 1,
         "KNN": 1,
         "SVM": 1,
         "Random_Forest": 1,
         "Decision_Tree": 1,
         "QDA": 0,
         "Gradient_Boosting": 1,
         "_deepnote_index_column": 27
        },
        {
         "0": 1,
         "Logistic_Regression": 1,
         "KNN": 1,
         "SVM": 1,
         "Random_Forest": 1,
         "Decision_Tree": 1,
         "QDA": 1,
         "Gradient_Boosting": 1,
         "_deepnote_index_column": 28
        },
        {
         "0": 1,
         "Logistic_Regression": 1,
         "KNN": 1,
         "SVM": 1,
         "Random_Forest": 1,
         "Decision_Tree": 1,
         "QDA": 1,
         "Gradient_Boosting": 1,
         "_deepnote_index_column": 29
        },
        {
         "0": 1,
         "Logistic_Regression": 0,
         "KNN": 1,
         "SVM": 1,
         "Random_Forest": 1,
         "Decision_Tree": 1,
         "QDA": 0,
         "Gradient_Boosting": 0,
         "_deepnote_index_column": 30
        },
        {
         "0": 1,
         "Logistic_Regression": 1,
         "KNN": 1,
         "SVM": 1,
         "Random_Forest": 1,
         "Decision_Tree": 1,
         "QDA": 1,
         "Gradient_Boosting": 1,
         "_deepnote_index_column": 31
        },
        {
         "0": 1,
         "Logistic_Regression": 1,
         "KNN": 1,
         "SVM": 1,
         "Random_Forest": 1,
         "Decision_Tree": 1,
         "QDA": 1,
         "Gradient_Boosting": 1,
         "_deepnote_index_column": 32
        },
        {
         "0": 1,
         "Logistic_Regression": 1,
         "KNN": 1,
         "SVM": 1,
         "Random_Forest": 1,
         "Decision_Tree": 1,
         "QDA": 1,
         "Gradient_Boosting": 1,
         "_deepnote_index_column": 33
        },
        {
         "0": 1,
         "Logistic_Regression": 0,
         "KNN": 1,
         "SVM": 0,
         "Random_Forest": 0,
         "Decision_Tree": 1,
         "QDA": 1,
         "Gradient_Boosting": 1,
         "_deepnote_index_column": 34
        },
        {
         "0": 0,
         "Logistic_Regression": 1,
         "KNN": 1,
         "SVM": 1,
         "Random_Forest": 1,
         "Decision_Tree": 1,
         "QDA": 1,
         "Gradient_Boosting": 1,
         "_deepnote_index_column": 35
        },
        {
         "0": 1,
         "Logistic_Regression": 1,
         "KNN": 1,
         "SVM": 1,
         "Random_Forest": 1,
         "Decision_Tree": 1,
         "QDA": 1,
         "Gradient_Boosting": 1,
         "_deepnote_index_column": 36
        },
        {
         "0": 1,
         "Logistic_Regression": 1,
         "KNN": 1,
         "SVM": 1,
         "Random_Forest": 1,
         "Decision_Tree": 1,
         "QDA": 1,
         "Gradient_Boosting": 1,
         "_deepnote_index_column": 37
        },
        {
         "0": 0,
         "Logistic_Regression": 0,
         "KNN": 1,
         "SVM": 0,
         "Random_Forest": 0,
         "Decision_Tree": 0,
         "QDA": 0,
         "Gradient_Boosting": 1,
         "_deepnote_index_column": 38
        },
        {
         "0": 0,
         "Logistic_Regression": 1,
         "KNN": 1,
         "SVM": 1,
         "Random_Forest": 1,
         "Decision_Tree": 1,
         "QDA": 1,
         "Gradient_Boosting": 1,
         "_deepnote_index_column": 39
        },
        {
         "0": 1,
         "Logistic_Regression": 1,
         "KNN": 1,
         "SVM": 1,
         "Random_Forest": 1,
         "Decision_Tree": 1,
         "QDA": 1,
         "Gradient_Boosting": 1,
         "_deepnote_index_column": 40
        },
        {
         "0": 0,
         "Logistic_Regression": 0,
         "KNN": 1,
         "SVM": 0,
         "Random_Forest": 0,
         "Decision_Tree": 0,
         "QDA": 0,
         "Gradient_Boosting": 0,
         "_deepnote_index_column": 41
        },
        {
         "0": 1,
         "Logistic_Regression": 1,
         "KNN": 1,
         "SVM": 1,
         "Random_Forest": 1,
         "Decision_Tree": 1,
         "QDA": 1,
         "Gradient_Boosting": 1,
         "_deepnote_index_column": 42
        },
        {
         "0": 0,
         "Logistic_Regression": 1,
         "KNN": 1,
         "SVM": 1,
         "Random_Forest": 1,
         "Decision_Tree": 1,
         "QDA": 0,
         "Gradient_Boosting": 1,
         "_deepnote_index_column": 43
        },
        {
         "0": 1,
         "Logistic_Regression": 1,
         "KNN": 1,
         "SVM": 1,
         "Random_Forest": 1,
         "Decision_Tree": 1,
         "QDA": 1,
         "Gradient_Boosting": 1,
         "_deepnote_index_column": 44
        },
        {
         "0": 1,
         "Logistic_Regression": 1,
         "KNN": 1,
         "SVM": 1,
         "Random_Forest": 1,
         "Decision_Tree": 1,
         "QDA": 1,
         "Gradient_Boosting": 1,
         "_deepnote_index_column": 45
        },
        {
         "0": 1,
         "Logistic_Regression": 1,
         "KNN": 1,
         "SVM": 1,
         "Random_Forest": 1,
         "Decision_Tree": 1,
         "QDA": 1,
         "Gradient_Boosting": 1,
         "_deepnote_index_column": 46
        },
        {
         "0": 0,
         "Logistic_Regression": 1,
         "KNN": 1,
         "SVM": 1,
         "Random_Forest": 1,
         "Decision_Tree": 1,
         "QDA": 1,
         "Gradient_Boosting": 1,
         "_deepnote_index_column": 47
        },
        {
         "0": 0,
         "Logistic_Regression": 1,
         "KNN": 1,
         "SVM": 1,
         "Random_Forest": 1,
         "Decision_Tree": 1,
         "QDA": 1,
         "Gradient_Boosting": 1,
         "_deepnote_index_column": 48
        },
        {
         "0": 1,
         "Logistic_Regression": 1,
         "KNN": 1,
         "SVM": 1,
         "Random_Forest": 1,
         "Decision_Tree": 0,
         "QDA": 0,
         "Gradient_Boosting": 0,
         "_deepnote_index_column": 49
        },
        {
         "0": 1,
         "Logistic_Regression": 1,
         "KNN": 1,
         "SVM": 0,
         "Random_Forest": 1,
         "Decision_Tree": 1,
         "QDA": 1,
         "Gradient_Boosting": 1,
         "_deepnote_index_column": 50
        },
        {
         "0": 1,
         "Logistic_Regression": 1,
         "KNN": 1,
         "SVM": 1,
         "Random_Forest": 1,
         "Decision_Tree": 1,
         "QDA": 1,
         "Gradient_Boosting": 1,
         "_deepnote_index_column": 51
        },
        {
         "0": 1,
         "Logistic_Regression": 1,
         "KNN": 1,
         "SVM": 1,
         "Random_Forest": 1,
         "Decision_Tree": 1,
         "QDA": 1,
         "Gradient_Boosting": 1,
         "_deepnote_index_column": 52
        },
        {
         "0": 1,
         "Logistic_Regression": 1,
         "KNN": 1,
         "SVM": 1,
         "Random_Forest": 1,
         "Decision_Tree": 0,
         "QDA": 1,
         "Gradient_Boosting": 1,
         "_deepnote_index_column": 53
        },
        {
         "0": 1,
         "Logistic_Regression": 1,
         "KNN": 1,
         "SVM": 1,
         "Random_Forest": 1,
         "Decision_Tree": 1,
         "QDA": 1,
         "Gradient_Boosting": 1,
         "_deepnote_index_column": 54
        },
        {
         "0": 1,
         "Logistic_Regression": 1,
         "KNN": 1,
         "SVM": 1,
         "Random_Forest": 0,
         "Decision_Tree": 0,
         "QDA": 1,
         "Gradient_Boosting": 1,
         "_deepnote_index_column": 55
        },
        {
         "0": 1,
         "Logistic_Regression": 1,
         "KNN": 1,
         "SVM": 1,
         "Random_Forest": 1,
         "Decision_Tree": 0,
         "QDA": 1,
         "Gradient_Boosting": 1,
         "_deepnote_index_column": 56
        },
        {
         "0": 1,
         "Logistic_Regression": 0,
         "KNN": 1,
         "SVM": 1,
         "Random_Forest": 1,
         "Decision_Tree": 1,
         "QDA": 0,
         "Gradient_Boosting": 1,
         "_deepnote_index_column": 57
        },
        {
         "0": 0,
         "Logistic_Regression": 1,
         "KNN": 1,
         "SVM": 1,
         "Random_Forest": 1,
         "Decision_Tree": 1,
         "QDA": 1,
         "Gradient_Boosting": 1,
         "_deepnote_index_column": 58
        },
        {
         "0": 0,
         "Logistic_Regression": 0,
         "KNN": 1,
         "SVM": 0,
         "Random_Forest": 1,
         "Decision_Tree": 1,
         "QDA": 0,
         "Gradient_Boosting": 1,
         "_deepnote_index_column": 59
        },
        {
         "0": 1,
         "Logistic_Regression": 1,
         "KNN": 1,
         "SVM": 1,
         "Random_Forest": 0,
         "Decision_Tree": 1,
         "QDA": 1,
         "Gradient_Boosting": 1,
         "_deepnote_index_column": 60
        },
        {
         "0": 0,
         "Logistic_Regression": 1,
         "KNN": 1,
         "SVM": 1,
         "Random_Forest": 1,
         "Decision_Tree": 1,
         "QDA": 1,
         "Gradient_Boosting": 1,
         "_deepnote_index_column": 61
        }
       ],
       "rows_bottom": [
        {
         "0": 0,
         "Logistic_Regression": 0,
         "KNN": 1,
         "SVM": 0,
         "Random_Forest": 1,
         "Decision_Tree": 0,
         "QDA": 0,
         "Gradient_Boosting": 1,
         "_deepnote_index_column": 237
        },
        {
         "0": 1,
         "Logistic_Regression": 1,
         "KNN": 1,
         "SVM": 1,
         "Random_Forest": 1,
         "Decision_Tree": 1,
         "QDA": 0,
         "Gradient_Boosting": 1,
         "_deepnote_index_column": 238
        },
        {
         "0": 1,
         "Logistic_Regression": 1,
         "KNN": 1,
         "SVM": 1,
         "Random_Forest": 1,
         "Decision_Tree": 0,
         "QDA": 0,
         "Gradient_Boosting": 1,
         "_deepnote_index_column": 239
        },
        {
         "0": 1,
         "Logistic_Regression": 1,
         "KNN": 1,
         "SVM": 1,
         "Random_Forest": 1,
         "Decision_Tree": 1,
         "QDA": 1,
         "Gradient_Boosting": 1,
         "_deepnote_index_column": 240
        },
        {
         "0": 0,
         "Logistic_Regression": 1,
         "KNN": 1,
         "SVM": 0,
         "Random_Forest": 1,
         "Decision_Tree": 1,
         "QDA": 1,
         "Gradient_Boosting": 0,
         "_deepnote_index_column": 241
        },
        {
         "0": 1,
         "Logistic_Regression": 1,
         "KNN": 1,
         "SVM": 1,
         "Random_Forest": 1,
         "Decision_Tree": 1,
         "QDA": 1,
         "Gradient_Boosting": 1,
         "_deepnote_index_column": 242
        },
        {
         "0": 1,
         "Logistic_Regression": 1,
         "KNN": 1,
         "SVM": 1,
         "Random_Forest": 1,
         "Decision_Tree": 1,
         "QDA": 1,
         "Gradient_Boosting": 1,
         "_deepnote_index_column": 243
        },
        {
         "0": 1,
         "Logistic_Regression": 1,
         "KNN": 1,
         "SVM": 1,
         "Random_Forest": 1,
         "Decision_Tree": 1,
         "QDA": 1,
         "Gradient_Boosting": 1,
         "_deepnote_index_column": 244
        },
        {
         "0": 0,
         "Logistic_Regression": 1,
         "KNN": 1,
         "SVM": 1,
         "Random_Forest": 1,
         "Decision_Tree": 1,
         "QDA": 1,
         "Gradient_Boosting": 1,
         "_deepnote_index_column": 245
        },
        {
         "0": 0,
         "Logistic_Regression": 1,
         "KNN": 1,
         "SVM": 1,
         "Random_Forest": 1,
         "Decision_Tree": 1,
         "QDA": 1,
         "Gradient_Boosting": 1,
         "_deepnote_index_column": 246
        },
        {
         "0": 1,
         "Logistic_Regression": 1,
         "KNN": 1,
         "SVM": 1,
         "Random_Forest": 1,
         "Decision_Tree": 1,
         "QDA": 1,
         "Gradient_Boosting": 1,
         "_deepnote_index_column": 247
        },
        {
         "0": 1,
         "Logistic_Regression": 1,
         "KNN": 1,
         "SVM": 1,
         "Random_Forest": 1,
         "Decision_Tree": 0,
         "QDA": 1,
         "Gradient_Boosting": 1,
         "_deepnote_index_column": 248
        },
        {
         "0": 1,
         "Logistic_Regression": 1,
         "KNN": 1,
         "SVM": 1,
         "Random_Forest": 1,
         "Decision_Tree": 1,
         "QDA": 1,
         "Gradient_Boosting": 1,
         "_deepnote_index_column": 249
        },
        {
         "0": 1,
         "Logistic_Regression": 1,
         "KNN": 1,
         "SVM": 1,
         "Random_Forest": 1,
         "Decision_Tree": 1,
         "QDA": 1,
         "Gradient_Boosting": 1,
         "_deepnote_index_column": 250
        },
        {
         "0": 0,
         "Logistic_Regression": 1,
         "KNN": 1,
         "SVM": 1,
         "Random_Forest": 1,
         "Decision_Tree": 1,
         "QDA": 1,
         "Gradient_Boosting": 1,
         "_deepnote_index_column": 251
        },
        {
         "0": 1,
         "Logistic_Regression": 1,
         "KNN": 1,
         "SVM": 1,
         "Random_Forest": 1,
         "Decision_Tree": 0,
         "QDA": 1,
         "Gradient_Boosting": 1,
         "_deepnote_index_column": 252
        },
        {
         "0": 1,
         "Logistic_Regression": 1,
         "KNN": 1,
         "SVM": 1,
         "Random_Forest": 1,
         "Decision_Tree": 1,
         "QDA": 1,
         "Gradient_Boosting": 1,
         "_deepnote_index_column": 253
        },
        {
         "0": 0,
         "Logistic_Regression": 1,
         "KNN": 1,
         "SVM": 1,
         "Random_Forest": 1,
         "Decision_Tree": 1,
         "QDA": 1,
         "Gradient_Boosting": 1,
         "_deepnote_index_column": 254
        },
        {
         "0": 1,
         "Logistic_Regression": 1,
         "KNN": 1,
         "SVM": 1,
         "Random_Forest": 1,
         "Decision_Tree": 1,
         "QDA": 1,
         "Gradient_Boosting": 1,
         "_deepnote_index_column": 255
        },
        {
         "0": 1,
         "Logistic_Regression": 1,
         "KNN": 1,
         "SVM": 1,
         "Random_Forest": 1,
         "Decision_Tree": 1,
         "QDA": 1,
         "Gradient_Boosting": 1,
         "_deepnote_index_column": 256
        },
        {
         "0": 0,
         "Logistic_Regression": 1,
         "KNN": 1,
         "SVM": 1,
         "Random_Forest": 1,
         "Decision_Tree": 1,
         "QDA": 1,
         "Gradient_Boosting": 1,
         "_deepnote_index_column": 257
        },
        {
         "0": 0,
         "Logistic_Regression": 1,
         "KNN": 1,
         "SVM": 1,
         "Random_Forest": 0,
         "Decision_Tree": 0,
         "QDA": 1,
         "Gradient_Boosting": 1,
         "_deepnote_index_column": 258
        },
        {
         "0": 1,
         "Logistic_Regression": 1,
         "KNN": 1,
         "SVM": 1,
         "Random_Forest": 1,
         "Decision_Tree": 0,
         "QDA": 1,
         "Gradient_Boosting": 1,
         "_deepnote_index_column": 259
        },
        {
         "0": 1,
         "Logistic_Regression": 1,
         "KNN": 1,
         "SVM": 1,
         "Random_Forest": 1,
         "Decision_Tree": 1,
         "QDA": 1,
         "Gradient_Boosting": 1,
         "_deepnote_index_column": 260
        },
        {
         "0": 0,
         "Logistic_Regression": 1,
         "KNN": 1,
         "SVM": 1,
         "Random_Forest": 1,
         "Decision_Tree": 1,
         "QDA": 1,
         "Gradient_Boosting": 1,
         "_deepnote_index_column": 261
        },
        {
         "0": 1,
         "Logistic_Regression": 1,
         "KNN": 1,
         "SVM": 1,
         "Random_Forest": 1,
         "Decision_Tree": 0,
         "QDA": 1,
         "Gradient_Boosting": 1,
         "_deepnote_index_column": 262
        },
        {
         "0": 1,
         "Logistic_Regression": 1,
         "KNN": 1,
         "SVM": 1,
         "Random_Forest": 1,
         "Decision_Tree": 1,
         "QDA": 1,
         "Gradient_Boosting": 1,
         "_deepnote_index_column": 263
        },
        {
         "0": 0,
         "Logistic_Regression": 1,
         "KNN": 1,
         "SVM": 1,
         "Random_Forest": 1,
         "Decision_Tree": 1,
         "QDA": 1,
         "Gradient_Boosting": 1,
         "_deepnote_index_column": 264
        },
        {
         "0": 1,
         "Logistic_Regression": 1,
         "KNN": 1,
         "SVM": 1,
         "Random_Forest": 1,
         "Decision_Tree": 1,
         "QDA": 1,
         "Gradient_Boosting": 1,
         "_deepnote_index_column": 265
        },
        {
         "0": 1,
         "Logistic_Regression": 1,
         "KNN": 1,
         "SVM": 1,
         "Random_Forest": 0,
         "Decision_Tree": 0,
         "QDA": 0,
         "Gradient_Boosting": 1,
         "_deepnote_index_column": 266
        },
        {
         "0": 0,
         "Logistic_Regression": 0,
         "KNN": 1,
         "SVM": 0,
         "Random_Forest": 1,
         "Decision_Tree": 0,
         "QDA": 0,
         "Gradient_Boosting": 0,
         "_deepnote_index_column": 267
        },
        {
         "0": 1,
         "Logistic_Regression": 1,
         "KNN": 1,
         "SVM": 1,
         "Random_Forest": 1,
         "Decision_Tree": 0,
         "QDA": 1,
         "Gradient_Boosting": 0,
         "_deepnote_index_column": 268
        },
        {
         "0": 0,
         "Logistic_Regression": 1,
         "KNN": 1,
         "SVM": 1,
         "Random_Forest": 1,
         "Decision_Tree": 1,
         "QDA": 1,
         "Gradient_Boosting": 1,
         "_deepnote_index_column": 269
        },
        {
         "0": 1,
         "Logistic_Regression": 1,
         "KNN": 1,
         "SVM": 1,
         "Random_Forest": 1,
         "Decision_Tree": 1,
         "QDA": 1,
         "Gradient_Boosting": 1,
         "_deepnote_index_column": 270
        },
        {
         "0": 0,
         "Logistic_Regression": 1,
         "KNN": 0,
         "SVM": 1,
         "Random_Forest": 1,
         "Decision_Tree": 1,
         "QDA": 1,
         "Gradient_Boosting": 1,
         "_deepnote_index_column": 271
        },
        {
         "0": 1,
         "Logistic_Regression": 1,
         "KNN": 1,
         "SVM": 1,
         "Random_Forest": 0,
         "Decision_Tree": 0,
         "QDA": 1,
         "Gradient_Boosting": 1,
         "_deepnote_index_column": 272
        },
        {
         "0": 0,
         "Logistic_Regression": 1,
         "KNN": 1,
         "SVM": 1,
         "Random_Forest": 1,
         "Decision_Tree": 0,
         "QDA": 0,
         "Gradient_Boosting": 1,
         "_deepnote_index_column": 273
        },
        {
         "0": 1,
         "Logistic_Regression": 1,
         "KNN": 1,
         "SVM": 1,
         "Random_Forest": 1,
         "Decision_Tree": 1,
         "QDA": 1,
         "Gradient_Boosting": 1,
         "_deepnote_index_column": 274
        },
        {
         "0": 1,
         "Logistic_Regression": 1,
         "KNN": 1,
         "SVM": 1,
         "Random_Forest": 1,
         "Decision_Tree": 1,
         "QDA": 1,
         "Gradient_Boosting": 1,
         "_deepnote_index_column": 275
        },
        {
         "0": 1,
         "Logistic_Regression": 1,
         "KNN": 1,
         "SVM": 1,
         "Random_Forest": 1,
         "Decision_Tree": 0,
         "QDA": 1,
         "Gradient_Boosting": 0,
         "_deepnote_index_column": 276
        },
        {
         "0": 0,
         "Logistic_Regression": 0,
         "KNN": 1,
         "SVM": 0,
         "Random_Forest": 0,
         "Decision_Tree": 1,
         "QDA": 0,
         "Gradient_Boosting": 1,
         "_deepnote_index_column": 277
        },
        {
         "0": 1,
         "Logistic_Regression": 1,
         "KNN": 1,
         "SVM": 1,
         "Random_Forest": 0,
         "Decision_Tree": 0,
         "QDA": 1,
         "Gradient_Boosting": 1,
         "_deepnote_index_column": 278
        },
        {
         "0": 1,
         "Logistic_Regression": 1,
         "KNN": 1,
         "SVM": 0,
         "Random_Forest": 0,
         "Decision_Tree": 1,
         "QDA": 1,
         "Gradient_Boosting": 1,
         "_deepnote_index_column": 279
        },
        {
         "0": 0,
         "Logistic_Regression": 1,
         "KNN": 1,
         "SVM": 0,
         "Random_Forest": 0,
         "Decision_Tree": 0,
         "QDA": 1,
         "Gradient_Boosting": 0,
         "_deepnote_index_column": 280
        },
        {
         "0": 1,
         "Logistic_Regression": 1,
         "KNN": 1,
         "SVM": 1,
         "Random_Forest": 1,
         "Decision_Tree": 0,
         "QDA": 1,
         "Gradient_Boosting": 1,
         "_deepnote_index_column": 281
        },
        {
         "0": 0,
         "Logistic_Regression": 0,
         "KNN": 0,
         "SVM": 0,
         "Random_Forest": 0,
         "Decision_Tree": 1,
         "QDA": 0,
         "Gradient_Boosting": 0,
         "_deepnote_index_column": 282
        },
        {
         "0": 1,
         "Logistic_Regression": 1,
         "KNN": 1,
         "SVM": 1,
         "Random_Forest": 0,
         "Decision_Tree": 0,
         "QDA": 1,
         "Gradient_Boosting": 0,
         "_deepnote_index_column": 283
        },
        {
         "0": 1,
         "Logistic_Regression": 1,
         "KNN": 1,
         "SVM": 1,
         "Random_Forest": 1,
         "Decision_Tree": 1,
         "QDA": 1,
         "Gradient_Boosting": 1,
         "_deepnote_index_column": 284
        },
        {
         "0": 0,
         "Logistic_Regression": 1,
         "KNN": 1,
         "SVM": 1,
         "Random_Forest": 1,
         "Decision_Tree": 1,
         "QDA": 1,
         "Gradient_Boosting": 1,
         "_deepnote_index_column": 285
        },
        {
         "0": 1,
         "Logistic_Regression": 1,
         "KNN": 1,
         "SVM": 1,
         "Random_Forest": 1,
         "Decision_Tree": 1,
         "QDA": 1,
         "Gradient_Boosting": 1,
         "_deepnote_index_column": 286
        },
        {
         "0": 1,
         "Logistic_Regression": 1,
         "KNN": 1,
         "SVM": 1,
         "Random_Forest": 1,
         "Decision_Tree": 1,
         "QDA": 1,
         "Gradient_Boosting": 1,
         "_deepnote_index_column": 287
        },
        {
         "0": 0,
         "Logistic_Regression": 0,
         "KNN": 1,
         "SVM": 0,
         "Random_Forest": 1,
         "Decision_Tree": 0,
         "QDA": 0,
         "Gradient_Boosting": 1,
         "_deepnote_index_column": 288
        },
        {
         "0": 1,
         "Logistic_Regression": 1,
         "KNN": 1,
         "SVM": 1,
         "Random_Forest": 1,
         "Decision_Tree": 1,
         "QDA": 1,
         "Gradient_Boosting": 1,
         "_deepnote_index_column": 289
        },
        {
         "0": 1,
         "Logistic_Regression": 1,
         "KNN": 1,
         "SVM": 1,
         "Random_Forest": 1,
         "Decision_Tree": 1,
         "QDA": 1,
         "Gradient_Boosting": 1,
         "_deepnote_index_column": 290
        },
        {
         "0": 1,
         "Logistic_Regression": 1,
         "KNN": 1,
         "SVM": 1,
         "Random_Forest": 1,
         "Decision_Tree": 1,
         "QDA": 1,
         "Gradient_Boosting": 1,
         "_deepnote_index_column": 291
        },
        {
         "0": 0,
         "Logistic_Regression": 1,
         "KNN": 1,
         "SVM": 0,
         "Random_Forest": 1,
         "Decision_Tree": 1,
         "QDA": 1,
         "Gradient_Boosting": 0,
         "_deepnote_index_column": 292
        },
        {
         "0": 1,
         "Logistic_Regression": 1,
         "KNN": 1,
         "SVM": 1,
         "Random_Forest": 1,
         "Decision_Tree": 1,
         "QDA": 1,
         "Gradient_Boosting": 1,
         "_deepnote_index_column": 293
        },
        {
         "0": 0,
         "Logistic_Regression": 1,
         "KNN": 1,
         "SVM": 1,
         "Random_Forest": 1,
         "Decision_Tree": 1,
         "QDA": 1,
         "Gradient_Boosting": 1,
         "_deepnote_index_column": 294
        },
        {
         "0": 1,
         "Logistic_Regression": 1,
         "KNN": 1,
         "SVM": 1,
         "Random_Forest": 1,
         "Decision_Tree": 1,
         "QDA": 1,
         "Gradient_Boosting": 1,
         "_deepnote_index_column": 295
        },
        {
         "0": 1,
         "Logistic_Regression": 1,
         "KNN": 1,
         "SVM": 1,
         "Random_Forest": 1,
         "Decision_Tree": 1,
         "QDA": 1,
         "Gradient_Boosting": 1,
         "_deepnote_index_column": 296
        },
        {
         "0": 1,
         "Logistic_Regression": 1,
         "KNN": 1,
         "SVM": 1,
         "Random_Forest": 1,
         "Decision_Tree": 1,
         "QDA": 1,
         "Gradient_Boosting": 1,
         "_deepnote_index_column": 297
        },
        {
         "0": 0,
         "Logistic_Regression": 1,
         "KNN": 1,
         "SVM": 1,
         "Random_Forest": 1,
         "Decision_Tree": 1,
         "QDA": 1,
         "Gradient_Boosting": 1,
         "_deepnote_index_column": 298
        },
        {
         "0": 1,
         "Logistic_Regression": 1,
         "KNN": 1,
         "SVM": 1,
         "Random_Forest": 1,
         "Decision_Tree": 1,
         "QDA": 1,
         "Gradient_Boosting": 1,
         "_deepnote_index_column": 299
        }
       ]
      },
      "text/plain": "     0  Logistic_Regression  KNN  SVM  Random_Forest  Decision_Tree  QDA  \\\n0    1                    1    1    0              0              1    1   \n1    1                    1    1    1              1              0    1   \n2    0                    1    1    1              1              1    1   \n3    0                    0    1    0              0              0    1   \n4    0                    1    1    1              1              0    1   \n..  ..                  ...  ...  ...            ...            ...  ...   \n295  1                    1    1    1              1              1    1   \n296  1                    1    1    1              1              1    1   \n297  1                    1    1    1              1              1    1   \n298  0                    1    1    1              1              1    1   \n299  1                    1    1    1              1              1    1   \n\n     Gradient_Boosting  \n0                    0  \n1                    1  \n2                    1  \n3                    1  \n4                    1  \n..                 ...  \n295                  1  \n296                  1  \n297                  1  \n298                  1  \n299                  1  \n\n[300 rows x 8 columns]",
      "text/html": "<div>\n<style scoped>\n    .dataframe tbody tr th:only-of-type {\n        vertical-align: middle;\n    }\n\n    .dataframe tbody tr th {\n        vertical-align: top;\n    }\n\n    .dataframe thead th {\n        text-align: right;\n    }\n</style>\n<table border=\"1\" class=\"dataframe\">\n  <thead>\n    <tr style=\"text-align: right;\">\n      <th></th>\n      <th>0</th>\n      <th>Logistic_Regression</th>\n      <th>KNN</th>\n      <th>SVM</th>\n      <th>Random_Forest</th>\n      <th>Decision_Tree</th>\n      <th>QDA</th>\n      <th>Gradient_Boosting</th>\n    </tr>\n  </thead>\n  <tbody>\n    <tr>\n      <th>0</th>\n      <td>1</td>\n      <td>1</td>\n      <td>1</td>\n      <td>0</td>\n      <td>0</td>\n      <td>1</td>\n      <td>1</td>\n      <td>0</td>\n    </tr>\n    <tr>\n      <th>1</th>\n      <td>1</td>\n      <td>1</td>\n      <td>1</td>\n      <td>1</td>\n      <td>1</td>\n      <td>0</td>\n      <td>1</td>\n      <td>1</td>\n    </tr>\n    <tr>\n      <th>2</th>\n      <td>0</td>\n      <td>1</td>\n      <td>1</td>\n      <td>1</td>\n      <td>1</td>\n      <td>1</td>\n      <td>1</td>\n      <td>1</td>\n    </tr>\n    <tr>\n      <th>3</th>\n      <td>0</td>\n      <td>0</td>\n      <td>1</td>\n      <td>0</td>\n      <td>0</td>\n      <td>0</td>\n      <td>1</td>\n      <td>1</td>\n    </tr>\n    <tr>\n      <th>4</th>\n      <td>0</td>\n      <td>1</td>\n      <td>1</td>\n      <td>1</td>\n      <td>1</td>\n      <td>0</td>\n      <td>1</td>\n      <td>1</td>\n    </tr>\n    <tr>\n      <th>...</th>\n      <td>...</td>\n      <td>...</td>\n      <td>...</td>\n      <td>...</td>\n      <td>...</td>\n      <td>...</td>\n      <td>...</td>\n      <td>...</td>\n    </tr>\n    <tr>\n      <th>295</th>\n      <td>1</td>\n      <td>1</td>\n      <td>1</td>\n      <td>1</td>\n      <td>1</td>\n      <td>1</td>\n      <td>1</td>\n      <td>1</td>\n    </tr>\n    <tr>\n      <th>296</th>\n      <td>1</td>\n      <td>1</td>\n      <td>1</td>\n      <td>1</td>\n      <td>1</td>\n      <td>1</td>\n      <td>1</td>\n      <td>1</td>\n    </tr>\n    <tr>\n      <th>297</th>\n      <td>1</td>\n      <td>1</td>\n      <td>1</td>\n      <td>1</td>\n      <td>1</td>\n      <td>1</td>\n      <td>1</td>\n      <td>1</td>\n    </tr>\n    <tr>\n      <th>298</th>\n      <td>0</td>\n      <td>1</td>\n      <td>1</td>\n      <td>1</td>\n      <td>1</td>\n      <td>1</td>\n      <td>1</td>\n      <td>1</td>\n    </tr>\n    <tr>\n      <th>299</th>\n      <td>1</td>\n      <td>1</td>\n      <td>1</td>\n      <td>1</td>\n      <td>1</td>\n      <td>1</td>\n      <td>1</td>\n      <td>1</td>\n    </tr>\n  </tbody>\n</table>\n<p>300 rows × 8 columns</p>\n</div>"
     },
     "metadata": {}
    }
   ]
  },
  {
   "cell_type": "code",
   "metadata": {
    "tags": [],
    "cell_id": "00033-fcdfd98a-0bfd-40ae-bc43-d7252bc14f6a",
    "deepnote_to_be_reexecuted": false,
    "source_hash": "5ac6d0c2",
    "execution_start": 1636905327214,
    "execution_millis": 1,
    "deepnote_cell_type": "code"
   },
   "source": "estimators = [\n    ('LR', LogisticRegression(random_state = 0)),\n    ('KNN', KNeighborsClassifier(n_neighbors = 23)),\n    ('SVM', SVC(kernel = 'linear')),\n    ('RF', RandomForestClassifier(n_estimators=140,criterion = 'entropy')),\n    ('DT', DecisionTreeClassifier(criterion='entropy')),\n    ('QDA', QuadraticDiscriminantAnalysis()),\n    ('NB', GaussianNB())\n    \n    #('GB', GradientBoostingClassifier(n_estimators=100, learning_rate=1.0, max_depth=1, random_state=0))\n]",
   "execution_count": null,
   "outputs": []
  },
  {
   "cell_type": "code",
   "metadata": {
    "tags": [],
    "cell_id": "00034-d72d4e04-f250-4e35-a385-c627c6e003ad",
    "deepnote_to_be_reexecuted": false,
    "source_hash": "99024729",
    "execution_start": 1636905327215,
    "execution_millis": 3,
    "deepnote_cell_type": "code"
   },
   "source": "print(f1_dt)\nprint(f1_knn)\nprint(f1_svm)\nprint(f1_qda)\nprint(f1_rf)\nprint(f1_gb)\nprint(f1_lr)",
   "execution_count": null,
   "outputs": [
    {
     "name": "stdout",
     "text": "0.7228915662650603\n0.7975708502024291\n0.8026315789473685\n0.761904761904762\n0.7747747747747747\n0.791304347826087\n0.8118393234672305\n",
     "output_type": "stream"
    }
   ]
  },
  {
   "cell_type": "code",
   "metadata": {
    "tags": [],
    "cell_id": "00034-a52b540d-6610-41f3-be6e-acb4d2a94132",
    "deepnote_to_be_reexecuted": false,
    "source_hash": "46da4191",
    "execution_start": 1636905327216,
    "execution_millis": 277692,
    "deepnote_cell_type": "code"
   },
   "source": "from sklearn.ensemble import StackingClassifier\nclf = StackingClassifier(\n    estimators = estimators, final_estimator = SVC())\n\nclf.fit(X_validate, y_validate).score(X_test, y_test)\n",
   "execution_count": null,
   "outputs": [
    {
     "name": "stderr",
     "text": "/shared-libs/python3.7/py/lib/python3.7/site-packages/sklearn/linear_model/_logistic.py:818: ConvergenceWarning: lbfgs failed to converge (status=1):\nSTOP: TOTAL NO. of ITERATIONS REACHED LIMIT.\n\nIncrease the number of iterations (max_iter) or scale the data as shown in:\n    https://scikit-learn.org/stable/modules/preprocessing.html\nPlease also refer to the documentation for alternative solver options:\n    https://scikit-learn.org/stable/modules/linear_model.html#logistic-regression\n  extra_warning_msg=_LOGISTIC_SOLVER_CONVERGENCE_MSG,\n/shared-libs/python3.7/py/lib/python3.7/site-packages/sklearn/linear_model/_logistic.py:818: ConvergenceWarning: lbfgs failed to converge (status=1):\nSTOP: TOTAL NO. of ITERATIONS REACHED LIMIT.\n\nIncrease the number of iterations (max_iter) or scale the data as shown in:\n    https://scikit-learn.org/stable/modules/preprocessing.html\nPlease also refer to the documentation for alternative solver options:\n    https://scikit-learn.org/stable/modules/linear_model.html#logistic-regression\n  extra_warning_msg=_LOGISTIC_SOLVER_CONVERGENCE_MSG,\n/shared-libs/python3.7/py/lib/python3.7/site-packages/sklearn/linear_model/_logistic.py:818: ConvergenceWarning: lbfgs failed to converge (status=1):\nSTOP: TOTAL NO. of ITERATIONS REACHED LIMIT.\n\nIncrease the number of iterations (max_iter) or scale the data as shown in:\n    https://scikit-learn.org/stable/modules/preprocessing.html\nPlease also refer to the documentation for alternative solver options:\n    https://scikit-learn.org/stable/modules/linear_model.html#logistic-regression\n  extra_warning_msg=_LOGISTIC_SOLVER_CONVERGENCE_MSG,\n",
     "output_type": "stream"
    },
    {
     "output_type": "execute_result",
     "execution_count": 37,
     "data": {
      "text/plain": "0.68"
     },
     "metadata": {}
    }
   ]
  },
  {
   "cell_type": "code",
   "metadata": {
    "tags": [],
    "cell_id": "00035-1279a41c-d9fa-4e4f-a39c-587dab3d3d75",
    "deepnote_to_be_reexecuted": false,
    "source_hash": "78463118",
    "execution_start": 1636905604907,
    "execution_millis": 48,
    "deepnote_cell_type": "code"
   },
   "source": "final_prediction = clf.predict(X_test)\nfinal_prediction",
   "execution_count": null,
   "outputs": [
    {
     "output_type": "execute_result",
     "execution_count": 38,
     "data": {
      "text/plain": "array([1, 1, 1, 1, 1, 0, 1, 1, 1, 1, 1, 1, 1, 1, 1, 1, 1, 1, 1, 1, 1, 1,\n       1, 1, 1, 1, 0, 0, 1, 1, 0, 1, 1, 1, 0, 1, 1, 1, 1, 1, 1, 0, 1, 1,\n       1, 1, 1, 1, 1, 1, 1, 1, 1, 1, 1, 1, 1, 0, 1, 1, 1, 1, 1, 1, 1, 0,\n       1, 0, 1, 1, 1, 1, 1, 1, 1, 1, 1, 1, 1, 1, 1, 1, 1, 1, 1, 1, 1, 1,\n       0, 1, 1, 1, 1, 1, 1, 1, 1, 1, 0, 1, 1, 1, 1, 1, 1, 0, 1, 1, 1, 1,\n       1, 1, 1, 1, 1, 1, 1, 1, 1, 1, 1, 1, 1, 1, 1, 0, 1, 1, 1, 1, 1, 1,\n       1, 1, 1, 1, 0, 1, 0, 1, 1, 1, 1, 1, 1, 1, 1, 1, 1, 1, 1, 1, 1, 1,\n       1, 1, 1, 1, 1, 1, 1, 1, 1, 1, 1, 1, 1, 1, 1, 1, 1, 1, 1, 1, 1, 1,\n       1, 1, 1, 1, 1, 1, 1, 1, 1, 1, 1, 1, 1, 0, 1, 1, 1, 1, 1, 1, 1, 1,\n       1, 1, 1, 1, 1, 0, 1, 1, 1, 1, 1, 1, 1, 1, 1, 0, 1, 1, 1, 1, 1, 1,\n       1, 0, 1, 1, 1, 1, 1, 1, 1, 1, 1, 1, 1, 1, 1, 1, 1, 1, 1, 1, 1, 1,\n       1, 1, 1, 1, 1, 1, 1, 1, 1, 1, 1, 1, 1, 1, 1, 1, 1, 1, 1, 1, 1, 1,\n       1, 1, 1, 1, 1, 1, 1, 0, 1, 1, 1, 1, 1, 0, 1, 1, 1, 1, 0, 1, 1, 1,\n       1, 1, 1, 1, 1, 1, 1, 1, 1, 1, 1, 1, 1, 1])"
     },
     "metadata": {}
    }
   ]
  },
  {
   "cell_type": "markdown",
   "source": "# Model export",
   "metadata": {
    "tags": [],
    "cell_id": "00026-9a641658-76ac-422a-afde-150c4c5bef08",
    "deepnote_cell_type": "markdown"
   }
  },
  {
   "cell_type": "code",
   "metadata": {
    "tags": [],
    "cell_id": "00026-80843407-9dbe-4461-bfe1-c96786a88c92",
    "deepnote_to_be_reexecuted": false,
    "source_hash": "1083c0a",
    "execution_start": 1636905604963,
    "execution_millis": 281,
    "deepnote_cell_type": "code"
   },
   "source": "import pickle\n\nfilename = 'model.sav'\npickle.dump(clf, open(filename, 'wb'))",
   "execution_count": null,
   "outputs": []
  },
  {
   "cell_type": "code",
   "metadata": {
    "tags": [],
    "cell_id": "00027-4223a939-fd0c-4731-98d8-f6dd6f5405c8",
    "deepnote_to_be_reexecuted": false,
    "source_hash": "746ee574",
    "execution_start": 1636905605255,
    "execution_millis": 83,
    "deepnote_cell_type": "code"
   },
   "source": "loaded_model = pickle.load(open(filename, 'rb'))\nresult = loaded_model.predict(X_test)\nprint(result)",
   "execution_count": null,
   "outputs": [
    {
     "name": "stdout",
     "text": "[1 1 1 1 1 0 1 1 1 1 1 1 1 1 1 1 1 1 1 1 1 1 1 1 1 1 0 0 1 1 0 1 1 1 0 1 1\n 1 1 1 1 0 1 1 1 1 1 1 1 1 1 1 1 1 1 1 1 0 1 1 1 1 1 1 1 0 1 0 1 1 1 1 1 1\n 1 1 1 1 1 1 1 1 1 1 1 1 1 1 0 1 1 1 1 1 1 1 1 1 0 1 1 1 1 1 1 0 1 1 1 1 1\n 1 1 1 1 1 1 1 1 1 1 1 1 1 1 0 1 1 1 1 1 1 1 1 1 1 0 1 0 1 1 1 1 1 1 1 1 1\n 1 1 1 1 1 1 1 1 1 1 1 1 1 1 1 1 1 1 1 1 1 1 1 1 1 1 1 1 1 1 1 1 1 1 1 1 1\n 1 1 1 1 0 1 1 1 1 1 1 1 1 1 1 1 1 1 0 1 1 1 1 1 1 1 1 1 0 1 1 1 1 1 1 1 0\n 1 1 1 1 1 1 1 1 1 1 1 1 1 1 1 1 1 1 1 1 1 1 1 1 1 1 1 1 1 1 1 1 1 1 1 1 1\n 1 1 1 1 1 1 1 1 1 1 1 1 0 1 1 1 1 1 0 1 1 1 1 0 1 1 1 1 1 1 1 1 1 1 1 1 1\n 1 1 1 1]\n",
     "output_type": "stream"
    }
   ]
  },
  {
   "cell_type": "code",
   "metadata": {
    "tags": [],
    "cell_id": "00040-214f40cf-0af7-42b4-a360-dab4d65c954f",
    "deepnote_to_be_reexecuted": false,
    "source_hash": "7edf8ff",
    "execution_start": 1636905605339,
    "execution_millis": 2,
    "deepnote_cell_type": "code"
   },
   "source": "X_test[20]",
   "execution_count": null,
   "outputs": [
    {
     "output_type": "execute_result",
     "execution_count": 41,
     "data": {
      "text/plain": "array([  35,    1,    2,    1,    0,    0, 1979,   15,    5])"
     },
     "metadata": {}
    }
   ]
  },
  {
   "cell_type": "code",
   "metadata": {
    "tags": [],
    "cell_id": "00031-ee9d3c71-b2a9-4880-8a0c-28b52bdce83a",
    "deepnote_to_be_reexecuted": false,
    "source_hash": "c1a79b29",
    "execution_start": 1636905605340,
    "execution_millis": 101739485,
    "deepnote_cell_type": "code"
   },
   "source": "# def get_value_names(df, column):\n#     return df[column].value_counts().index\n\n# for item in [\"Sex\", \"Purpose\", \"Saving_accounts\", \"Checking_account\"]:\n#     print(get_value_names(df1, item),\"\\n\\n\")\n\n# X.Sex = L3.fit_transform(X.Sex)\n# X.Housing = L3.fit_transform(X.Housing)\n# X.Purpose = L3.fit_transform(X.Purpose)\n# X.Saving_accounts = L3.fit_transform(X.Saving_accounts)\n# X.Checking_account = L3.fit_transform(X.Checking_account)\n# y = L3.fit_transform(y)\n# X",
   "execution_count": null,
   "outputs": []
  },
  {
   "cell_type": "code",
   "metadata": {
    "tags": [],
    "cell_id": "00029-8d77826a-63a0-4c34-8be0-8e7e0e335a73",
    "deepnote_to_be_reexecuted": false,
    "source_hash": "64803cf9",
    "execution_start": 1636905605342,
    "execution_millis": 101586232,
    "deepnote_cell_type": "code"
   },
   "source": "# sample = ['22', 'male', '1 - unskilled and resident', 'own', 'little', 'moderate', '2000', '12', 'business']\n\n# sample = np.array(sample)\n# sample.shape\n# encoders\n",
   "execution_count": null,
   "outputs": []
  },
  {
   "cell_type": "code",
   "metadata": {
    "tags": [],
    "cell_id": "00030-586e76f1-98f2-49f5-bd83-8052f558a42e",
    "deepnote_to_be_reexecuted": false,
    "source_hash": "c4b13b4c",
    "execution_start": 1636905605347,
    "execution_millis": 101583523,
    "deepnote_cell_type": "code"
   },
   "source": "# encoders[\"Sex\"].transform([sample[1]])",
   "execution_count": null,
   "outputs": []
  },
  {
   "cell_type": "markdown",
   "source": "<a style='text-decoration:none;line-height:16px;display:flex;color:#5B5B62;padding:10px;justify-content:end;' href='https://deepnote.com?utm_source=created-in-deepnote-cell&projectId=6477aea1-ef42-4c18-8df6-e762bd995b06' target=\"_blank\">\n<img alt='Created in deepnote.com' style='display:inline;max-height:16px;margin:0px;margin-right:7.5px;' src='data:image/svg+xml;base64,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' > </img>\nCreated in <span style='font-weight:600;margin-left:4px;'>Deepnote</span></a>",
   "metadata": {
    "tags": [],
    "created_in_deepnote_cell": true,
    "deepnote_cell_type": "markdown"
   }
  }
 ],
 "nbformat": 4,
 "nbformat_minor": 4,
 "metadata": {
  "kernelspec": {
   "display_name": "Python 3",
   "language": "python",
   "name": "python3"
  },
  "language_info": {
   "codemirror_mode": {
    "name": "ipython",
    "version": 3
   },
   "file_extension": ".py",
   "mimetype": "text/x-python",
   "name": "python",
   "nbconvert_exporter": "python",
   "pygments_lexer": "ipython3",
   "version": "3.8.5"
  },
  "deepnote_notebook_id": "7620113f-37f5-4ec1-a3a0-5b2ca6a16e09",
  "deepnote": {},
  "deepnote_execution_queue": []
 }
}