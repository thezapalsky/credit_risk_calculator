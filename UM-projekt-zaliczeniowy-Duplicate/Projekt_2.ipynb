{
 "cells": [
  {
   "cell_type": "code",
   "metadata": {
    "cell_id": "00000-761348e5-ac6d-4800-800d-2d7ce4dbea67",
    "deepnote_to_be_reexecuted": false,
    "source_hash": "78ed97fa",
    "execution_start": 1636739592176,
    "execution_millis": 2902808,
    "deepnote_cell_type": "code"
   },
   "source": "import pandas as pd \nimport numpy as np",
   "outputs": [],
   "execution_count": null
  },
  {
   "cell_type": "code",
   "metadata": {
    "cell_id": "00001-94dda668-fb90-467a-bf65-7bfda0c2c5ca",
    "deepnote_to_be_reexecuted": false,
    "source_hash": "e182bc5c",
    "execution_start": 1636739592177,
    "execution_millis": 114,
    "deepnote_cell_type": "code"
   },
   "source": "df1 = pd.read_csv('german_credit_data.csv')\ndf1.head()",
   "outputs": [
    {
     "output_type": "execute_result",
     "execution_count": 2,
     "data": {
      "application/vnd.deepnote.dataframe.v2+json": {
       "row_count": 5,
       "column_count": 11,
       "columns": [
        {
         "name": "Unnamed: 0",
         "dtype": "int64",
         "stats": {
          "unique_count": 5,
          "nan_count": 0,
          "min": "0",
          "max": "4",
          "histogram": [
           {
            "bin_start": 0,
            "bin_end": 0.4,
            "count": 1
           },
           {
            "bin_start": 0.4,
            "bin_end": 0.8,
            "count": 0
           },
           {
            "bin_start": 0.8,
            "bin_end": 1.2000000000000002,
            "count": 1
           },
           {
            "bin_start": 1.2000000000000002,
            "bin_end": 1.6,
            "count": 0
           },
           {
            "bin_start": 1.6,
            "bin_end": 2,
            "count": 0
           },
           {
            "bin_start": 2,
            "bin_end": 2.4000000000000004,
            "count": 1
           },
           {
            "bin_start": 2.4000000000000004,
            "bin_end": 2.8000000000000003,
            "count": 0
           },
           {
            "bin_start": 2.8000000000000003,
            "bin_end": 3.2,
            "count": 1
           },
           {
            "bin_start": 3.2,
            "bin_end": 3.6,
            "count": 0
           },
           {
            "bin_start": 3.6,
            "bin_end": 4,
            "count": 1
           }
          ]
         }
        },
        {
         "name": "Age",
         "dtype": "int64",
         "stats": {
          "unique_count": 5,
          "nan_count": 0,
          "min": "22",
          "max": "67",
          "histogram": [
           {
            "bin_start": 22,
            "bin_end": 26.5,
            "count": 1
           },
           {
            "bin_start": 26.5,
            "bin_end": 31,
            "count": 0
           },
           {
            "bin_start": 31,
            "bin_end": 35.5,
            "count": 0
           },
           {
            "bin_start": 35.5,
            "bin_end": 40,
            "count": 0
           },
           {
            "bin_start": 40,
            "bin_end": 44.5,
            "count": 0
           },
           {
            "bin_start": 44.5,
            "bin_end": 49,
            "count": 1
           },
           {
            "bin_start": 49,
            "bin_end": 53.5,
            "count": 2
           },
           {
            "bin_start": 53.5,
            "bin_end": 58,
            "count": 0
           },
           {
            "bin_start": 58,
            "bin_end": 62.5,
            "count": 0
           },
           {
            "bin_start": 62.5,
            "bin_end": 67,
            "count": 1
           }
          ]
         }
        },
        {
         "name": "Sex",
         "dtype": "object",
         "stats": {
          "unique_count": 2,
          "nan_count": 0,
          "categories": [
           {
            "name": "male",
            "count": 4
           },
           {
            "name": "female",
            "count": 1
           }
          ]
         }
        },
        {
         "name": "Job",
         "dtype": "int64",
         "stats": {
          "unique_count": 2,
          "nan_count": 0,
          "min": "1",
          "max": "2",
          "histogram": [
           {
            "bin_start": 1,
            "bin_end": 1.1,
            "count": 1
           },
           {
            "bin_start": 1.1,
            "bin_end": 1.2,
            "count": 0
           },
           {
            "bin_start": 1.2,
            "bin_end": 1.3,
            "count": 0
           },
           {
            "bin_start": 1.3,
            "bin_end": 1.4,
            "count": 0
           },
           {
            "bin_start": 1.4,
            "bin_end": 1.5,
            "count": 0
           },
           {
            "bin_start": 1.5,
            "bin_end": 1.6,
            "count": 0
           },
           {
            "bin_start": 1.6,
            "bin_end": 1.7000000000000002,
            "count": 0
           },
           {
            "bin_start": 1.7000000000000002,
            "bin_end": 1.8,
            "count": 0
           },
           {
            "bin_start": 1.8,
            "bin_end": 1.9,
            "count": 0
           },
           {
            "bin_start": 1.9,
            "bin_end": 2,
            "count": 4
           }
          ]
         }
        },
        {
         "name": "Housing",
         "dtype": "object",
         "stats": {
          "unique_count": 2,
          "nan_count": 0,
          "categories": [
           {
            "name": "own",
            "count": 3
           },
           {
            "name": "free",
            "count": 2
           }
          ]
         }
        },
        {
         "name": "Saving accounts",
         "dtype": "object",
         "stats": {
          "unique_count": 1,
          "nan_count": 1,
          "categories": [
           {
            "name": "little",
            "count": 4
           },
           {
            "name": "Missing",
            "count": 1
           }
          ]
         }
        },
        {
         "name": "Checking account",
         "dtype": "object",
         "stats": {
          "unique_count": 2,
          "nan_count": 1,
          "categories": [
           {
            "name": "little",
            "count": 3
           },
           {
            "name": "moderate",
            "count": 1
           },
           {
            "name": "Missing",
            "count": 1
           }
          ]
         }
        },
        {
         "name": "Credit amount",
         "dtype": "int64",
         "stats": {
          "unique_count": 5,
          "nan_count": 0,
          "min": "1169",
          "max": "7882",
          "histogram": [
           {
            "bin_start": 1169,
            "bin_end": 1840.3,
            "count": 1
           },
           {
            "bin_start": 1840.3,
            "bin_end": 2511.6,
            "count": 1
           },
           {
            "bin_start": 2511.6,
            "bin_end": 3182.8999999999996,
            "count": 0
           },
           {
            "bin_start": 3182.8999999999996,
            "bin_end": 3854.2,
            "count": 0
           },
           {
            "bin_start": 3854.2,
            "bin_end": 4525.5,
            "count": 0
           },
           {
            "bin_start": 4525.5,
            "bin_end": 5196.799999999999,
            "count": 1
           },
           {
            "bin_start": 5196.799999999999,
            "bin_end": 5868.099999999999,
            "count": 0
           },
           {
            "bin_start": 5868.099999999999,
            "bin_end": 6539.4,
            "count": 1
           },
           {
            "bin_start": 6539.4,
            "bin_end": 7210.7,
            "count": 0
           },
           {
            "bin_start": 7210.7,
            "bin_end": 7882,
            "count": 1
           }
          ]
         }
        },
        {
         "name": "Duration",
         "dtype": "int64",
         "stats": {
          "unique_count": 5,
          "nan_count": 0,
          "min": "6",
          "max": "48",
          "histogram": [
           {
            "bin_start": 6,
            "bin_end": 10.2,
            "count": 1
           },
           {
            "bin_start": 10.2,
            "bin_end": 14.4,
            "count": 1
           },
           {
            "bin_start": 14.4,
            "bin_end": 18.6,
            "count": 0
           },
           {
            "bin_start": 18.6,
            "bin_end": 22.8,
            "count": 0
           },
           {
            "bin_start": 22.8,
            "bin_end": 27,
            "count": 1
           },
           {
            "bin_start": 27,
            "bin_end": 31.200000000000003,
            "count": 0
           },
           {
            "bin_start": 31.200000000000003,
            "bin_end": 35.400000000000006,
            "count": 0
           },
           {
            "bin_start": 35.400000000000006,
            "bin_end": 39.6,
            "count": 0
           },
           {
            "bin_start": 39.6,
            "bin_end": 43.800000000000004,
            "count": 1
           },
           {
            "bin_start": 43.800000000000004,
            "bin_end": 48,
            "count": 1
           }
          ]
         }
        },
        {
         "name": "Purpose",
         "dtype": "object",
         "stats": {
          "unique_count": 4,
          "nan_count": 0,
          "categories": [
           {
            "name": "radio/TV",
            "count": 2
           },
           {
            "name": "education",
            "count": 1
           },
           {
            "name": "2 others",
            "count": 2
           }
          ]
         }
        },
        {
         "name": "Risk",
         "dtype": "object",
         "stats": {
          "unique_count": 2,
          "nan_count": 0,
          "categories": [
           {
            "name": "good",
            "count": 3
           },
           {
            "name": "bad",
            "count": 2
           }
          ]
         }
        },
        {
         "name": "_deepnote_index_column",
         "dtype": "int64"
        }
       ],
       "rows_top": [
        {
         "Unnamed: 0": 0,
         "Age": 67,
         "Sex": "male",
         "Job": 2,
         "Housing": "own",
         "Saving accounts": "nan",
         "Checking account": "little",
         "Credit amount": 1169,
         "Duration": 6,
         "Purpose": "radio/TV",
         "Risk": "good",
         "_deepnote_index_column": 0
        },
        {
         "Unnamed: 0": 1,
         "Age": 22,
         "Sex": "female",
         "Job": 2,
         "Housing": "own",
         "Saving accounts": "little",
         "Checking account": "moderate",
         "Credit amount": 5951,
         "Duration": 48,
         "Purpose": "radio/TV",
         "Risk": "bad",
         "_deepnote_index_column": 1
        },
        {
         "Unnamed: 0": 2,
         "Age": 49,
         "Sex": "male",
         "Job": 1,
         "Housing": "own",
         "Saving accounts": "little",
         "Checking account": "nan",
         "Credit amount": 2096,
         "Duration": 12,
         "Purpose": "education",
         "Risk": "good",
         "_deepnote_index_column": 2
        },
        {
         "Unnamed: 0": 3,
         "Age": 45,
         "Sex": "male",
         "Job": 2,
         "Housing": "free",
         "Saving accounts": "little",
         "Checking account": "little",
         "Credit amount": 7882,
         "Duration": 42,
         "Purpose": "furniture/equipment",
         "Risk": "good",
         "_deepnote_index_column": 3
        },
        {
         "Unnamed: 0": 4,
         "Age": 53,
         "Sex": "male",
         "Job": 2,
         "Housing": "free",
         "Saving accounts": "little",
         "Checking account": "little",
         "Credit amount": 4870,
         "Duration": 24,
         "Purpose": "car",
         "Risk": "bad",
         "_deepnote_index_column": 4
        }
       ],
       "rows_bottom": null
      },
      "text/plain": "   Unnamed: 0  Age     Sex  Job Housing Saving accounts Checking account  \\\n0           0   67    male    2     own             NaN           little   \n1           1   22  female    2     own          little         moderate   \n2           2   49    male    1     own          little              NaN   \n3           3   45    male    2    free          little           little   \n4           4   53    male    2    free          little           little   \n\n   Credit amount  Duration              Purpose  Risk  \n0           1169         6             radio/TV  good  \n1           5951        48             radio/TV   bad  \n2           2096        12            education  good  \n3           7882        42  furniture/equipment  good  \n4           4870        24                  car   bad  ",
      "text/html": "<div>\n<style scoped>\n    .dataframe tbody tr th:only-of-type {\n        vertical-align: middle;\n    }\n\n    .dataframe tbody tr th {\n        vertical-align: top;\n    }\n\n    .dataframe thead th {\n        text-align: right;\n    }\n</style>\n<table border=\"1\" class=\"dataframe\">\n  <thead>\n    <tr style=\"text-align: right;\">\n      <th></th>\n      <th>Unnamed: 0</th>\n      <th>Age</th>\n      <th>Sex</th>\n      <th>Job</th>\n      <th>Housing</th>\n      <th>Saving accounts</th>\n      <th>Checking account</th>\n      <th>Credit amount</th>\n      <th>Duration</th>\n      <th>Purpose</th>\n      <th>Risk</th>\n    </tr>\n  </thead>\n  <tbody>\n    <tr>\n      <th>0</th>\n      <td>0</td>\n      <td>67</td>\n      <td>male</td>\n      <td>2</td>\n      <td>own</td>\n      <td>NaN</td>\n      <td>little</td>\n      <td>1169</td>\n      <td>6</td>\n      <td>radio/TV</td>\n      <td>good</td>\n    </tr>\n    <tr>\n      <th>1</th>\n      <td>1</td>\n      <td>22</td>\n      <td>female</td>\n      <td>2</td>\n      <td>own</td>\n      <td>little</td>\n      <td>moderate</td>\n      <td>5951</td>\n      <td>48</td>\n      <td>radio/TV</td>\n      <td>bad</td>\n    </tr>\n    <tr>\n      <th>2</th>\n      <td>2</td>\n      <td>49</td>\n      <td>male</td>\n      <td>1</td>\n      <td>own</td>\n      <td>little</td>\n      <td>NaN</td>\n      <td>2096</td>\n      <td>12</td>\n      <td>education</td>\n      <td>good</td>\n    </tr>\n    <tr>\n      <th>3</th>\n      <td>3</td>\n      <td>45</td>\n      <td>male</td>\n      <td>2</td>\n      <td>free</td>\n      <td>little</td>\n      <td>little</td>\n      <td>7882</td>\n      <td>42</td>\n      <td>furniture/equipment</td>\n      <td>good</td>\n    </tr>\n    <tr>\n      <th>4</th>\n      <td>4</td>\n      <td>53</td>\n      <td>male</td>\n      <td>2</td>\n      <td>free</td>\n      <td>little</td>\n      <td>little</td>\n      <td>4870</td>\n      <td>24</td>\n      <td>car</td>\n      <td>bad</td>\n    </tr>\n  </tbody>\n</table>\n</div>"
     },
     "metadata": {}
    }
   ],
   "execution_count": null
  },
  {
   "cell_type": "code",
   "metadata": {
    "cell_id": "00002-c20c2837-7776-4908-9f12-a0f8913307bd",
    "deepnote_to_be_reexecuted": false,
    "source_hash": "595cba97",
    "execution_start": 1636739592288,
    "execution_millis": 18,
    "deepnote_cell_type": "code"
   },
   "source": "df1 = df1.iloc[:,1:]",
   "outputs": [],
   "execution_count": null
  },
  {
   "cell_type": "code",
   "metadata": {
    "cell_id": "00003-2bc0c3dc-6e6c-445e-96a6-d80be0f404b6",
    "deepnote_to_be_reexecuted": false,
    "source_hash": "ea6c9ba",
    "execution_start": 1636739592306,
    "execution_millis": 64,
    "deepnote_cell_type": "code"
   },
   "source": "df1.head()",
   "outputs": [
    {
     "output_type": "execute_result",
     "execution_count": 4,
     "data": {
      "application/vnd.deepnote.dataframe.v2+json": {
       "row_count": 5,
       "column_count": 10,
       "columns": [
        {
         "name": "Age",
         "dtype": "int64",
         "stats": {
          "unique_count": 5,
          "nan_count": 0,
          "min": "22",
          "max": "67",
          "histogram": [
           {
            "bin_start": 22,
            "bin_end": 26.5,
            "count": 1
           },
           {
            "bin_start": 26.5,
            "bin_end": 31,
            "count": 0
           },
           {
            "bin_start": 31,
            "bin_end": 35.5,
            "count": 0
           },
           {
            "bin_start": 35.5,
            "bin_end": 40,
            "count": 0
           },
           {
            "bin_start": 40,
            "bin_end": 44.5,
            "count": 0
           },
           {
            "bin_start": 44.5,
            "bin_end": 49,
            "count": 1
           },
           {
            "bin_start": 49,
            "bin_end": 53.5,
            "count": 2
           },
           {
            "bin_start": 53.5,
            "bin_end": 58,
            "count": 0
           },
           {
            "bin_start": 58,
            "bin_end": 62.5,
            "count": 0
           },
           {
            "bin_start": 62.5,
            "bin_end": 67,
            "count": 1
           }
          ]
         }
        },
        {
         "name": "Sex",
         "dtype": "object",
         "stats": {
          "unique_count": 2,
          "nan_count": 0,
          "categories": [
           {
            "name": "male",
            "count": 4
           },
           {
            "name": "female",
            "count": 1
           }
          ]
         }
        },
        {
         "name": "Job",
         "dtype": "int64",
         "stats": {
          "unique_count": 2,
          "nan_count": 0,
          "min": "1",
          "max": "2",
          "histogram": [
           {
            "bin_start": 1,
            "bin_end": 1.1,
            "count": 1
           },
           {
            "bin_start": 1.1,
            "bin_end": 1.2,
            "count": 0
           },
           {
            "bin_start": 1.2,
            "bin_end": 1.3,
            "count": 0
           },
           {
            "bin_start": 1.3,
            "bin_end": 1.4,
            "count": 0
           },
           {
            "bin_start": 1.4,
            "bin_end": 1.5,
            "count": 0
           },
           {
            "bin_start": 1.5,
            "bin_end": 1.6,
            "count": 0
           },
           {
            "bin_start": 1.6,
            "bin_end": 1.7000000000000002,
            "count": 0
           },
           {
            "bin_start": 1.7000000000000002,
            "bin_end": 1.8,
            "count": 0
           },
           {
            "bin_start": 1.8,
            "bin_end": 1.9,
            "count": 0
           },
           {
            "bin_start": 1.9,
            "bin_end": 2,
            "count": 4
           }
          ]
         }
        },
        {
         "name": "Housing",
         "dtype": "object",
         "stats": {
          "unique_count": 2,
          "nan_count": 0,
          "categories": [
           {
            "name": "own",
            "count": 3
           },
           {
            "name": "free",
            "count": 2
           }
          ]
         }
        },
        {
         "name": "Saving accounts",
         "dtype": "object",
         "stats": {
          "unique_count": 1,
          "nan_count": 1,
          "categories": [
           {
            "name": "little",
            "count": 4
           },
           {
            "name": "Missing",
            "count": 1
           }
          ]
         }
        },
        {
         "name": "Checking account",
         "dtype": "object",
         "stats": {
          "unique_count": 2,
          "nan_count": 1,
          "categories": [
           {
            "name": "little",
            "count": 3
           },
           {
            "name": "moderate",
            "count": 1
           },
           {
            "name": "Missing",
            "count": 1
           }
          ]
         }
        },
        {
         "name": "Credit amount",
         "dtype": "int64",
         "stats": {
          "unique_count": 5,
          "nan_count": 0,
          "min": "1169",
          "max": "7882",
          "histogram": [
           {
            "bin_start": 1169,
            "bin_end": 1840.3,
            "count": 1
           },
           {
            "bin_start": 1840.3,
            "bin_end": 2511.6,
            "count": 1
           },
           {
            "bin_start": 2511.6,
            "bin_end": 3182.8999999999996,
            "count": 0
           },
           {
            "bin_start": 3182.8999999999996,
            "bin_end": 3854.2,
            "count": 0
           },
           {
            "bin_start": 3854.2,
            "bin_end": 4525.5,
            "count": 0
           },
           {
            "bin_start": 4525.5,
            "bin_end": 5196.799999999999,
            "count": 1
           },
           {
            "bin_start": 5196.799999999999,
            "bin_end": 5868.099999999999,
            "count": 0
           },
           {
            "bin_start": 5868.099999999999,
            "bin_end": 6539.4,
            "count": 1
           },
           {
            "bin_start": 6539.4,
            "bin_end": 7210.7,
            "count": 0
           },
           {
            "bin_start": 7210.7,
            "bin_end": 7882,
            "count": 1
           }
          ]
         }
        },
        {
         "name": "Duration",
         "dtype": "int64",
         "stats": {
          "unique_count": 5,
          "nan_count": 0,
          "min": "6",
          "max": "48",
          "histogram": [
           {
            "bin_start": 6,
            "bin_end": 10.2,
            "count": 1
           },
           {
            "bin_start": 10.2,
            "bin_end": 14.4,
            "count": 1
           },
           {
            "bin_start": 14.4,
            "bin_end": 18.6,
            "count": 0
           },
           {
            "bin_start": 18.6,
            "bin_end": 22.8,
            "count": 0
           },
           {
            "bin_start": 22.8,
            "bin_end": 27,
            "count": 1
           },
           {
            "bin_start": 27,
            "bin_end": 31.200000000000003,
            "count": 0
           },
           {
            "bin_start": 31.200000000000003,
            "bin_end": 35.400000000000006,
            "count": 0
           },
           {
            "bin_start": 35.400000000000006,
            "bin_end": 39.6,
            "count": 0
           },
           {
            "bin_start": 39.6,
            "bin_end": 43.800000000000004,
            "count": 1
           },
           {
            "bin_start": 43.800000000000004,
            "bin_end": 48,
            "count": 1
           }
          ]
         }
        },
        {
         "name": "Purpose",
         "dtype": "object",
         "stats": {
          "unique_count": 4,
          "nan_count": 0,
          "categories": [
           {
            "name": "radio/TV",
            "count": 2
           },
           {
            "name": "education",
            "count": 1
           },
           {
            "name": "2 others",
            "count": 2
           }
          ]
         }
        },
        {
         "name": "Risk",
         "dtype": "object",
         "stats": {
          "unique_count": 2,
          "nan_count": 0,
          "categories": [
           {
            "name": "good",
            "count": 3
           },
           {
            "name": "bad",
            "count": 2
           }
          ]
         }
        },
        {
         "name": "_deepnote_index_column",
         "dtype": "int64"
        }
       ],
       "rows_top": [
        {
         "Age": 67,
         "Sex": "male",
         "Job": 2,
         "Housing": "own",
         "Saving accounts": "nan",
         "Checking account": "little",
         "Credit amount": 1169,
         "Duration": 6,
         "Purpose": "radio/TV",
         "Risk": "good",
         "_deepnote_index_column": 0
        },
        {
         "Age": 22,
         "Sex": "female",
         "Job": 2,
         "Housing": "own",
         "Saving accounts": "little",
         "Checking account": "moderate",
         "Credit amount": 5951,
         "Duration": 48,
         "Purpose": "radio/TV",
         "Risk": "bad",
         "_deepnote_index_column": 1
        },
        {
         "Age": 49,
         "Sex": "male",
         "Job": 1,
         "Housing": "own",
         "Saving accounts": "little",
         "Checking account": "nan",
         "Credit amount": 2096,
         "Duration": 12,
         "Purpose": "education",
         "Risk": "good",
         "_deepnote_index_column": 2
        },
        {
         "Age": 45,
         "Sex": "male",
         "Job": 2,
         "Housing": "free",
         "Saving accounts": "little",
         "Checking account": "little",
         "Credit amount": 7882,
         "Duration": 42,
         "Purpose": "furniture/equipment",
         "Risk": "good",
         "_deepnote_index_column": 3
        },
        {
         "Age": 53,
         "Sex": "male",
         "Job": 2,
         "Housing": "free",
         "Saving accounts": "little",
         "Checking account": "little",
         "Credit amount": 4870,
         "Duration": 24,
         "Purpose": "car",
         "Risk": "bad",
         "_deepnote_index_column": 4
        }
       ],
       "rows_bottom": null
      },
      "text/plain": "   Age     Sex  Job Housing Saving accounts Checking account  Credit amount  \\\n0   67    male    2     own             NaN           little           1169   \n1   22  female    2     own          little         moderate           5951   \n2   49    male    1     own          little              NaN           2096   \n3   45    male    2    free          little           little           7882   \n4   53    male    2    free          little           little           4870   \n\n   Duration              Purpose  Risk  \n0         6             radio/TV  good  \n1        48             radio/TV   bad  \n2        12            education  good  \n3        42  furniture/equipment  good  \n4        24                  car   bad  ",
      "text/html": "<div>\n<style scoped>\n    .dataframe tbody tr th:only-of-type {\n        vertical-align: middle;\n    }\n\n    .dataframe tbody tr th {\n        vertical-align: top;\n    }\n\n    .dataframe thead th {\n        text-align: right;\n    }\n</style>\n<table border=\"1\" class=\"dataframe\">\n  <thead>\n    <tr style=\"text-align: right;\">\n      <th></th>\n      <th>Age</th>\n      <th>Sex</th>\n      <th>Job</th>\n      <th>Housing</th>\n      <th>Saving accounts</th>\n      <th>Checking account</th>\n      <th>Credit amount</th>\n      <th>Duration</th>\n      <th>Purpose</th>\n      <th>Risk</th>\n    </tr>\n  </thead>\n  <tbody>\n    <tr>\n      <th>0</th>\n      <td>67</td>\n      <td>male</td>\n      <td>2</td>\n      <td>own</td>\n      <td>NaN</td>\n      <td>little</td>\n      <td>1169</td>\n      <td>6</td>\n      <td>radio/TV</td>\n      <td>good</td>\n    </tr>\n    <tr>\n      <th>1</th>\n      <td>22</td>\n      <td>female</td>\n      <td>2</td>\n      <td>own</td>\n      <td>little</td>\n      <td>moderate</td>\n      <td>5951</td>\n      <td>48</td>\n      <td>radio/TV</td>\n      <td>bad</td>\n    </tr>\n    <tr>\n      <th>2</th>\n      <td>49</td>\n      <td>male</td>\n      <td>1</td>\n      <td>own</td>\n      <td>little</td>\n      <td>NaN</td>\n      <td>2096</td>\n      <td>12</td>\n      <td>education</td>\n      <td>good</td>\n    </tr>\n    <tr>\n      <th>3</th>\n      <td>45</td>\n      <td>male</td>\n      <td>2</td>\n      <td>free</td>\n      <td>little</td>\n      <td>little</td>\n      <td>7882</td>\n      <td>42</td>\n      <td>furniture/equipment</td>\n      <td>good</td>\n    </tr>\n    <tr>\n      <th>4</th>\n      <td>53</td>\n      <td>male</td>\n      <td>2</td>\n      <td>free</td>\n      <td>little</td>\n      <td>little</td>\n      <td>4870</td>\n      <td>24</td>\n      <td>car</td>\n      <td>bad</td>\n    </tr>\n  </tbody>\n</table>\n</div>"
     },
     "metadata": {}
    }
   ],
   "execution_count": null
  },
  {
   "cell_type": "code",
   "metadata": {
    "cell_id": "00004-7333ce98-55d3-4b6c-b16d-7bd4d5410c82",
    "deepnote_to_be_reexecuted": false,
    "source_hash": "58133540",
    "execution_start": 1636739592384,
    "execution_millis": 48,
    "deepnote_cell_type": "code"
   },
   "source": "df1.columns",
   "outputs": [
    {
     "output_type": "execute_result",
     "execution_count": 5,
     "data": {
      "text/plain": "Index(['Age', 'Sex', 'Job', 'Housing', 'Saving accounts', 'Checking account',\n       'Credit amount', 'Duration', 'Purpose', 'Risk'],\n      dtype='object')"
     },
     "metadata": {}
    }
   ],
   "execution_count": null
  },
  {
   "cell_type": "code",
   "metadata": {
    "cell_id": "00005-127b4639-1bc1-46fe-9663-6792f136a679",
    "deepnote_to_be_reexecuted": false,
    "source_hash": "b83ad358",
    "execution_start": 1636739592447,
    "execution_millis": 29,
    "deepnote_cell_type": "code"
   },
   "source": "df1.columns = ['Age','Sex', 'Job', 'Housing', 'Saving_accounts', 'Checking_account', 'Credict_amount', 'Duration', 'Purpose', 'Risk']",
   "outputs": [],
   "execution_count": null
  },
  {
   "cell_type": "code",
   "metadata": {
    "cell_id": "00006-4c7a11db-dc4b-4b86-b6c1-d660b2ace45e",
    "deepnote_to_be_reexecuted": false,
    "source_hash": "58133540",
    "execution_start": 1636739592486,
    "execution_millis": 11,
    "deepnote_cell_type": "code"
   },
   "source": "df1.columns",
   "outputs": [
    {
     "output_type": "execute_result",
     "execution_count": 7,
     "data": {
      "text/plain": "Index(['Age', 'Sex', 'Job', 'Housing', 'Saving_accounts', 'Checking_account',\n       'Credict_amount', 'Duration', 'Purpose', 'Risk'],\n      dtype='object')"
     },
     "metadata": {}
    }
   ],
   "execution_count": null
  },
  {
   "cell_type": "code",
   "metadata": {
    "cell_id": "00007-e6a99fd5-65b3-4806-b086-b7eb6be7eea0",
    "deepnote_to_be_reexecuted": false,
    "source_hash": "a281dd21",
    "execution_start": 1636739592567,
    "execution_millis": 2,
    "deepnote_cell_type": "code"
   },
   "source": "df1.info()",
   "outputs": [
    {
     "name": "stdout",
     "text": "<class 'pandas.core.frame.DataFrame'>\nRangeIndex: 1000 entries, 0 to 999\nData columns (total 10 columns):\n #   Column            Non-Null Count  Dtype \n---  ------            --------------  ----- \n 0   Age               1000 non-null   int64 \n 1   Sex               1000 non-null   object\n 2   Job               1000 non-null   int64 \n 3   Housing           1000 non-null   object\n 4   Saving_accounts   817 non-null    object\n 5   Checking_account  606 non-null    object\n 6   Credict_amount    1000 non-null   int64 \n 7   Duration          1000 non-null   int64 \n 8   Purpose           1000 non-null   object\n 9   Risk              1000 non-null   object\ndtypes: int64(4), object(6)\nmemory usage: 78.2+ KB\n",
     "output_type": "stream"
    }
   ],
   "execution_count": null
  },
  {
   "cell_type": "code",
   "metadata": {
    "cell_id": "00008-ec86f8e1-172b-4284-8a59-1601cbbf9d08",
    "deepnote_to_be_reexecuted": false,
    "source_hash": "3070ac8a",
    "execution_start": 1636739592612,
    "execution_millis": 1,
    "deepnote_cell_type": "code"
   },
   "source": "#Takig care of NaN values by pandas\ndf1 = df1.fillna(df1.mode().iloc[0])",
   "outputs": [],
   "execution_count": null
  },
  {
   "cell_type": "code",
   "metadata": {
    "cell_id": "00009-d456a847-70f3-4543-a549-25ec850b51bb",
    "deepnote_to_be_reexecuted": false,
    "source_hash": "a281dd21",
    "execution_start": 1636739592656,
    "execution_millis": 2,
    "deepnote_cell_type": "code"
   },
   "source": "df1.info()",
   "outputs": [
    {
     "name": "stdout",
     "text": "<class 'pandas.core.frame.DataFrame'>\nRangeIndex: 1000 entries, 0 to 999\nData columns (total 10 columns):\n #   Column            Non-Null Count  Dtype \n---  ------            --------------  ----- \n 0   Age               1000 non-null   int64 \n 1   Sex               1000 non-null   object\n 2   Job               1000 non-null   int64 \n 3   Housing           1000 non-null   object\n 4   Saving_accounts   1000 non-null   object\n 5   Checking_account  1000 non-null   object\n 6   Credict_amount    1000 non-null   int64 \n 7   Duration          1000 non-null   int64 \n 8   Purpose           1000 non-null   object\n 9   Risk              1000 non-null   object\ndtypes: int64(4), object(6)\nmemory usage: 78.2+ KB\n",
     "output_type": "stream"
    }
   ],
   "execution_count": null
  },
  {
   "cell_type": "code",
   "metadata": {
    "cell_id": "00010-12b04a93-c32c-44a3-8e8d-e77177444f70",
    "deepnote_to_be_reexecuted": false,
    "source_hash": "ea6c9ba",
    "execution_start": 1636739592656,
    "execution_millis": 155,
    "deepnote_cell_type": "code"
   },
   "source": "df1.head()",
   "outputs": [
    {
     "output_type": "execute_result",
     "execution_count": 11,
     "data": {
      "application/vnd.deepnote.dataframe.v2+json": {
       "row_count": 5,
       "column_count": 10,
       "columns": [
        {
         "name": "Age",
         "dtype": "int64",
         "stats": {
          "unique_count": 5,
          "nan_count": 0,
          "min": "22",
          "max": "67",
          "histogram": [
           {
            "bin_start": 22,
            "bin_end": 26.5,
            "count": 1
           },
           {
            "bin_start": 26.5,
            "bin_end": 31,
            "count": 0
           },
           {
            "bin_start": 31,
            "bin_end": 35.5,
            "count": 0
           },
           {
            "bin_start": 35.5,
            "bin_end": 40,
            "count": 0
           },
           {
            "bin_start": 40,
            "bin_end": 44.5,
            "count": 0
           },
           {
            "bin_start": 44.5,
            "bin_end": 49,
            "count": 1
           },
           {
            "bin_start": 49,
            "bin_end": 53.5,
            "count": 2
           },
           {
            "bin_start": 53.5,
            "bin_end": 58,
            "count": 0
           },
           {
            "bin_start": 58,
            "bin_end": 62.5,
            "count": 0
           },
           {
            "bin_start": 62.5,
            "bin_end": 67,
            "count": 1
           }
          ]
         }
        },
        {
         "name": "Sex",
         "dtype": "object",
         "stats": {
          "unique_count": 2,
          "nan_count": 0,
          "categories": [
           {
            "name": "male",
            "count": 4
           },
           {
            "name": "female",
            "count": 1
           }
          ]
         }
        },
        {
         "name": "Job",
         "dtype": "int64",
         "stats": {
          "unique_count": 2,
          "nan_count": 0,
          "min": "1",
          "max": "2",
          "histogram": [
           {
            "bin_start": 1,
            "bin_end": 1.1,
            "count": 1
           },
           {
            "bin_start": 1.1,
            "bin_end": 1.2,
            "count": 0
           },
           {
            "bin_start": 1.2,
            "bin_end": 1.3,
            "count": 0
           },
           {
            "bin_start": 1.3,
            "bin_end": 1.4,
            "count": 0
           },
           {
            "bin_start": 1.4,
            "bin_end": 1.5,
            "count": 0
           },
           {
            "bin_start": 1.5,
            "bin_end": 1.6,
            "count": 0
           },
           {
            "bin_start": 1.6,
            "bin_end": 1.7000000000000002,
            "count": 0
           },
           {
            "bin_start": 1.7000000000000002,
            "bin_end": 1.8,
            "count": 0
           },
           {
            "bin_start": 1.8,
            "bin_end": 1.9,
            "count": 0
           },
           {
            "bin_start": 1.9,
            "bin_end": 2,
            "count": 4
           }
          ]
         }
        },
        {
         "name": "Housing",
         "dtype": "object",
         "stats": {
          "unique_count": 2,
          "nan_count": 0,
          "categories": [
           {
            "name": "own",
            "count": 3
           },
           {
            "name": "free",
            "count": 2
           }
          ]
         }
        },
        {
         "name": "Saving_accounts",
         "dtype": "object",
         "stats": {
          "unique_count": 1,
          "nan_count": 0,
          "categories": [
           {
            "name": "little",
            "count": 5
           }
          ]
         }
        },
        {
         "name": "Checking_account",
         "dtype": "object",
         "stats": {
          "unique_count": 2,
          "nan_count": 0,
          "categories": [
           {
            "name": "little",
            "count": 4
           },
           {
            "name": "moderate",
            "count": 1
           }
          ]
         }
        },
        {
         "name": "Credict_amount",
         "dtype": "int64",
         "stats": {
          "unique_count": 5,
          "nan_count": 0,
          "min": "1169",
          "max": "7882",
          "histogram": [
           {
            "bin_start": 1169,
            "bin_end": 1840.3,
            "count": 1
           },
           {
            "bin_start": 1840.3,
            "bin_end": 2511.6,
            "count": 1
           },
           {
            "bin_start": 2511.6,
            "bin_end": 3182.8999999999996,
            "count": 0
           },
           {
            "bin_start": 3182.8999999999996,
            "bin_end": 3854.2,
            "count": 0
           },
           {
            "bin_start": 3854.2,
            "bin_end": 4525.5,
            "count": 0
           },
           {
            "bin_start": 4525.5,
            "bin_end": 5196.799999999999,
            "count": 1
           },
           {
            "bin_start": 5196.799999999999,
            "bin_end": 5868.099999999999,
            "count": 0
           },
           {
            "bin_start": 5868.099999999999,
            "bin_end": 6539.4,
            "count": 1
           },
           {
            "bin_start": 6539.4,
            "bin_end": 7210.7,
            "count": 0
           },
           {
            "bin_start": 7210.7,
            "bin_end": 7882,
            "count": 1
           }
          ]
         }
        },
        {
         "name": "Duration",
         "dtype": "int64",
         "stats": {
          "unique_count": 5,
          "nan_count": 0,
          "min": "6",
          "max": "48",
          "histogram": [
           {
            "bin_start": 6,
            "bin_end": 10.2,
            "count": 1
           },
           {
            "bin_start": 10.2,
            "bin_end": 14.4,
            "count": 1
           },
           {
            "bin_start": 14.4,
            "bin_end": 18.6,
            "count": 0
           },
           {
            "bin_start": 18.6,
            "bin_end": 22.8,
            "count": 0
           },
           {
            "bin_start": 22.8,
            "bin_end": 27,
            "count": 1
           },
           {
            "bin_start": 27,
            "bin_end": 31.200000000000003,
            "count": 0
           },
           {
            "bin_start": 31.200000000000003,
            "bin_end": 35.400000000000006,
            "count": 0
           },
           {
            "bin_start": 35.400000000000006,
            "bin_end": 39.6,
            "count": 0
           },
           {
            "bin_start": 39.6,
            "bin_end": 43.800000000000004,
            "count": 1
           },
           {
            "bin_start": 43.800000000000004,
            "bin_end": 48,
            "count": 1
           }
          ]
         }
        },
        {
         "name": "Purpose",
         "dtype": "object",
         "stats": {
          "unique_count": 4,
          "nan_count": 0,
          "categories": [
           {
            "name": "radio/TV",
            "count": 2
           },
           {
            "name": "education",
            "count": 1
           },
           {
            "name": "2 others",
            "count": 2
           }
          ]
         }
        },
        {
         "name": "Risk",
         "dtype": "object",
         "stats": {
          "unique_count": 2,
          "nan_count": 0,
          "categories": [
           {
            "name": "good",
            "count": 3
           },
           {
            "name": "bad",
            "count": 2
           }
          ]
         }
        },
        {
         "name": "_deepnote_index_column",
         "dtype": "int64"
        }
       ],
       "rows_top": [
        {
         "Age": 67,
         "Sex": "male",
         "Job": 2,
         "Housing": "own",
         "Saving_accounts": "little",
         "Checking_account": "little",
         "Credict_amount": 1169,
         "Duration": 6,
         "Purpose": "radio/TV",
         "Risk": "good",
         "_deepnote_index_column": 0
        },
        {
         "Age": 22,
         "Sex": "female",
         "Job": 2,
         "Housing": "own",
         "Saving_accounts": "little",
         "Checking_account": "moderate",
         "Credict_amount": 5951,
         "Duration": 48,
         "Purpose": "radio/TV",
         "Risk": "bad",
         "_deepnote_index_column": 1
        },
        {
         "Age": 49,
         "Sex": "male",
         "Job": 1,
         "Housing": "own",
         "Saving_accounts": "little",
         "Checking_account": "little",
         "Credict_amount": 2096,
         "Duration": 12,
         "Purpose": "education",
         "Risk": "good",
         "_deepnote_index_column": 2
        },
        {
         "Age": 45,
         "Sex": "male",
         "Job": 2,
         "Housing": "free",
         "Saving_accounts": "little",
         "Checking_account": "little",
         "Credict_amount": 7882,
         "Duration": 42,
         "Purpose": "furniture/equipment",
         "Risk": "good",
         "_deepnote_index_column": 3
        },
        {
         "Age": 53,
         "Sex": "male",
         "Job": 2,
         "Housing": "free",
         "Saving_accounts": "little",
         "Checking_account": "little",
         "Credict_amount": 4870,
         "Duration": 24,
         "Purpose": "car",
         "Risk": "bad",
         "_deepnote_index_column": 4
        }
       ],
       "rows_bottom": null
      },
      "text/plain": "   Age     Sex  Job Housing Saving_accounts Checking_account  Credict_amount  \\\n0   67    male    2     own          little           little            1169   \n1   22  female    2     own          little         moderate            5951   \n2   49    male    1     own          little           little            2096   \n3   45    male    2    free          little           little            7882   \n4   53    male    2    free          little           little            4870   \n\n   Duration              Purpose  Risk  \n0         6             radio/TV  good  \n1        48             radio/TV   bad  \n2        12            education  good  \n3        42  furniture/equipment  good  \n4        24                  car   bad  ",
      "text/html": "<div>\n<style scoped>\n    .dataframe tbody tr th:only-of-type {\n        vertical-align: middle;\n    }\n\n    .dataframe tbody tr th {\n        vertical-align: top;\n    }\n\n    .dataframe thead th {\n        text-align: right;\n    }\n</style>\n<table border=\"1\" class=\"dataframe\">\n  <thead>\n    <tr style=\"text-align: right;\">\n      <th></th>\n      <th>Age</th>\n      <th>Sex</th>\n      <th>Job</th>\n      <th>Housing</th>\n      <th>Saving_accounts</th>\n      <th>Checking_account</th>\n      <th>Credict_amount</th>\n      <th>Duration</th>\n      <th>Purpose</th>\n      <th>Risk</th>\n    </tr>\n  </thead>\n  <tbody>\n    <tr>\n      <th>0</th>\n      <td>67</td>\n      <td>male</td>\n      <td>2</td>\n      <td>own</td>\n      <td>little</td>\n      <td>little</td>\n      <td>1169</td>\n      <td>6</td>\n      <td>radio/TV</td>\n      <td>good</td>\n    </tr>\n    <tr>\n      <th>1</th>\n      <td>22</td>\n      <td>female</td>\n      <td>2</td>\n      <td>own</td>\n      <td>little</td>\n      <td>moderate</td>\n      <td>5951</td>\n      <td>48</td>\n      <td>radio/TV</td>\n      <td>bad</td>\n    </tr>\n    <tr>\n      <th>2</th>\n      <td>49</td>\n      <td>male</td>\n      <td>1</td>\n      <td>own</td>\n      <td>little</td>\n      <td>little</td>\n      <td>2096</td>\n      <td>12</td>\n      <td>education</td>\n      <td>good</td>\n    </tr>\n    <tr>\n      <th>3</th>\n      <td>45</td>\n      <td>male</td>\n      <td>2</td>\n      <td>free</td>\n      <td>little</td>\n      <td>little</td>\n      <td>7882</td>\n      <td>42</td>\n      <td>furniture/equipment</td>\n      <td>good</td>\n    </tr>\n    <tr>\n      <th>4</th>\n      <td>53</td>\n      <td>male</td>\n      <td>2</td>\n      <td>free</td>\n      <td>little</td>\n      <td>little</td>\n      <td>4870</td>\n      <td>24</td>\n      <td>car</td>\n      <td>bad</td>\n    </tr>\n  </tbody>\n</table>\n</div>"
     },
     "metadata": {}
    }
   ],
   "execution_count": null
  },
  {
   "cell_type": "code",
   "metadata": {
    "cell_id": "00011-f672491c-d79f-46bc-b2cf-8c3fe5c4d404",
    "deepnote_to_be_reexecuted": false,
    "source_hash": "71a0c6b7",
    "execution_start": 1636739592809,
    "execution_millis": 65,
    "deepnote_cell_type": "code"
   },
   "source": "X = df1.iloc[:,:-1]\ny = df1.iloc[:,-1].values\nX.head()",
   "outputs": [
    {
     "output_type": "execute_result",
     "execution_count": 12,
     "data": {
      "application/vnd.deepnote.dataframe.v2+json": {
       "row_count": 5,
       "column_count": 9,
       "columns": [
        {
         "name": "Age",
         "dtype": "int64",
         "stats": {
          "unique_count": 5,
          "nan_count": 0,
          "min": "22",
          "max": "67",
          "histogram": [
           {
            "bin_start": 22,
            "bin_end": 26.5,
            "count": 1
           },
           {
            "bin_start": 26.5,
            "bin_end": 31,
            "count": 0
           },
           {
            "bin_start": 31,
            "bin_end": 35.5,
            "count": 0
           },
           {
            "bin_start": 35.5,
            "bin_end": 40,
            "count": 0
           },
           {
            "bin_start": 40,
            "bin_end": 44.5,
            "count": 0
           },
           {
            "bin_start": 44.5,
            "bin_end": 49,
            "count": 1
           },
           {
            "bin_start": 49,
            "bin_end": 53.5,
            "count": 2
           },
           {
            "bin_start": 53.5,
            "bin_end": 58,
            "count": 0
           },
           {
            "bin_start": 58,
            "bin_end": 62.5,
            "count": 0
           },
           {
            "bin_start": 62.5,
            "bin_end": 67,
            "count": 1
           }
          ]
         }
        },
        {
         "name": "Sex",
         "dtype": "object",
         "stats": {
          "unique_count": 2,
          "nan_count": 0,
          "categories": [
           {
            "name": "male",
            "count": 4
           },
           {
            "name": "female",
            "count": 1
           }
          ]
         }
        },
        {
         "name": "Job",
         "dtype": "int64",
         "stats": {
          "unique_count": 2,
          "nan_count": 0,
          "min": "1",
          "max": "2",
          "histogram": [
           {
            "bin_start": 1,
            "bin_end": 1.1,
            "count": 1
           },
           {
            "bin_start": 1.1,
            "bin_end": 1.2,
            "count": 0
           },
           {
            "bin_start": 1.2,
            "bin_end": 1.3,
            "count": 0
           },
           {
            "bin_start": 1.3,
            "bin_end": 1.4,
            "count": 0
           },
           {
            "bin_start": 1.4,
            "bin_end": 1.5,
            "count": 0
           },
           {
            "bin_start": 1.5,
            "bin_end": 1.6,
            "count": 0
           },
           {
            "bin_start": 1.6,
            "bin_end": 1.7000000000000002,
            "count": 0
           },
           {
            "bin_start": 1.7000000000000002,
            "bin_end": 1.8,
            "count": 0
           },
           {
            "bin_start": 1.8,
            "bin_end": 1.9,
            "count": 0
           },
           {
            "bin_start": 1.9,
            "bin_end": 2,
            "count": 4
           }
          ]
         }
        },
        {
         "name": "Housing",
         "dtype": "object",
         "stats": {
          "unique_count": 2,
          "nan_count": 0,
          "categories": [
           {
            "name": "own",
            "count": 3
           },
           {
            "name": "free",
            "count": 2
           }
          ]
         }
        },
        {
         "name": "Saving_accounts",
         "dtype": "object",
         "stats": {
          "unique_count": 1,
          "nan_count": 0,
          "categories": [
           {
            "name": "little",
            "count": 5
           }
          ]
         }
        },
        {
         "name": "Checking_account",
         "dtype": "object",
         "stats": {
          "unique_count": 2,
          "nan_count": 0,
          "categories": [
           {
            "name": "little",
            "count": 4
           },
           {
            "name": "moderate",
            "count": 1
           }
          ]
         }
        },
        {
         "name": "Credict_amount",
         "dtype": "int64",
         "stats": {
          "unique_count": 5,
          "nan_count": 0,
          "min": "1169",
          "max": "7882",
          "histogram": [
           {
            "bin_start": 1169,
            "bin_end": 1840.3,
            "count": 1
           },
           {
            "bin_start": 1840.3,
            "bin_end": 2511.6,
            "count": 1
           },
           {
            "bin_start": 2511.6,
            "bin_end": 3182.8999999999996,
            "count": 0
           },
           {
            "bin_start": 3182.8999999999996,
            "bin_end": 3854.2,
            "count": 0
           },
           {
            "bin_start": 3854.2,
            "bin_end": 4525.5,
            "count": 0
           },
           {
            "bin_start": 4525.5,
            "bin_end": 5196.799999999999,
            "count": 1
           },
           {
            "bin_start": 5196.799999999999,
            "bin_end": 5868.099999999999,
            "count": 0
           },
           {
            "bin_start": 5868.099999999999,
            "bin_end": 6539.4,
            "count": 1
           },
           {
            "bin_start": 6539.4,
            "bin_end": 7210.7,
            "count": 0
           },
           {
            "bin_start": 7210.7,
            "bin_end": 7882,
            "count": 1
           }
          ]
         }
        },
        {
         "name": "Duration",
         "dtype": "int64",
         "stats": {
          "unique_count": 5,
          "nan_count": 0,
          "min": "6",
          "max": "48",
          "histogram": [
           {
            "bin_start": 6,
            "bin_end": 10.2,
            "count": 1
           },
           {
            "bin_start": 10.2,
            "bin_end": 14.4,
            "count": 1
           },
           {
            "bin_start": 14.4,
            "bin_end": 18.6,
            "count": 0
           },
           {
            "bin_start": 18.6,
            "bin_end": 22.8,
            "count": 0
           },
           {
            "bin_start": 22.8,
            "bin_end": 27,
            "count": 1
           },
           {
            "bin_start": 27,
            "bin_end": 31.200000000000003,
            "count": 0
           },
           {
            "bin_start": 31.200000000000003,
            "bin_end": 35.400000000000006,
            "count": 0
           },
           {
            "bin_start": 35.400000000000006,
            "bin_end": 39.6,
            "count": 0
           },
           {
            "bin_start": 39.6,
            "bin_end": 43.800000000000004,
            "count": 1
           },
           {
            "bin_start": 43.800000000000004,
            "bin_end": 48,
            "count": 1
           }
          ]
         }
        },
        {
         "name": "Purpose",
         "dtype": "object",
         "stats": {
          "unique_count": 4,
          "nan_count": 0,
          "categories": [
           {
            "name": "radio/TV",
            "count": 2
           },
           {
            "name": "education",
            "count": 1
           },
           {
            "name": "2 others",
            "count": 2
           }
          ]
         }
        },
        {
         "name": "_deepnote_index_column",
         "dtype": "int64"
        }
       ],
       "rows_top": [
        {
         "Age": 67,
         "Sex": "male",
         "Job": 2,
         "Housing": "own",
         "Saving_accounts": "little",
         "Checking_account": "little",
         "Credict_amount": 1169,
         "Duration": 6,
         "Purpose": "radio/TV",
         "_deepnote_index_column": 0
        },
        {
         "Age": 22,
         "Sex": "female",
         "Job": 2,
         "Housing": "own",
         "Saving_accounts": "little",
         "Checking_account": "moderate",
         "Credict_amount": 5951,
         "Duration": 48,
         "Purpose": "radio/TV",
         "_deepnote_index_column": 1
        },
        {
         "Age": 49,
         "Sex": "male",
         "Job": 1,
         "Housing": "own",
         "Saving_accounts": "little",
         "Checking_account": "little",
         "Credict_amount": 2096,
         "Duration": 12,
         "Purpose": "education",
         "_deepnote_index_column": 2
        },
        {
         "Age": 45,
         "Sex": "male",
         "Job": 2,
         "Housing": "free",
         "Saving_accounts": "little",
         "Checking_account": "little",
         "Credict_amount": 7882,
         "Duration": 42,
         "Purpose": "furniture/equipment",
         "_deepnote_index_column": 3
        },
        {
         "Age": 53,
         "Sex": "male",
         "Job": 2,
         "Housing": "free",
         "Saving_accounts": "little",
         "Checking_account": "little",
         "Credict_amount": 4870,
         "Duration": 24,
         "Purpose": "car",
         "_deepnote_index_column": 4
        }
       ],
       "rows_bottom": null
      },
      "text/plain": "   Age     Sex  Job Housing Saving_accounts Checking_account  Credict_amount  \\\n0   67    male    2     own          little           little            1169   \n1   22  female    2     own          little         moderate            5951   \n2   49    male    1     own          little           little            2096   \n3   45    male    2    free          little           little            7882   \n4   53    male    2    free          little           little            4870   \n\n   Duration              Purpose  \n0         6             radio/TV  \n1        48             radio/TV  \n2        12            education  \n3        42  furniture/equipment  \n4        24                  car  ",
      "text/html": "<div>\n<style scoped>\n    .dataframe tbody tr th:only-of-type {\n        vertical-align: middle;\n    }\n\n    .dataframe tbody tr th {\n        vertical-align: top;\n    }\n\n    .dataframe thead th {\n        text-align: right;\n    }\n</style>\n<table border=\"1\" class=\"dataframe\">\n  <thead>\n    <tr style=\"text-align: right;\">\n      <th></th>\n      <th>Age</th>\n      <th>Sex</th>\n      <th>Job</th>\n      <th>Housing</th>\n      <th>Saving_accounts</th>\n      <th>Checking_account</th>\n      <th>Credict_amount</th>\n      <th>Duration</th>\n      <th>Purpose</th>\n    </tr>\n  </thead>\n  <tbody>\n    <tr>\n      <th>0</th>\n      <td>67</td>\n      <td>male</td>\n      <td>2</td>\n      <td>own</td>\n      <td>little</td>\n      <td>little</td>\n      <td>1169</td>\n      <td>6</td>\n      <td>radio/TV</td>\n    </tr>\n    <tr>\n      <th>1</th>\n      <td>22</td>\n      <td>female</td>\n      <td>2</td>\n      <td>own</td>\n      <td>little</td>\n      <td>moderate</td>\n      <td>5951</td>\n      <td>48</td>\n      <td>radio/TV</td>\n    </tr>\n    <tr>\n      <th>2</th>\n      <td>49</td>\n      <td>male</td>\n      <td>1</td>\n      <td>own</td>\n      <td>little</td>\n      <td>little</td>\n      <td>2096</td>\n      <td>12</td>\n      <td>education</td>\n    </tr>\n    <tr>\n      <th>3</th>\n      <td>45</td>\n      <td>male</td>\n      <td>2</td>\n      <td>free</td>\n      <td>little</td>\n      <td>little</td>\n      <td>7882</td>\n      <td>42</td>\n      <td>furniture/equipment</td>\n    </tr>\n    <tr>\n      <th>4</th>\n      <td>53</td>\n      <td>male</td>\n      <td>2</td>\n      <td>free</td>\n      <td>little</td>\n      <td>little</td>\n      <td>4870</td>\n      <td>24</td>\n      <td>car</td>\n    </tr>\n  </tbody>\n</table>\n</div>"
     },
     "metadata": {}
    }
   ],
   "execution_count": null
  },
  {
   "cell_type": "code",
   "metadata": {
    "cell_id": "00012-f45ae18b-42d5-48da-be1b-84858f696697",
    "deepnote_to_be_reexecuted": false,
    "source_hash": "e89a6198",
    "execution_start": 1636739592876,
    "execution_millis": 982,
    "deepnote_cell_type": "code"
   },
   "source": "#label encdoing\nfrom sklearn.preprocessing import LabelEncoder\nL3 = LabelEncoder()",
   "outputs": [],
   "execution_count": null
  },
  {
   "cell_type": "code",
   "metadata": {
    "cell_id": "00013-b65d8338-64bc-4d6d-b337-26249446f891",
    "deepnote_to_be_reexecuted": false,
    "source_hash": "126551b2",
    "execution_start": 1636739593863,
    "execution_millis": 62,
    "deepnote_cell_type": "code"
   },
   "source": "y = L3.fit_transform(y)\nto_encode = [\"Housing\",\"Sex\", \"Purpose\", \"Saving_accounts\", \"Checking_account\"]\n\nencoders={}\nencoders[\"Job\"] = LabelEncoder().fit([\"0 - unskilled and non-resident\", \"1 - unskilled and resident\", \"2 - skilled\", \"3 - highly skilled\"])\ndef encode(df,col_name):\n    encoder = LabelEncoder().fit(df[col_name])\n    encoded_data = encoder.transform(df[col_name])\n    return encoder, encoded_data\n\nfor col in to_encode:\n    a,b = encode(df1,col)\n    X[col] = b\n    encoders[col]=a\n\nX.head()\n#le_sex.classes_\n#print(encoders[2].classes_)\n#print(list(le_sex.classes_))",
   "outputs": [
    {
     "output_type": "execute_result",
     "execution_count": 14,
     "data": {
      "application/vnd.deepnote.dataframe.v2+json": {
       "row_count": 5,
       "column_count": 9,
       "columns": [
        {
         "name": "Age",
         "dtype": "int64",
         "stats": {
          "unique_count": 5,
          "nan_count": 0,
          "min": "22",
          "max": "67",
          "histogram": [
           {
            "bin_start": 22,
            "bin_end": 26.5,
            "count": 1
           },
           {
            "bin_start": 26.5,
            "bin_end": 31,
            "count": 0
           },
           {
            "bin_start": 31,
            "bin_end": 35.5,
            "count": 0
           },
           {
            "bin_start": 35.5,
            "bin_end": 40,
            "count": 0
           },
           {
            "bin_start": 40,
            "bin_end": 44.5,
            "count": 0
           },
           {
            "bin_start": 44.5,
            "bin_end": 49,
            "count": 1
           },
           {
            "bin_start": 49,
            "bin_end": 53.5,
            "count": 2
           },
           {
            "bin_start": 53.5,
            "bin_end": 58,
            "count": 0
           },
           {
            "bin_start": 58,
            "bin_end": 62.5,
            "count": 0
           },
           {
            "bin_start": 62.5,
            "bin_end": 67,
            "count": 1
           }
          ]
         }
        },
        {
         "name": "Sex",
         "dtype": "int64",
         "stats": {
          "unique_count": 2,
          "nan_count": 0,
          "min": "0",
          "max": "1",
          "histogram": [
           {
            "bin_start": 0,
            "bin_end": 0.1,
            "count": 1
           },
           {
            "bin_start": 0.1,
            "bin_end": 0.2,
            "count": 0
           },
           {
            "bin_start": 0.2,
            "bin_end": 0.30000000000000004,
            "count": 0
           },
           {
            "bin_start": 0.30000000000000004,
            "bin_end": 0.4,
            "count": 0
           },
           {
            "bin_start": 0.4,
            "bin_end": 0.5,
            "count": 0
           },
           {
            "bin_start": 0.5,
            "bin_end": 0.6000000000000001,
            "count": 0
           },
           {
            "bin_start": 0.6000000000000001,
            "bin_end": 0.7000000000000001,
            "count": 0
           },
           {
            "bin_start": 0.7000000000000001,
            "bin_end": 0.8,
            "count": 0
           },
           {
            "bin_start": 0.8,
            "bin_end": 0.9,
            "count": 0
           },
           {
            "bin_start": 0.9,
            "bin_end": 1,
            "count": 4
           }
          ]
         }
        },
        {
         "name": "Job",
         "dtype": "int64",
         "stats": {
          "unique_count": 2,
          "nan_count": 0,
          "min": "1",
          "max": "2",
          "histogram": [
           {
            "bin_start": 1,
            "bin_end": 1.1,
            "count": 1
           },
           {
            "bin_start": 1.1,
            "bin_end": 1.2,
            "count": 0
           },
           {
            "bin_start": 1.2,
            "bin_end": 1.3,
            "count": 0
           },
           {
            "bin_start": 1.3,
            "bin_end": 1.4,
            "count": 0
           },
           {
            "bin_start": 1.4,
            "bin_end": 1.5,
            "count": 0
           },
           {
            "bin_start": 1.5,
            "bin_end": 1.6,
            "count": 0
           },
           {
            "bin_start": 1.6,
            "bin_end": 1.7000000000000002,
            "count": 0
           },
           {
            "bin_start": 1.7000000000000002,
            "bin_end": 1.8,
            "count": 0
           },
           {
            "bin_start": 1.8,
            "bin_end": 1.9,
            "count": 0
           },
           {
            "bin_start": 1.9,
            "bin_end": 2,
            "count": 4
           }
          ]
         }
        },
        {
         "name": "Housing",
         "dtype": "int64",
         "stats": {
          "unique_count": 2,
          "nan_count": 0,
          "min": "0",
          "max": "1",
          "histogram": [
           {
            "bin_start": 0,
            "bin_end": 0.1,
            "count": 2
           },
           {
            "bin_start": 0.1,
            "bin_end": 0.2,
            "count": 0
           },
           {
            "bin_start": 0.2,
            "bin_end": 0.30000000000000004,
            "count": 0
           },
           {
            "bin_start": 0.30000000000000004,
            "bin_end": 0.4,
            "count": 0
           },
           {
            "bin_start": 0.4,
            "bin_end": 0.5,
            "count": 0
           },
           {
            "bin_start": 0.5,
            "bin_end": 0.6000000000000001,
            "count": 0
           },
           {
            "bin_start": 0.6000000000000001,
            "bin_end": 0.7000000000000001,
            "count": 0
           },
           {
            "bin_start": 0.7000000000000001,
            "bin_end": 0.8,
            "count": 0
           },
           {
            "bin_start": 0.8,
            "bin_end": 0.9,
            "count": 0
           },
           {
            "bin_start": 0.9,
            "bin_end": 1,
            "count": 3
           }
          ]
         }
        },
        {
         "name": "Saving_accounts",
         "dtype": "int64",
         "stats": {
          "unique_count": 1,
          "nan_count": 0,
          "min": "0",
          "max": "0",
          "histogram": [
           {
            "bin_start": -0.5,
            "bin_end": -0.4,
            "count": 0
           },
           {
            "bin_start": -0.4,
            "bin_end": -0.3,
            "count": 0
           },
           {
            "bin_start": -0.3,
            "bin_end": -0.19999999999999996,
            "count": 0
           },
           {
            "bin_start": -0.19999999999999996,
            "bin_end": -0.09999999999999998,
            "count": 0
           },
           {
            "bin_start": -0.09999999999999998,
            "bin_end": 0,
            "count": 0
           },
           {
            "bin_start": 0,
            "bin_end": 0.10000000000000009,
            "count": 5
           },
           {
            "bin_start": 0.10000000000000009,
            "bin_end": 0.20000000000000007,
            "count": 0
           },
           {
            "bin_start": 0.20000000000000007,
            "bin_end": 0.30000000000000004,
            "count": 0
           },
           {
            "bin_start": 0.30000000000000004,
            "bin_end": 0.4,
            "count": 0
           },
           {
            "bin_start": 0.4,
            "bin_end": 0.5,
            "count": 0
           }
          ]
         }
        },
        {
         "name": "Checking_account",
         "dtype": "int64",
         "stats": {
          "unique_count": 2,
          "nan_count": 0,
          "min": "0",
          "max": "1",
          "histogram": [
           {
            "bin_start": 0,
            "bin_end": 0.1,
            "count": 4
           },
           {
            "bin_start": 0.1,
            "bin_end": 0.2,
            "count": 0
           },
           {
            "bin_start": 0.2,
            "bin_end": 0.30000000000000004,
            "count": 0
           },
           {
            "bin_start": 0.30000000000000004,
            "bin_end": 0.4,
            "count": 0
           },
           {
            "bin_start": 0.4,
            "bin_end": 0.5,
            "count": 0
           },
           {
            "bin_start": 0.5,
            "bin_end": 0.6000000000000001,
            "count": 0
           },
           {
            "bin_start": 0.6000000000000001,
            "bin_end": 0.7000000000000001,
            "count": 0
           },
           {
            "bin_start": 0.7000000000000001,
            "bin_end": 0.8,
            "count": 0
           },
           {
            "bin_start": 0.8,
            "bin_end": 0.9,
            "count": 0
           },
           {
            "bin_start": 0.9,
            "bin_end": 1,
            "count": 1
           }
          ]
         }
        },
        {
         "name": "Credict_amount",
         "dtype": "int64",
         "stats": {
          "unique_count": 5,
          "nan_count": 0,
          "min": "1169",
          "max": "7882",
          "histogram": [
           {
            "bin_start": 1169,
            "bin_end": 1840.3,
            "count": 1
           },
           {
            "bin_start": 1840.3,
            "bin_end": 2511.6,
            "count": 1
           },
           {
            "bin_start": 2511.6,
            "bin_end": 3182.8999999999996,
            "count": 0
           },
           {
            "bin_start": 3182.8999999999996,
            "bin_end": 3854.2,
            "count": 0
           },
           {
            "bin_start": 3854.2,
            "bin_end": 4525.5,
            "count": 0
           },
           {
            "bin_start": 4525.5,
            "bin_end": 5196.799999999999,
            "count": 1
           },
           {
            "bin_start": 5196.799999999999,
            "bin_end": 5868.099999999999,
            "count": 0
           },
           {
            "bin_start": 5868.099999999999,
            "bin_end": 6539.4,
            "count": 1
           },
           {
            "bin_start": 6539.4,
            "bin_end": 7210.7,
            "count": 0
           },
           {
            "bin_start": 7210.7,
            "bin_end": 7882,
            "count": 1
           }
          ]
         }
        },
        {
         "name": "Duration",
         "dtype": "int64",
         "stats": {
          "unique_count": 5,
          "nan_count": 0,
          "min": "6",
          "max": "48",
          "histogram": [
           {
            "bin_start": 6,
            "bin_end": 10.2,
            "count": 1
           },
           {
            "bin_start": 10.2,
            "bin_end": 14.4,
            "count": 1
           },
           {
            "bin_start": 14.4,
            "bin_end": 18.6,
            "count": 0
           },
           {
            "bin_start": 18.6,
            "bin_end": 22.8,
            "count": 0
           },
           {
            "bin_start": 22.8,
            "bin_end": 27,
            "count": 1
           },
           {
            "bin_start": 27,
            "bin_end": 31.200000000000003,
            "count": 0
           },
           {
            "bin_start": 31.200000000000003,
            "bin_end": 35.400000000000006,
            "count": 0
           },
           {
            "bin_start": 35.400000000000006,
            "bin_end": 39.6,
            "count": 0
           },
           {
            "bin_start": 39.6,
            "bin_end": 43.800000000000004,
            "count": 1
           },
           {
            "bin_start": 43.800000000000004,
            "bin_end": 48,
            "count": 1
           }
          ]
         }
        },
        {
         "name": "Purpose",
         "dtype": "int64",
         "stats": {
          "unique_count": 4,
          "nan_count": 0,
          "min": "1",
          "max": "5",
          "histogram": [
           {
            "bin_start": 1,
            "bin_end": 1.4,
            "count": 1
           },
           {
            "bin_start": 1.4,
            "bin_end": 1.8,
            "count": 0
           },
           {
            "bin_start": 1.8,
            "bin_end": 2.2,
            "count": 0
           },
           {
            "bin_start": 2.2,
            "bin_end": 2.6,
            "count": 0
           },
           {
            "bin_start": 2.6,
            "bin_end": 3,
            "count": 0
           },
           {
            "bin_start": 3,
            "bin_end": 3.4000000000000004,
            "count": 1
           },
           {
            "bin_start": 3.4000000000000004,
            "bin_end": 3.8000000000000003,
            "count": 0
           },
           {
            "bin_start": 3.8000000000000003,
            "bin_end": 4.2,
            "count": 1
           },
           {
            "bin_start": 4.2,
            "bin_end": 4.6,
            "count": 0
           },
           {
            "bin_start": 4.6,
            "bin_end": 5,
            "count": 2
           }
          ]
         }
        },
        {
         "name": "_deepnote_index_column",
         "dtype": "int64"
        }
       ],
       "rows_top": [
        {
         "Age": 67,
         "Sex": 1,
         "Job": 2,
         "Housing": 1,
         "Saving_accounts": 0,
         "Checking_account": 0,
         "Credict_amount": 1169,
         "Duration": 6,
         "Purpose": 5,
         "_deepnote_index_column": 0
        },
        {
         "Age": 22,
         "Sex": 0,
         "Job": 2,
         "Housing": 1,
         "Saving_accounts": 0,
         "Checking_account": 1,
         "Credict_amount": 5951,
         "Duration": 48,
         "Purpose": 5,
         "_deepnote_index_column": 1
        },
        {
         "Age": 49,
         "Sex": 1,
         "Job": 1,
         "Housing": 1,
         "Saving_accounts": 0,
         "Checking_account": 0,
         "Credict_amount": 2096,
         "Duration": 12,
         "Purpose": 3,
         "_deepnote_index_column": 2
        },
        {
         "Age": 45,
         "Sex": 1,
         "Job": 2,
         "Housing": 0,
         "Saving_accounts": 0,
         "Checking_account": 0,
         "Credict_amount": 7882,
         "Duration": 42,
         "Purpose": 4,
         "_deepnote_index_column": 3
        },
        {
         "Age": 53,
         "Sex": 1,
         "Job": 2,
         "Housing": 0,
         "Saving_accounts": 0,
         "Checking_account": 0,
         "Credict_amount": 4870,
         "Duration": 24,
         "Purpose": 1,
         "_deepnote_index_column": 4
        }
       ],
       "rows_bottom": null
      },
      "text/plain": "   Age  Sex  Job  Housing  Saving_accounts  Checking_account  Credict_amount  \\\n0   67    1    2        1                0                 0            1169   \n1   22    0    2        1                0                 1            5951   \n2   49    1    1        1                0                 0            2096   \n3   45    1    2        0                0                 0            7882   \n4   53    1    2        0                0                 0            4870   \n\n   Duration  Purpose  \n0         6        5  \n1        48        5  \n2        12        3  \n3        42        4  \n4        24        1  ",
      "text/html": "<div>\n<style scoped>\n    .dataframe tbody tr th:only-of-type {\n        vertical-align: middle;\n    }\n\n    .dataframe tbody tr th {\n        vertical-align: top;\n    }\n\n    .dataframe thead th {\n        text-align: right;\n    }\n</style>\n<table border=\"1\" class=\"dataframe\">\n  <thead>\n    <tr style=\"text-align: right;\">\n      <th></th>\n      <th>Age</th>\n      <th>Sex</th>\n      <th>Job</th>\n      <th>Housing</th>\n      <th>Saving_accounts</th>\n      <th>Checking_account</th>\n      <th>Credict_amount</th>\n      <th>Duration</th>\n      <th>Purpose</th>\n    </tr>\n  </thead>\n  <tbody>\n    <tr>\n      <th>0</th>\n      <td>67</td>\n      <td>1</td>\n      <td>2</td>\n      <td>1</td>\n      <td>0</td>\n      <td>0</td>\n      <td>1169</td>\n      <td>6</td>\n      <td>5</td>\n    </tr>\n    <tr>\n      <th>1</th>\n      <td>22</td>\n      <td>0</td>\n      <td>2</td>\n      <td>1</td>\n      <td>0</td>\n      <td>1</td>\n      <td>5951</td>\n      <td>48</td>\n      <td>5</td>\n    </tr>\n    <tr>\n      <th>2</th>\n      <td>49</td>\n      <td>1</td>\n      <td>1</td>\n      <td>1</td>\n      <td>0</td>\n      <td>0</td>\n      <td>2096</td>\n      <td>12</td>\n      <td>3</td>\n    </tr>\n    <tr>\n      <th>3</th>\n      <td>45</td>\n      <td>1</td>\n      <td>2</td>\n      <td>0</td>\n      <td>0</td>\n      <td>0</td>\n      <td>7882</td>\n      <td>42</td>\n      <td>4</td>\n    </tr>\n    <tr>\n      <th>4</th>\n      <td>53</td>\n      <td>1</td>\n      <td>2</td>\n      <td>0</td>\n      <td>0</td>\n      <td>0</td>\n      <td>4870</td>\n      <td>24</td>\n      <td>1</td>\n    </tr>\n  </tbody>\n</table>\n</div>"
     },
     "metadata": {}
    }
   ],
   "execution_count": null
  },
  {
   "cell_type": "code",
   "metadata": {
    "cell_id": "00014-cc9de349-877f-4619-8114-d8eb9654490d",
    "deepnote_to_be_reexecuted": false,
    "source_hash": "8e56d5f5",
    "execution_start": 1636739593976,
    "execution_millis": 7,
    "deepnote_cell_type": "code"
   },
   "source": "X = X.iloc[:,:].values\nX",
   "outputs": [
    {
     "output_type": "execute_result",
     "execution_count": 15,
     "data": {
      "text/plain": "array([[  67,    1,    2, ..., 1169,    6,    5],\n       [  22,    0,    2, ..., 5951,   48,    5],\n       [  49,    1,    1, ..., 2096,   12,    3],\n       ...,\n       [  38,    1,    2, ...,  804,   12,    5],\n       [  23,    1,    2, ..., 1845,   45,    5],\n       [  27,    1,    2, ..., 4576,   45,    1]])"
     },
     "metadata": {}
    }
   ],
   "execution_count": null
  },
  {
   "cell_type": "code",
   "metadata": {
    "cell_id": "00015-08f929a3-22d5-4a78-a9d4-e83df7492f05",
    "deepnote_to_be_reexecuted": false,
    "source_hash": "d8b40ea2",
    "execution_start": 1636739593977,
    "execution_millis": 43,
    "deepnote_cell_type": "code"
   },
   "source": "#train, test split\nfrom sklearn.model_selection import train_test_split\n#basic split\nX_train_all, X_test, y_train_all, y_test = train_test_split(X,y, test_size = 0.3)\n#validation split\nX_train, X_validate, y_train, y_validate = train_test_split(X_train_all,y_train_all, test_size = 0.25)",
   "outputs": [],
   "execution_count": null
  },
  {
   "cell_type": "code",
   "metadata": {
    "tags": [],
    "cell_id": "00016-2c28facb-5f45-4bc2-abe5-187b09b57470",
    "deepnote_to_be_reexecuted": false,
    "source_hash": "1ed6e21",
    "execution_start": 1636739594021,
    "execution_millis": 1005,
    "deepnote_cell_type": "code"
   },
   "source": "#metrics\nfrom sklearn import metrics\nimport seaborn as sns\nimport matplotlib.pyplot as plt\n\ndef model_metrics_summary(y_test, y_pred):\n    #Accuracy\n    print(\"Accuracy:\",metrics.accuracy_score(y_test, y_pred))\n    #R2\n    print(\"R2:\", metrics.r2_score(y_test, y_pred))\n    #F1\n    print(\"F1:\", metrics.f1_score(y_test, y_pred))\n    # Recall\n    print(\"Recall:\",metrics.recall_score(y_test, y_pred))\n    # Precision\n    print(\"Precision:\",metrics.precision_score(y_test, y_pred))\n\n    #Confusion Matrix\n    cf_matrix = metrics.confusion_matrix(y_test, y_pred)\n    ax = sns.heatmap(cf_matrix, annot=True, cmap='Blues')\n\n    ax.set_title('Seaborn Confusion Matrix with labels\\n\\n');\n    ax.set_xlabel('\\nPredicted Values')\n    ax.set_ylabel('Actual Values');\n\n    # Ticket labels\n    ax.xaxis.set_ticklabels(['False','True'])\n    ax.yaxis.set_ticklabels(['False','True'])\n\n    ## Display the visualization of the Confusion Matrix.\n    plt.show()\n\n    return metrics.f1_score(y_test, y_pred)\n",
   "outputs": [],
   "execution_count": null
  },
  {
   "cell_type": "code",
   "metadata": {
    "cell_id": "00016-a443b744-e104-4937-b61e-c7e1b120f529",
    "deepnote_to_be_reexecuted": false,
    "source_hash": "55382eca",
    "execution_start": 1636739595044,
    "execution_millis": 817,
    "deepnote_cell_type": "code"
   },
   "source": "#Logistic Regression\nfrom sklearn.linear_model import LogisticRegression\nlog_clf = LogisticRegression(random_state =0)\nlog_clf.fit(X_train,y_train)\ny_pred_log = log_clf.predict(X_validate)\n\nf1_lr = model_metrics_summary(y_validate, y_pred_log)",
   "outputs": [
    {
     "name": "stdout",
     "text": "Accuracy: 0.7771428571428571\nR2: -0.1344747340425534\nF1: 0.865979381443299\nRecall: 0.984375\nPrecision: 0.7730061349693251\n",
     "output_type": "stream"
    },
    {
     "data": {
      "text/plain": "<Figure size 432x288 with 2 Axes>",
      "image/png": "[encoded data removed]"
     },
     "metadata": {
      "needs_background": "light",
      "image/png": {
       "width": 366,
       "height": 320
      }
     },
     "output_type": "display_data"
    }
   ],
   "execution_count": null
  },
  {
   "cell_type": "code",
   "metadata": {
    "tags": [],
    "cell_id": "00018-0ae62e5e-c4a6-4df4-b037-96cca8cab705",
    "deepnote_to_be_reexecuted": false,
    "source_hash": "dc77f0cc",
    "execution_start": 1636739595735,
    "execution_millis": 730,
    "deepnote_cell_type": "code"
   },
   "source": "#KNN\nfrom sklearn.neighbors import KNeighborsClassifier\n\nknn = KNeighborsClassifier(n_neighbors = 23)\n\nknn.fit(X_train, y_train)\ny_pred_knn = knn.predict(X_validate)\n\nf1_knn = model_metrics_summary(y_validate, y_pred_knn)",
   "outputs": [
    {
     "name": "stdout",
     "text": "Accuracy: 0.7314285714285714\nR2: -0.3671875000000002\nF1: 0.8428093645484949\nRecall: 0.984375\nPrecision: 0.7368421052631579\n",
     "output_type": "stream"
    },
    {
     "data": {
      "text/plain": "<Figure size 432x288 with 2 Axes>",
      "image/png": "[encoded data removed]"
     },
     "metadata": {
      "needs_background": "light",
      "image/png": {
       "width": 366,
       "height": 320
      }
     },
     "output_type": "display_data"
    }
   ],
   "execution_count": null
  },
  {
   "cell_type": "code",
   "metadata": {
    "tags": [],
    "cell_id": "00019-d88aa552-897e-4283-a6a6-442aaa8a6ddb",
    "deepnote_to_be_reexecuted": false,
    "source_hash": "8c2ea5c0",
    "execution_start": 1636739596480,
    "execution_millis": 12,
    "deepnote_cell_type": "code"
   },
   "source": "# #SVM\n# from sklearn.svm import SVC\n# SVM_clf_1 = SVC(kernel = 'linear')\n# SVM_clf_1.fit(X_train, y_train)\n# y_pred_svm = SVM_clf_1.predict(X_validate)\n\n# f1_svm = model_metrics_summary(y_validate, y_pred_svm)",
   "outputs": [],
   "execution_count": null
  },
  {
   "cell_type": "code",
   "metadata": {
    "tags": [],
    "cell_id": "00020-60e271f8-2639-473e-9dc5-850163c58c73",
    "deepnote_to_be_reexecuted": false,
    "source_hash": "207c68f6",
    "execution_start": 1636739596500,
    "execution_millis": 1218,
    "deepnote_cell_type": "code"
   },
   "source": "#Random Forest\nfrom sklearn.ensemble import RandomForestClassifier\nClassifier_RF = RandomForestClassifier(n_estimators=140,criterion = 'entropy')\nClassifier_RF.fit(X_train, y_train)\ny_pred_rf = Classifier_RF.predict(X_validate)\nf1_rf = model_metrics_summary(y_validate, y_pred_rf)",
   "outputs": [
    {
     "name": "stdout",
     "text": "Accuracy: 0.7085714285714285\nR2: -0.48354388297872375\nF1: 0.8145454545454546\nRecall: 0.875\nPrecision: 0.7619047619047619\n",
     "output_type": "stream"
    },
    {
     "data": {
      "text/plain": "<Figure size 432x288 with 2 Axes>",
      "image/png": "[encoded data removed]"
     },
     "metadata": {
      "needs_background": "light",
      "image/png": {
       "width": 366,
       "height": 320
      }
     },
     "output_type": "display_data"
    }
   ],
   "execution_count": null
  },
  {
   "cell_type": "code",
   "metadata": {
    "tags": [],
    "cell_id": "00026-bde86fe9-3183-45f2-a380-ca310b0921a0",
    "deepnote_to_be_reexecuted": false,
    "source_hash": "b5a4a2be",
    "execution_start": 1636739597725,
    "execution_millis": 637,
    "deepnote_cell_type": "code"
   },
   "source": "#Decision Tree\nfrom sklearn.tree import DecisionTreeClassifier\n\nclassifier_DT = DecisionTreeClassifier(criterion='entropy')\nclassifier_DT.fit(X_train,y_train)\ny_pred_dt = classifier_DT.predict(X_validate)\n\nf1_dt = model_metrics_summary(y_validate, y_pred_dt)",
   "outputs": [
    {
     "name": "stdout",
     "text": "Accuracy: 0.6228571428571429\nR2: -0.9198803191489366\nF1: 0.7317073170731708\nRecall: 0.703125\nPrecision: 0.7627118644067796\n",
     "output_type": "stream"
    },
    {
     "data": {
      "text/plain": "<Figure size 432x288 with 2 Axes>",
      "image/png": "[encoded data removed]"
     },
     "metadata": {
      "needs_background": "light",
      "image/png": {
       "width": 360,
       "height": 320
      }
     },
     "output_type": "display_data"
    }
   ],
   "execution_count": null
  },
  {
   "cell_type": "code",
   "metadata": {
    "tags": [],
    "cell_id": "00021-dbed5a1f-10f2-4c87-9e73-588139c19cb9",
    "deepnote_to_be_reexecuted": false,
    "source_hash": "3485a45d",
    "execution_start": 1636739598385,
    "execution_millis": 521,
    "deepnote_cell_type": "code"
   },
   "source": "#QDA\nfrom sklearn.discriminant_analysis import QuadraticDiscriminantAnalysis\n\nclf_qda = QuadraticDiscriminantAnalysis()\nclf_qda.fit(X_train, y_train)\ny_pred_qda = clf_qda.predict(X_validate)\n\nf1_qda = model_metrics_summary(y_validate, y_pred_qda)",
   "outputs": [
    {
     "name": "stdout",
     "text": "Accuracy: 0.7942857142857143\nR2: -0.047207446808510856\nF1: 0.8686131386861314\nRecall: 0.9296875\nPrecision: 0.815068493150685\n",
     "output_type": "stream"
    },
    {
     "data": {
      "text/plain": "<Figure size 432x288 with 2 Axes>",
      "image/png": "[encoded data removed]"
     },
     "metadata": {
      "needs_background": "light",
      "image/png": {
       "width": 366,
       "height": 320
      }
     },
     "output_type": "display_data"
    }
   ],
   "execution_count": null
  },
  {
   "cell_type": "code",
   "metadata": {
    "tags": [],
    "cell_id": "00022-62a9a6bd-01d3-4e3c-a79e-18a0b3ef8acb",
    "deepnote_to_be_reexecuted": false,
    "source_hash": "78793294",
    "execution_start": 1636739598914,
    "execution_millis": 829,
    "deepnote_cell_type": "code"
   },
   "source": "#Gradient Boosting\nfrom sklearn.datasets import make_hastie_10_2\nfrom sklearn.ensemble import GradientBoostingClassifier\n\nclf_gb = GradientBoostingClassifier(n_estimators=100, learning_rate=1.0, max_depth=1, random_state=0).fit(X_train, y_train)\ny_pred_gb = clf_gb.predict(X_validate)\n\nf1_gb = model_metrics_summary(y_validate, y_pred_gb)",
   "outputs": [
    {
     "name": "stdout",
     "text": "Accuracy: 0.7657142857142857\nR2: -0.19265292553191515\nF1: 0.8487084870848708\nRecall: 0.8984375\nPrecision: 0.8041958041958042\n",
     "output_type": "stream"
    },
    {
     "data": {
      "text/plain": "<Figure size 432x288 with 2 Axes>",
      "image/png": "[encoded data removed]"
     },
     "metadata": {
      "needs_background": "light",
      "image/png": {
       "width": 366,
       "height": 320
      }
     },
     "output_type": "display_data"
    }
   ],
   "execution_count": null
  },
  {
   "cell_type": "code",
   "metadata": {
    "tags": [],
    "cell_id": "00024-ffcad6d7-b9ba-4b51-9f26-087ed6fa3a27",
    "deepnote_to_be_reexecuted": false,
    "source_hash": "cdc924af",
    "execution_start": 1636739599754,
    "execution_millis": 21,
    "deepnote_cell_type": "code"
   },
   "source": "#predicted_validate = pd.DataFrame(data=np.array([y_pred_lr,y_pred_knn, y_pred_svm, y_pred_rf, y_pred_dt, y_pred_qda, y_pred_gb]), columns=['Logistic Regression','KNN','SVM','Random Forest','Decision Tree','QDA','Gradient Boosting'])",
   "outputs": [],
   "execution_count": null
  },
  {
   "cell_type": "markdown",
   "source": "# Model exports",
   "metadata": {
    "tags": [],
    "cell_id": "00026-9a641658-76ac-422a-afde-150c4c5bef08",
    "deepnote_cell_type": "markdown"
   }
  },
  {
   "cell_type": "code",
   "metadata": {
    "tags": [],
    "cell_id": "00026-80843407-9dbe-4461-bfe1-c96786a88c92",
    "deepnote_to_be_reexecuted": false,
    "source_hash": "f97bb110",
    "execution_start": 1636739599778,
    "execution_millis": 12,
    "deepnote_cell_type": "code"
   },
   "source": "import pickle\n\n# classifier_DT\nfilename = 'classifier_DT.sav'\npickle.dump(classifier_DT, open(filename, 'wb'))",
   "outputs": [],
   "execution_count": null
  },
  {
   "cell_type": "code",
   "metadata": {
    "tags": [],
    "cell_id": "00027-4223a939-fd0c-4731-98d8-f6dd6f5405c8",
    "deepnote_to_be_reexecuted": false,
    "source_hash": "8f881cf3",
    "execution_start": 1636739599802,
    "execution_millis": 21,
    "deepnote_cell_type": "code"
   },
   "source": "loaded_model = pickle.load(open(filename, 'rb'))\nresult = loaded_model.predict(X_test)\n#print(result)",
   "outputs": [],
   "execution_count": null
  },
  {
   "cell_type": "code",
   "metadata": {
    "tags": [],
    "cell_id": "00029-8d77826a-63a0-4c34-8be0-8e7e0e335a73",
    "deepnote_to_be_reexecuted": false,
    "source_hash": "a78c2154",
    "execution_start": 1636739599830,
    "execution_millis": 51,
    "deepnote_cell_type": "code"
   },
   "source": "sample = ['22', 'female', '1 - unskilled and resident', 'own', 'little', 'moderate', '2000', '12', 'business']\n\nsample1 = []\n\ndef input_encoding(sample, encoders):\n    sample[0] = int(sample[0])\n    sample[1] = int(encoders[\"Sex\"].transform([sample[1]]))\n    sample[2] = int(encoders[\"Job\"].transform([sample[2]]))\n    sample[3] = int(encoders[\"Housing\"].transform([sample[3]]))\n    sample[4] = int(encoders[\"Saving_accounts\"].transform([sample[4]]))\n    sample[5] = int(encoders[\"Checking_account\"].transform([sample[5]]))\n    sample[6] = int(sample[6])\n    sample[7] = int(sample[7])\n    sample[8] = int(encoders[\"Purpose\"].transform([sample[8]]))\n\n    return sample\n\ninput_encoding(sample, encoders)",
   "outputs": [
    {
     "output_type": "execute_result",
     "execution_count": 28,
     "data": {
      "text/plain": "[22, 0, 1, 1, 0, 1, 2000, 12, 0]"
     },
     "metadata": {}
    }
   ],
   "execution_count": null
  },
  {
   "cell_type": "code",
   "source": "filename = 'encoders.sav'\npickle.dump(encoders, open(filename, 'wb'))\nsample",
   "metadata": {
    "tags": [],
    "cell_id": "00029-da083b14-73b9-4a81-93ec-51158ded115d",
    "deepnote_to_be_reexecuted": false,
    "source_hash": "16ba39a4",
    "execution_start": 1636739599877,
    "execution_millis": 6,
    "deepnote_cell_type": "code"
   },
   "outputs": [
    {
     "output_type": "execute_result",
     "execution_count": 29,
     "data": {
      "text/plain": "[22, 0, 1, 1, 0, 1, 2000, 12, 0]"
     },
     "metadata": {}
    }
   ],
   "execution_count": null
  },
  {
   "cell_type": "code",
   "source": "classifier_DT.predict([sample])",
   "metadata": {
    "tags": [],
    "cell_id": "00030-3ec2336b-961e-4f29-b6b0-c688675043e7",
    "deepnote_to_be_reexecuted": false,
    "source_hash": "a5e8db1f",
    "execution_start": 1636739599878,
    "execution_millis": 40,
    "deepnote_cell_type": "code"
   },
   "outputs": [
    {
     "output_type": "execute_result",
     "execution_count": 30,
     "data": {
      "text/plain": "array([1])"
     },
     "metadata": {}
    }
   ],
   "execution_count": null
  },
  {
   "cell_type": "code",
   "source": "df1[\"Risk\"].value_counts()",
   "metadata": {
    "tags": [],
    "cell_id": "00031-fd11ff43-18b8-4093-be17-4cbf0c5e1d62",
    "deepnote_to_be_reexecuted": false,
    "source_hash": "5588b95e",
    "execution_start": 1636739599917,
    "execution_millis": 3,
    "deepnote_cell_type": "code"
   },
   "outputs": [
    {
     "output_type": "execute_result",
     "execution_count": 31,
     "data": {
      "text/plain": "good    700\nbad     300\nName: Risk, dtype: int64"
     },
     "metadata": {}
    }
   ],
   "execution_count": null
  },
  {
   "cell_type": "markdown",
   "source": "<a style='text-decoration:none;line-height:16px;display:flex;color:#5B5B62;padding:10px;justify-content:end;' href='https://deepnote.com?utm_source=created-in-deepnote-cell&projectId=7ae26215-5d2b-47fa-95ae-2604a34ea4f1' target=\"_blank\">\n<img alt='Created in deepnote.com' style='display:inline;max-height:16px;margin:0px;margin-right:7.5px;' src='data:image/svg+xml;base64,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' > </img>\nCreated in <span style='font-weight:600;margin-left:4px;'>Deepnote</span></a>",
   "metadata": {
    "tags": [],
    "created_in_deepnote_cell": true,
    "deepnote_cell_type": "markdown"
   }
  }
 ],
 "nbformat": 4,
 "nbformat_minor": 4,
 "metadata": {
  "kernelspec": {
   "display_name": "Python 3",
   "language": "python",
   "name": "python3"
  },
  "language_info": {
   "codemirror_mode": {
    "name": "ipython",
    "version": 3
   },
   "file_extension": ".py",
   "mimetype": "text/x-python",
   "name": "python",
   "nbconvert_exporter": "python",
   "pygments_lexer": "ipython3",
   "version": "3.8.5"
  },
  "deepnote_notebook_id": "7620113f-37f5-4ec1-a3a0-5b2ca6a16e09",
  "deepnote": {},
  "deepnote_execution_queue": []
 }
}